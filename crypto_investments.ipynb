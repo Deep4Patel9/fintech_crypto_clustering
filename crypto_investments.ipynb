{
 "cells": [
  {
   "cell_type": "markdown",
   "metadata": {},
   "source": [
    "# Module 10 Application\n",
    "\n",
    "## Challenge: Crypto Clustering\n",
    "\n",
    "In this Challenge, you’ll combine your financial Python programming skills with the new unsupervised learning skills that you acquired in this module.\n",
    "\n",
    "The CSV file provided for this challenge contains price change data of cryptocurrencies in different periods.\n",
    "\n",
    "The steps for this challenge are broken out into the following sections:\n",
    "\n",
    "* Import the Data (provided in the starter code)\n",
    "* Prepare the Data (provided in the starter code)\n",
    "* Find the Best Value for `k` Using the Original Data\n",
    "* Cluster Cryptocurrencies with K-means Using the Original Data\n",
    "* Optimize Clusters with Principal Component Analysis\n",
    "* Find the Best Value for `k` Using the PCA Data\n",
    "* Cluster the Cryptocurrencies with K-means Using the PCA Data\n",
    "* Visualize and Compare the Results"
   ]
  },
  {
   "cell_type": "markdown",
   "metadata": {},
   "source": [
    "### Import the Data\n",
    "\n",
    "This section imports the data into a new DataFrame. It follows these steps:\n",
    "\n",
    "1. Read  the “crypto_market_data.csv” file from the Resources folder into a DataFrame, and use `index_col=\"coin_id\"` to set the cryptocurrency name as the index. Review the DataFrame.\n",
    "\n",
    "2. Generate the summary statistics, and use HvPlot to visualize your data to observe what your DataFrame contains.\n",
    "\n",
    "\n",
    "> **Rewind:** The [Pandas`describe()`function](https://pandas.pydata.org/pandas-docs/stable/reference/api/pandas.DataFrame.describe.html) generates summary statistics for a DataFrame. "
   ]
  },
  {
   "cell_type": "code",
   "execution_count": 2,
   "metadata": {},
   "outputs": [],
   "source": [
    "# Import required libraries and dependencies\n",
    "import pandas as pd\n",
    "import hvplot.pandas\n",
    "from path import Path\n",
    "from sklearn.cluster import KMeans\n",
    "from sklearn.decomposition import PCA\n",
    "from sklearn.preprocessing import StandardScaler"
   ]
  },
  {
   "cell_type": "code",
   "execution_count": 3,
   "metadata": {},
   "outputs": [
    {
     "data": {
      "text/html": [
       "<div>\n",
       "<style scoped>\n",
       "    .dataframe tbody tr th:only-of-type {\n",
       "        vertical-align: middle;\n",
       "    }\n",
       "\n",
       "    .dataframe tbody tr th {\n",
       "        vertical-align: top;\n",
       "    }\n",
       "\n",
       "    .dataframe thead th {\n",
       "        text-align: right;\n",
       "    }\n",
       "</style>\n",
       "<table border=\"1\" class=\"dataframe\">\n",
       "  <thead>\n",
       "    <tr style=\"text-align: right;\">\n",
       "      <th></th>\n",
       "      <th>price_change_percentage_24h</th>\n",
       "      <th>price_change_percentage_7d</th>\n",
       "      <th>price_change_percentage_14d</th>\n",
       "      <th>price_change_percentage_30d</th>\n",
       "      <th>price_change_percentage_60d</th>\n",
       "      <th>price_change_percentage_200d</th>\n",
       "      <th>price_change_percentage_1y</th>\n",
       "    </tr>\n",
       "    <tr>\n",
       "      <th>coin_id</th>\n",
       "      <th></th>\n",
       "      <th></th>\n",
       "      <th></th>\n",
       "      <th></th>\n",
       "      <th></th>\n",
       "      <th></th>\n",
       "      <th></th>\n",
       "    </tr>\n",
       "  </thead>\n",
       "  <tbody>\n",
       "    <tr>\n",
       "      <th>bitcoin</th>\n",
       "      <td>1.08388</td>\n",
       "      <td>7.60278</td>\n",
       "      <td>6.57509</td>\n",
       "      <td>7.67258</td>\n",
       "      <td>-3.25185</td>\n",
       "      <td>83.51840</td>\n",
       "      <td>37.51761</td>\n",
       "    </tr>\n",
       "    <tr>\n",
       "      <th>ethereum</th>\n",
       "      <td>0.22392</td>\n",
       "      <td>10.38134</td>\n",
       "      <td>4.80849</td>\n",
       "      <td>0.13169</td>\n",
       "      <td>-12.88890</td>\n",
       "      <td>186.77418</td>\n",
       "      <td>101.96023</td>\n",
       "    </tr>\n",
       "    <tr>\n",
       "      <th>tether</th>\n",
       "      <td>-0.21173</td>\n",
       "      <td>0.04935</td>\n",
       "      <td>0.00640</td>\n",
       "      <td>-0.04237</td>\n",
       "      <td>0.28037</td>\n",
       "      <td>-0.00542</td>\n",
       "      <td>0.01954</td>\n",
       "    </tr>\n",
       "    <tr>\n",
       "      <th>ripple</th>\n",
       "      <td>-0.37819</td>\n",
       "      <td>-0.60926</td>\n",
       "      <td>2.24984</td>\n",
       "      <td>0.23455</td>\n",
       "      <td>-17.55245</td>\n",
       "      <td>39.53888</td>\n",
       "      <td>-16.60193</td>\n",
       "    </tr>\n",
       "    <tr>\n",
       "      <th>bitcoin-cash</th>\n",
       "      <td>2.90585</td>\n",
       "      <td>17.09717</td>\n",
       "      <td>14.75334</td>\n",
       "      <td>15.74903</td>\n",
       "      <td>-13.71793</td>\n",
       "      <td>21.66042</td>\n",
       "      <td>14.49384</td>\n",
       "    </tr>\n",
       "    <tr>\n",
       "      <th>binancecoin</th>\n",
       "      <td>2.10423</td>\n",
       "      <td>12.85511</td>\n",
       "      <td>6.80688</td>\n",
       "      <td>0.05865</td>\n",
       "      <td>36.33486</td>\n",
       "      <td>155.61937</td>\n",
       "      <td>69.69195</td>\n",
       "    </tr>\n",
       "    <tr>\n",
       "      <th>chainlink</th>\n",
       "      <td>-0.23935</td>\n",
       "      <td>20.69459</td>\n",
       "      <td>9.30098</td>\n",
       "      <td>-11.21747</td>\n",
       "      <td>-43.69522</td>\n",
       "      <td>403.22917</td>\n",
       "      <td>325.13186</td>\n",
       "    </tr>\n",
       "    <tr>\n",
       "      <th>cardano</th>\n",
       "      <td>0.00322</td>\n",
       "      <td>13.99302</td>\n",
       "      <td>5.55476</td>\n",
       "      <td>10.10553</td>\n",
       "      <td>-22.84776</td>\n",
       "      <td>264.51418</td>\n",
       "      <td>156.09756</td>\n",
       "    </tr>\n",
       "    <tr>\n",
       "      <th>litecoin</th>\n",
       "      <td>-0.06341</td>\n",
       "      <td>6.60221</td>\n",
       "      <td>7.28931</td>\n",
       "      <td>1.21662</td>\n",
       "      <td>-17.23960</td>\n",
       "      <td>27.49919</td>\n",
       "      <td>-12.66408</td>\n",
       "    </tr>\n",
       "    <tr>\n",
       "      <th>bitcoin-cash-sv</th>\n",
       "      <td>0.92530</td>\n",
       "      <td>3.29641</td>\n",
       "      <td>-1.86656</td>\n",
       "      <td>2.88926</td>\n",
       "      <td>-24.87434</td>\n",
       "      <td>7.42562</td>\n",
       "      <td>93.73082</td>\n",
       "    </tr>\n",
       "  </tbody>\n",
       "</table>\n",
       "</div>"
      ],
      "text/plain": [
       "                 price_change_percentage_24h  price_change_percentage_7d  \\\n",
       "coin_id                                                                    \n",
       "bitcoin                              1.08388                     7.60278   \n",
       "ethereum                             0.22392                    10.38134   \n",
       "tether                              -0.21173                     0.04935   \n",
       "ripple                              -0.37819                    -0.60926   \n",
       "bitcoin-cash                         2.90585                    17.09717   \n",
       "binancecoin                          2.10423                    12.85511   \n",
       "chainlink                           -0.23935                    20.69459   \n",
       "cardano                              0.00322                    13.99302   \n",
       "litecoin                            -0.06341                     6.60221   \n",
       "bitcoin-cash-sv                      0.92530                     3.29641   \n",
       "\n",
       "                 price_change_percentage_14d  price_change_percentage_30d  \\\n",
       "coin_id                                                                     \n",
       "bitcoin                              6.57509                      7.67258   \n",
       "ethereum                             4.80849                      0.13169   \n",
       "tether                               0.00640                     -0.04237   \n",
       "ripple                               2.24984                      0.23455   \n",
       "bitcoin-cash                        14.75334                     15.74903   \n",
       "binancecoin                          6.80688                      0.05865   \n",
       "chainlink                            9.30098                    -11.21747   \n",
       "cardano                              5.55476                     10.10553   \n",
       "litecoin                             7.28931                      1.21662   \n",
       "bitcoin-cash-sv                     -1.86656                      2.88926   \n",
       "\n",
       "                 price_change_percentage_60d  price_change_percentage_200d  \\\n",
       "coin_id                                                                      \n",
       "bitcoin                             -3.25185                      83.51840   \n",
       "ethereum                           -12.88890                     186.77418   \n",
       "tether                               0.28037                      -0.00542   \n",
       "ripple                             -17.55245                      39.53888   \n",
       "bitcoin-cash                       -13.71793                      21.66042   \n",
       "binancecoin                         36.33486                     155.61937   \n",
       "chainlink                          -43.69522                     403.22917   \n",
       "cardano                            -22.84776                     264.51418   \n",
       "litecoin                           -17.23960                      27.49919   \n",
       "bitcoin-cash-sv                    -24.87434                       7.42562   \n",
       "\n",
       "                 price_change_percentage_1y  \n",
       "coin_id                                      \n",
       "bitcoin                            37.51761  \n",
       "ethereum                          101.96023  \n",
       "tether                              0.01954  \n",
       "ripple                            -16.60193  \n",
       "bitcoin-cash                       14.49384  \n",
       "binancecoin                        69.69195  \n",
       "chainlink                         325.13186  \n",
       "cardano                           156.09756  \n",
       "litecoin                          -12.66408  \n",
       "bitcoin-cash-sv                    93.73082  "
      ]
     },
     "execution_count": 3,
     "metadata": {},
     "output_type": "execute_result"
    }
   ],
   "source": [
    "# Load the data into a Pandas DataFrame\n",
    "df_market_data = pd.read_csv(\n",
    "    Path(\"Resources/crypto_market_data.csv\"),\n",
    "    index_col=\"coin_id\")\n",
    "\n",
    "# Display sample data\n",
    "df_market_data.head(10)"
   ]
  },
  {
   "cell_type": "code",
   "execution_count": 4,
   "metadata": {},
   "outputs": [
    {
     "data": {
      "text/html": [
       "<div>\n",
       "<style scoped>\n",
       "    .dataframe tbody tr th:only-of-type {\n",
       "        vertical-align: middle;\n",
       "    }\n",
       "\n",
       "    .dataframe tbody tr th {\n",
       "        vertical-align: top;\n",
       "    }\n",
       "\n",
       "    .dataframe thead th {\n",
       "        text-align: right;\n",
       "    }\n",
       "</style>\n",
       "<table border=\"1\" class=\"dataframe\">\n",
       "  <thead>\n",
       "    <tr style=\"text-align: right;\">\n",
       "      <th></th>\n",
       "      <th>price_change_percentage_24h</th>\n",
       "      <th>price_change_percentage_7d</th>\n",
       "      <th>price_change_percentage_14d</th>\n",
       "      <th>price_change_percentage_30d</th>\n",
       "      <th>price_change_percentage_60d</th>\n",
       "      <th>price_change_percentage_200d</th>\n",
       "      <th>price_change_percentage_1y</th>\n",
       "    </tr>\n",
       "  </thead>\n",
       "  <tbody>\n",
       "    <tr>\n",
       "      <th>count</th>\n",
       "      <td>41.000000</td>\n",
       "      <td>41.000000</td>\n",
       "      <td>41.000000</td>\n",
       "      <td>41.000000</td>\n",
       "      <td>41.000000</td>\n",
       "      <td>41.000000</td>\n",
       "      <td>41.000000</td>\n",
       "    </tr>\n",
       "    <tr>\n",
       "      <th>mean</th>\n",
       "      <td>-0.269686</td>\n",
       "      <td>4.497147</td>\n",
       "      <td>0.185787</td>\n",
       "      <td>1.545693</td>\n",
       "      <td>-0.094119</td>\n",
       "      <td>236.537432</td>\n",
       "      <td>347.667956</td>\n",
       "    </tr>\n",
       "    <tr>\n",
       "      <th>std</th>\n",
       "      <td>2.694793</td>\n",
       "      <td>6.375218</td>\n",
       "      <td>8.376939</td>\n",
       "      <td>26.344218</td>\n",
       "      <td>47.365803</td>\n",
       "      <td>435.225304</td>\n",
       "      <td>1247.842884</td>\n",
       "    </tr>\n",
       "    <tr>\n",
       "      <th>min</th>\n",
       "      <td>-13.527860</td>\n",
       "      <td>-6.094560</td>\n",
       "      <td>-18.158900</td>\n",
       "      <td>-34.705480</td>\n",
       "      <td>-44.822480</td>\n",
       "      <td>-0.392100</td>\n",
       "      <td>-17.567530</td>\n",
       "    </tr>\n",
       "    <tr>\n",
       "      <th>25%</th>\n",
       "      <td>-0.608970</td>\n",
       "      <td>0.047260</td>\n",
       "      <td>-5.026620</td>\n",
       "      <td>-10.438470</td>\n",
       "      <td>-25.907990</td>\n",
       "      <td>21.660420</td>\n",
       "      <td>0.406170</td>\n",
       "    </tr>\n",
       "    <tr>\n",
       "      <th>50%</th>\n",
       "      <td>-0.063410</td>\n",
       "      <td>3.296410</td>\n",
       "      <td>0.109740</td>\n",
       "      <td>-0.042370</td>\n",
       "      <td>-7.544550</td>\n",
       "      <td>83.905200</td>\n",
       "      <td>69.691950</td>\n",
       "    </tr>\n",
       "    <tr>\n",
       "      <th>75%</th>\n",
       "      <td>0.612090</td>\n",
       "      <td>7.602780</td>\n",
       "      <td>5.510740</td>\n",
       "      <td>4.578130</td>\n",
       "      <td>0.657260</td>\n",
       "      <td>216.177610</td>\n",
       "      <td>168.372510</td>\n",
       "    </tr>\n",
       "    <tr>\n",
       "      <th>max</th>\n",
       "      <td>4.840330</td>\n",
       "      <td>20.694590</td>\n",
       "      <td>24.239190</td>\n",
       "      <td>140.795700</td>\n",
       "      <td>223.064370</td>\n",
       "      <td>2227.927820</td>\n",
       "      <td>7852.089700</td>\n",
       "    </tr>\n",
       "  </tbody>\n",
       "</table>\n",
       "</div>"
      ],
      "text/plain": [
       "       price_change_percentage_24h  price_change_percentage_7d  \\\n",
       "count                    41.000000                   41.000000   \n",
       "mean                     -0.269686                    4.497147   \n",
       "std                       2.694793                    6.375218   \n",
       "min                     -13.527860                   -6.094560   \n",
       "25%                      -0.608970                    0.047260   \n",
       "50%                      -0.063410                    3.296410   \n",
       "75%                       0.612090                    7.602780   \n",
       "max                       4.840330                   20.694590   \n",
       "\n",
       "       price_change_percentage_14d  price_change_percentage_30d  \\\n",
       "count                    41.000000                    41.000000   \n",
       "mean                      0.185787                     1.545693   \n",
       "std                       8.376939                    26.344218   \n",
       "min                     -18.158900                   -34.705480   \n",
       "25%                      -5.026620                   -10.438470   \n",
       "50%                       0.109740                    -0.042370   \n",
       "75%                       5.510740                     4.578130   \n",
       "max                      24.239190                   140.795700   \n",
       "\n",
       "       price_change_percentage_60d  price_change_percentage_200d  \\\n",
       "count                    41.000000                     41.000000   \n",
       "mean                     -0.094119                    236.537432   \n",
       "std                      47.365803                    435.225304   \n",
       "min                     -44.822480                     -0.392100   \n",
       "25%                     -25.907990                     21.660420   \n",
       "50%                      -7.544550                     83.905200   \n",
       "75%                       0.657260                    216.177610   \n",
       "max                     223.064370                   2227.927820   \n",
       "\n",
       "       price_change_percentage_1y  \n",
       "count                   41.000000  \n",
       "mean                   347.667956  \n",
       "std                   1247.842884  \n",
       "min                    -17.567530  \n",
       "25%                      0.406170  \n",
       "50%                     69.691950  \n",
       "75%                    168.372510  \n",
       "max                   7852.089700  "
      ]
     },
     "execution_count": 4,
     "metadata": {},
     "output_type": "execute_result"
    }
   ],
   "source": [
    "# Generate summary statistics\n",
    "df_market_data.describe()"
   ]
  },
  {
   "cell_type": "code",
   "execution_count": 5,
   "metadata": {},
   "outputs": [
    {
     "data": {},
     "metadata": {},
     "output_type": "display_data"
    },
    {
     "data": {
      "application/vnd.holoviews_exec.v0+json": "",
      "text/html": [
       "<div id='1002'>\n",
       "\n",
       "\n",
       "\n",
       "\n",
       "\n",
       "  <div class=\"bk-root\" id=\"0523549f-a3c2-4032-baee-8ae76de35d0e\" data-root-id=\"1002\"></div>\n",
       "</div>\n",
       "<script type=\"application/javascript\">(function(root) {\n",
       "  function embed_document(root) {\n",
       "    var docs_json = {\"82923641-dff6-4afc-908d-d24c25b1480a\":{\"defs\":[{\"extends\":null,\"module\":null,\"name\":\"ReactiveHTML1\",\"overrides\":[],\"properties\":[]},{\"extends\":null,\"module\":null,\"name\":\"FlexBox1\",\"overrides\":[],\"properties\":[{\"default\":\"flex-start\",\"kind\":null,\"name\":\"align_content\"},{\"default\":\"flex-start\",\"kind\":null,\"name\":\"align_items\"},{\"default\":\"row\",\"kind\":null,\"name\":\"flex_direction\"},{\"default\":\"wrap\",\"kind\":null,\"name\":\"flex_wrap\"},{\"default\":\"flex-start\",\"kind\":null,\"name\":\"justify_content\"}]},{\"extends\":null,\"module\":null,\"name\":\"TemplateActions1\",\"overrides\":[],\"properties\":[{\"default\":0,\"kind\":null,\"name\":\"open_modal\"},{\"default\":0,\"kind\":null,\"name\":\"close_modal\"}]},{\"extends\":null,\"module\":null,\"name\":\"MaterialTemplateActions1\",\"overrides\":[],\"properties\":[{\"default\":0,\"kind\":null,\"name\":\"open_modal\"},{\"default\":0,\"kind\":null,\"name\":\"close_modal\"}]}],\"roots\":{\"references\":[{\"attributes\":{},\"id\":\"1030\",\"type\":\"PanTool\"},{\"attributes\":{\"line_color\":\"#8b8b8b\",\"line_width\":2,\"x\":{\"field\":\"coin_id\"},\"y\":{\"field\":\"value\"}},\"id\":\"1144\",\"type\":\"Line\"},{\"attributes\":{\"data_source\":{\"id\":\"1091\"},\"glyph\":{\"id\":\"1094\"},\"hover_glyph\":null,\"muted_glyph\":{\"id\":\"1096\"},\"nonselection_glyph\":{\"id\":\"1095\"},\"selection_glyph\":{\"id\":\"1114\"},\"view\":{\"id\":\"1098\"}},\"id\":\"1097\",\"type\":\"GlyphRenderer\"},{\"attributes\":{\"source\":{\"id\":\"1169\"}},\"id\":\"1176\",\"type\":\"CDSView\"},{\"attributes\":{\"margin\":[5,5,5,5],\"name\":\"HSpacer01774\",\"sizing_mode\":\"stretch_width\"},\"id\":\"1429\",\"type\":\"Spacer\"},{\"attributes\":{},\"id\":\"1033\",\"type\":\"ResetTool\"},{\"attributes\":{\"line_color\":\"#30a2da\",\"line_width\":2,\"x\":{\"field\":\"coin_id\"},\"y\":{\"field\":\"value\"}},\"id\":\"1051\",\"type\":\"Line\"},{\"attributes\":{},\"id\":\"1170\",\"type\":\"Selection\"},{\"attributes\":{},\"id\":\"1031\",\"type\":\"WheelZoomTool\"},{\"attributes\":{\"line_alpha\":0.1,\"line_color\":\"#9467bd\",\"line_width\":2,\"x\":{\"field\":\"coin_id\"},\"y\":{\"field\":\"value\"}},\"id\":\"1203\",\"type\":\"Line\"},{\"attributes\":{\"margin\":[5,5,5,5],\"name\":\"HSpacer01773\",\"sizing_mode\":\"stretch_width\"},\"id\":\"1003\",\"type\":\"Spacer\"},{\"attributes\":{\"overlay\":{\"id\":\"1034\"}},\"id\":\"1032\",\"type\":\"BoxZoomTool\"},{\"attributes\":{},\"id\":\"1228\",\"type\":\"UnionRenderers\"},{\"attributes\":{},\"id\":\"1138\",\"type\":\"UnionRenderers\"},{\"attributes\":{\"active_multi\":null,\"tools\":[{\"id\":\"1006\"},{\"id\":\"1029\"},{\"id\":\"1030\"},{\"id\":\"1031\"},{\"id\":\"1032\"},{\"id\":\"1033\"}]},\"id\":\"1035\",\"type\":\"Toolbar\"},{\"attributes\":{\"line_alpha\":0.1,\"line_color\":\"#e5ae38\",\"line_width\":2,\"x\":{\"field\":\"coin_id\"},\"y\":{\"field\":\"value\"}},\"id\":\"1095\",\"type\":\"Line\"},{\"attributes\":{\"source\":{\"id\":\"1091\"}},\"id\":\"1098\",\"type\":\"CDSView\"},{\"attributes\":{\"data_source\":{\"id\":\"1115\"},\"glyph\":{\"id\":\"1118\"},\"hover_glyph\":null,\"muted_glyph\":{\"id\":\"1120\"},\"nonselection_glyph\":{\"id\":\"1119\"},\"selection_glyph\":{\"id\":\"1140\"},\"view\":{\"id\":\"1122\"}},\"id\":\"1121\",\"type\":\"GlyphRenderer\"},{\"attributes\":{\"source\":{\"id\":\"1115\"}},\"id\":\"1122\",\"type\":\"CDSView\"},{\"attributes\":{\"line_alpha\":0.2,\"line_color\":\"#30a2da\",\"line_width\":2,\"x\":{\"field\":\"coin_id\"},\"y\":{\"field\":\"value\"}},\"id\":\"1053\",\"type\":\"Line\"},{\"attributes\":{\"line_color\":\"#fc4f30\",\"line_width\":2,\"x\":{\"field\":\"coin_id\"},\"y\":{\"field\":\"value\"}},\"id\":\"1090\",\"type\":\"Line\"},{\"attributes\":{},\"id\":\"1142\",\"type\":\"Selection\"},{\"attributes\":{\"source\":{\"id\":\"1048\"}},\"id\":\"1055\",\"type\":\"CDSView\"},{\"attributes\":{\"line_color\":\"#6d904f\",\"line_width\":2,\"x\":{\"field\":\"coin_id\"},\"y\":{\"field\":\"value\"}},\"id\":\"1140\",\"type\":\"Line\"},{\"attributes\":{\"label\":{\"value\":\"price_change_percentage_200d\"},\"renderers\":[{\"id\":\"1175\"}]},\"id\":\"1197\",\"type\":\"LegendItem\"},{\"attributes\":{\"line_alpha\":0.1,\"line_color\":\"#30a2da\",\"line_width\":2,\"x\":{\"field\":\"coin_id\"},\"y\":{\"field\":\"value\"}},\"id\":\"1052\",\"type\":\"Line\"},{\"attributes\":{\"source\":{\"id\":\"1069\"}},\"id\":\"1076\",\"type\":\"CDSView\"},{\"attributes\":{\"click_policy\":\"mute\",\"items\":[{\"id\":\"1067\"},{\"id\":\"1089\"},{\"id\":\"1113\"},{\"id\":\"1139\"},{\"id\":\"1167\"},{\"id\":\"1197\"},{\"id\":\"1229\"}],\"location\":[0,0],\"title\":\"Variable\"},\"id\":\"1066\",\"type\":\"Legend\"},{\"attributes\":{\"data\":{\"Variable\":[\"price_change_percentage_200d\",\"price_change_percentage_200d\",\"price_change_percentage_200d\",\"price_change_percentage_200d\",\"price_change_percentage_200d\",\"price_change_percentage_200d\",\"price_change_percentage_200d\",\"price_change_percentage_200d\",\"price_change_percentage_200d\",\"price_change_percentage_200d\",\"price_change_percentage_200d\",\"price_change_percentage_200d\",\"price_change_percentage_200d\",\"price_change_percentage_200d\",\"price_change_percentage_200d\",\"price_change_percentage_200d\",\"price_change_percentage_200d\",\"price_change_percentage_200d\",\"price_change_percentage_200d\",\"price_change_percentage_200d\",\"price_change_percentage_200d\",\"price_change_percentage_200d\",\"price_change_percentage_200d\",\"price_change_percentage_200d\",\"price_change_percentage_200d\",\"price_change_percentage_200d\",\"price_change_percentage_200d\",\"price_change_percentage_200d\",\"price_change_percentage_200d\",\"price_change_percentage_200d\",\"price_change_percentage_200d\",\"price_change_percentage_200d\",\"price_change_percentage_200d\",\"price_change_percentage_200d\",\"price_change_percentage_200d\",\"price_change_percentage_200d\",\"price_change_percentage_200d\",\"price_change_percentage_200d\",\"price_change_percentage_200d\",\"price_change_percentage_200d\",\"price_change_percentage_200d\"],\"coin_id\":[\"bitcoin\",\"ethereum\",\"tether\",\"ripple\",\"bitcoin-cash\",\"binancecoin\",\"chainlink\",\"cardano\",\"litecoin\",\"bitcoin-cash-sv\",\"crypto-com-chain\",\"usd-coin\",\"eos\",\"monero\",\"tron\",\"tezos\",\"okb\",\"stellar\",\"cosmos\",\"cdai\",\"neo\",\"wrapped-bitcoin\",\"leo-token\",\"huobi-token\",\"nem\",\"binance-usd\",\"iota\",\"vechain\",\"zcash\",\"theta-token\",\"dash\",\"ethereum-classic\",\"ethlend\",\"maker\",\"havven\",\"omisego\",\"celsius-degree-token\",\"ontology\",\"ftx-token\",\"true-usd\",\"digibyte\"],\"value\":{\"__ndarray__\":\"xY8xdy3hVED0piIVxlhnQBe86CtIM3a/9zsUBfrEQ0DTn/1IEak1QPTDCOHRc2NAl3MprqozeUAexM4UOohwQIB9dOrKfztAFhiyutWzHUCN7iB2plZsQIQqNXugFcS/ZHWr56QPMkALe9rhrzBlQH+8V61MnGBA5nlwd9a2RUARHm0csfpDQC+Lic3HJ1VAkj8YeO4/Z0AOvjCZKhjZv2vUQzS61GNAtRX7y+75VEC5GW7A52cwQAPso1NXHkVAKa4q+64Fa0A7NgLxun65P+TaUDHOwVdAyM1wAz7bcEAFwHgGDaNeQH3Qs1k1lYtAOUVHcvnvGEANGvonuMgkQCYZOQvbZ6FAGD4ipkSiVED5MeauZXeDQHi0ccQaSoJAC170FcTYmEB1PGagMmJLQC2yne+nvkxAndfYJaq3tr9R9wFIbSl+QA==\",\"dtype\":\"float64\",\"order\":\"little\",\"shape\":[41]}},\"selected\":{\"id\":\"1170\"},\"selection_policy\":{\"id\":\"1196\"}},\"id\":\"1169\",\"type\":\"ColumnDataSource\"},{\"attributes\":{\"data_source\":{\"id\":\"1169\"},\"glyph\":{\"id\":\"1172\"},\"hover_glyph\":null,\"muted_glyph\":{\"id\":\"1174\"},\"nonselection_glyph\":{\"id\":\"1173\"},\"selection_glyph\":{\"id\":\"1198\"},\"view\":{\"id\":\"1176\"}},\"id\":\"1175\",\"type\":\"GlyphRenderer\"},{\"attributes\":{\"line_color\":\"#8b8b8b\",\"line_width\":2,\"x\":{\"field\":\"coin_id\"},\"y\":{\"field\":\"value\"}},\"id\":\"1168\",\"type\":\"Line\"},{\"attributes\":{\"line_alpha\":0.2,\"line_color\":\"#9467bd\",\"line_width\":2,\"x\":{\"field\":\"coin_id\"},\"y\":{\"field\":\"value\"}},\"id\":\"1204\",\"type\":\"Line\"},{\"attributes\":{\"data_source\":{\"id\":\"1048\"},\"glyph\":{\"id\":\"1051\"},\"hover_glyph\":null,\"muted_glyph\":{\"id\":\"1053\"},\"nonselection_glyph\":{\"id\":\"1052\"},\"selection_glyph\":{\"id\":\"1068\"},\"view\":{\"id\":\"1055\"}},\"id\":\"1054\",\"type\":\"GlyphRenderer\"},{\"attributes\":{\"label\":{\"value\":\"price_change_percentage_30d\"},\"renderers\":[{\"id\":\"1121\"}]},\"id\":\"1139\",\"type\":\"LegendItem\"},{\"attributes\":{\"line_alpha\":0.2,\"line_color\":\"#fc4f30\",\"line_width\":2,\"x\":{\"field\":\"coin_id\"},\"y\":{\"field\":\"value\"}},\"id\":\"1074\",\"type\":\"Line\"},{\"attributes\":{},\"id\":\"1049\",\"type\":\"Selection\"},{\"attributes\":{\"line_alpha\":0.2,\"line_color\":\"#8b8b8b\",\"line_width\":2,\"x\":{\"field\":\"coin_id\"},\"y\":{\"field\":\"value\"}},\"id\":\"1146\",\"type\":\"Line\"},{\"attributes\":{},\"id\":\"1116\",\"type\":\"Selection\"},{\"attributes\":{\"data_source\":{\"id\":\"1069\"},\"glyph\":{\"id\":\"1072\"},\"hover_glyph\":null,\"muted_glyph\":{\"id\":\"1074\"},\"nonselection_glyph\":{\"id\":\"1073\"},\"selection_glyph\":{\"id\":\"1090\"},\"view\":{\"id\":\"1076\"}},\"id\":\"1075\",\"type\":\"GlyphRenderer\"},{\"attributes\":{\"label\":{\"value\":\"price_change_percentage_60d\"},\"renderers\":[{\"id\":\"1147\"}]},\"id\":\"1167\",\"type\":\"LegendItem\"},{\"attributes\":{\"end\":8641.780918,\"reset_end\":8641.780918,\"reset_start\":-834.5136980000001,\"start\":-834.5136980000001,\"tags\":[[[\"value\",\"value\",null]]]},\"id\":\"1005\",\"type\":\"Range1d\"},{\"attributes\":{\"line_color\":\"#17becf\",\"line_width\":2,\"x\":{\"field\":\"coin_id\"},\"y\":{\"field\":\"value\"}},\"id\":\"1172\",\"type\":\"Line\"},{\"attributes\":{\"line_alpha\":0.1,\"line_color\":\"#8b8b8b\",\"line_width\":2,\"x\":{\"field\":\"coin_id\"},\"y\":{\"field\":\"value\"}},\"id\":\"1145\",\"type\":\"Line\"},{\"attributes\":{\"line_alpha\":0.2,\"line_color\":\"#17becf\",\"line_width\":2,\"x\":{\"field\":\"coin_id\"},\"y\":{\"field\":\"value\"}},\"id\":\"1174\",\"type\":\"Line\"},{\"attributes\":{\"bottom_units\":\"screen\",\"fill_alpha\":0.5,\"fill_color\":\"lightgrey\",\"left_units\":\"screen\",\"level\":\"overlay\",\"line_alpha\":1.0,\"line_color\":\"black\",\"line_dash\":[4,4],\"line_width\":2,\"right_units\":\"screen\",\"syncable\":false,\"top_units\":\"screen\"},\"id\":\"1034\",\"type\":\"BoxAnnotation\"},{\"attributes\":{\"line_color\":\"#6d904f\",\"line_width\":2,\"x\":{\"field\":\"coin_id\"},\"y\":{\"field\":\"value\"}},\"id\":\"1118\",\"type\":\"Line\"},{\"attributes\":{},\"id\":\"1043\",\"type\":\"CategoricalTickFormatter\"},{\"attributes\":{\"data\":{\"Variable\":[\"price_change_percentage_60d\",\"price_change_percentage_60d\",\"price_change_percentage_60d\",\"price_change_percentage_60d\",\"price_change_percentage_60d\",\"price_change_percentage_60d\",\"price_change_percentage_60d\",\"price_change_percentage_60d\",\"price_change_percentage_60d\",\"price_change_percentage_60d\",\"price_change_percentage_60d\",\"price_change_percentage_60d\",\"price_change_percentage_60d\",\"price_change_percentage_60d\",\"price_change_percentage_60d\",\"price_change_percentage_60d\",\"price_change_percentage_60d\",\"price_change_percentage_60d\",\"price_change_percentage_60d\",\"price_change_percentage_60d\",\"price_change_percentage_60d\",\"price_change_percentage_60d\",\"price_change_percentage_60d\",\"price_change_percentage_60d\",\"price_change_percentage_60d\",\"price_change_percentage_60d\",\"price_change_percentage_60d\",\"price_change_percentage_60d\",\"price_change_percentage_60d\",\"price_change_percentage_60d\",\"price_change_percentage_60d\",\"price_change_percentage_60d\",\"price_change_percentage_60d\",\"price_change_percentage_60d\",\"price_change_percentage_60d\",\"price_change_percentage_60d\",\"price_change_percentage_60d\",\"price_change_percentage_60d\",\"price_change_percentage_60d\",\"price_change_percentage_60d\",\"price_change_percentage_60d\"],\"coin_id\":[\"bitcoin\",\"ethereum\",\"tether\",\"ripple\",\"bitcoin-cash\",\"binancecoin\",\"chainlink\",\"cardano\",\"litecoin\",\"bitcoin-cash-sv\",\"crypto-com-chain\",\"usd-coin\",\"eos\",\"monero\",\"tron\",\"tezos\",\"okb\",\"stellar\",\"cosmos\",\"cdai\",\"neo\",\"wrapped-bitcoin\",\"leo-token\",\"huobi-token\",\"nem\",\"binance-usd\",\"iota\",\"vechain\",\"zcash\",\"theta-token\",\"dash\",\"ethereum-classic\",\"ethlend\",\"maker\",\"havven\",\"omisego\",\"celsius-degree-token\",\"ontology\",\"ftx-token\",\"true-usd\",\"digibyte\"],\"value\":{\"__ndarray__\":\"FvvL7skDCsAs1JrmHccpwKjjMQOV8dE/2qz6XG2NMcBzol2FlG8rwIleRrHcKkJAN8MN+PzYRcBi26LMBtk2wCEf9GxWPTHAq5UJv9TfOMBg5dAi23kwwDygbMoV3qU/l631RUIrPsDNzMzMzNxEQJm7lpAPGhZAms5OBkdpRsBKe4MvTKYGwEsfuqC+zT7APL1SliHOHMC4AZ8fRgjlP9L7xteeCStAFqQZi6azDMCvJeSDni0ewDeOWItPQQvAXvQVpBm3VEDaOGItPgW4PwpLPKBsQkHAaw4QzNHPRcAJM23/yoo0wBmQvd79AVRAfa62Yn85OsBVGFsIcug5wLCsNCkFHQFA529CIQKeMsA0uoPYmbZDwPKwUGua0VNA/pqsUQ/ia0Ao8iTpmllAwFuxv+yenBdAmrFoOjsZ0D8s1JrmHRc/wA==\",\"dtype\":\"float64\",\"order\":\"little\",\"shape\":[41]}},\"selected\":{\"id\":\"1142\"},\"selection_policy\":{\"id\":\"1166\"}},\"id\":\"1141\",\"type\":\"ColumnDataSource\"},{\"attributes\":{\"data\":{\"Variable\":[\"price_change_percentage_7d\",\"price_change_percentage_7d\",\"price_change_percentage_7d\",\"price_change_percentage_7d\",\"price_change_percentage_7d\",\"price_change_percentage_7d\",\"price_change_percentage_7d\",\"price_change_percentage_7d\",\"price_change_percentage_7d\",\"price_change_percentage_7d\",\"price_change_percentage_7d\",\"price_change_percentage_7d\",\"price_change_percentage_7d\",\"price_change_percentage_7d\",\"price_change_percentage_7d\",\"price_change_percentage_7d\",\"price_change_percentage_7d\",\"price_change_percentage_7d\",\"price_change_percentage_7d\",\"price_change_percentage_7d\",\"price_change_percentage_7d\",\"price_change_percentage_7d\",\"price_change_percentage_7d\",\"price_change_percentage_7d\",\"price_change_percentage_7d\",\"price_change_percentage_7d\",\"price_change_percentage_7d\",\"price_change_percentage_7d\",\"price_change_percentage_7d\",\"price_change_percentage_7d\",\"price_change_percentage_7d\",\"price_change_percentage_7d\",\"price_change_percentage_7d\",\"price_change_percentage_7d\",\"price_change_percentage_7d\",\"price_change_percentage_7d\",\"price_change_percentage_7d\",\"price_change_percentage_7d\",\"price_change_percentage_7d\",\"price_change_percentage_7d\",\"price_change_percentage_7d\"],\"coin_id\":[\"bitcoin\",\"ethereum\",\"tether\",\"ripple\",\"bitcoin-cash\",\"binancecoin\",\"chainlink\",\"cardano\",\"litecoin\",\"bitcoin-cash-sv\",\"crypto-com-chain\",\"usd-coin\",\"eos\",\"monero\",\"tron\",\"tezos\",\"okb\",\"stellar\",\"cosmos\",\"cdai\",\"neo\",\"wrapped-bitcoin\",\"leo-token\",\"huobi-token\",\"nem\",\"binance-usd\",\"iota\",\"vechain\",\"zcash\",\"theta-token\",\"dash\",\"ethereum-classic\",\"ethlend\",\"maker\",\"havven\",\"omisego\",\"celsius-degree-token\",\"ontology\",\"ftx-token\",\"true-usd\",\"digibyte\"],\"value\":{\"__ndarray__\":\"RbsKKT9pHkAzUBn/PsMkQL99HThnRKk/yVnY0w5/47/+JhQi4BgxQBL3WPrQtSlA7yB2ptCxNEA/jBAebfwrQPFL/bypaBpArKjBNAxfCkByv0NRoK8WwPlJtU/HY76/lPsdigL99L+n6Egu/5EvQE1KQbeX9BBA0m9fB87pIUBlU67wLjcSwKbtX1lpkgBAZwqd19gVMEBcIEHxY8ytP3wnZr0YigNAOh4zUBmfHUD3Hi457pT1vzNQGf8+4/k/kQ96Nqs+6781Y9F0djKoP2dEaW/wRRhAgXhdv2A3/L/8GHPXErIkQP8JLlbUYBjAVU0QdR9gFEDRlnMprmoIQGCrBIvD2RBAAiuHFtlOIECbG9MTllgRQKhXyjLEURtAqn06HjNQ4z+UvDrHgGzzvwltOZfiahxAsD2zJEBNxT8yj/zBwHPlPw==\",\"dtype\":\"float64\",\"order\":\"little\",\"shape\":[41]}},\"selected\":{\"id\":\"1070\"},\"selection_policy\":{\"id\":\"1088\"}},\"id\":\"1069\",\"type\":\"ColumnDataSource\"},{\"attributes\":{},\"id\":\"1070\",\"type\":\"Selection\"},{\"attributes\":{},\"id\":\"1046\",\"type\":\"BasicTickFormatter\"},{\"attributes\":{\"line_alpha\":0.2,\"line_color\":\"#6d904f\",\"line_width\":2,\"x\":{\"field\":\"coin_id\"},\"y\":{\"field\":\"value\"}},\"id\":\"1120\",\"type\":\"Line\"},{\"attributes\":{\"source\":{\"id\":\"1199\"}},\"id\":\"1206\",\"type\":\"CDSView\"},{\"attributes\":{\"callback\":null,\"renderers\":[{\"id\":\"1054\"},{\"id\":\"1075\"},{\"id\":\"1097\"},{\"id\":\"1121\"},{\"id\":\"1147\"},{\"id\":\"1175\"},{\"id\":\"1205\"}],\"tags\":[\"hv_created\"],\"tooltips\":[[\"Variable\",\"@{Variable}\"],[\"coin_id\",\"@{coin_id}\"],[\"value\",\"@{value}\"]]},\"id\":\"1006\",\"type\":\"HoverTool\"},{\"attributes\":{\"line_color\":\"#17becf\",\"line_width\":2,\"x\":{\"field\":\"coin_id\"},\"y\":{\"field\":\"value\"}},\"id\":\"1198\",\"type\":\"Line\"},{\"attributes\":{\"children\":[{\"id\":\"1003\"},{\"id\":\"1013\"},{\"id\":\"1429\"}],\"margin\":[0,0,0,0],\"name\":\"Row01769\",\"tags\":[\"embedded\"]},\"id\":\"1002\",\"type\":\"Row\"},{\"attributes\":{\"line_alpha\":0.1,\"line_color\":\"#fc4f30\",\"line_width\":2,\"x\":{\"field\":\"coin_id\"},\"y\":{\"field\":\"value\"}},\"id\":\"1073\",\"type\":\"Line\"},{\"attributes\":{},\"id\":\"1092\",\"type\":\"Selection\"},{\"attributes\":{\"line_color\":\"#30a2da\",\"line_width\":2,\"x\":{\"field\":\"coin_id\"},\"y\":{\"field\":\"value\"}},\"id\":\"1068\",\"type\":\"Line\"},{\"attributes\":{\"label\":{\"value\":\"price_change_percentage_24h\"},\"renderers\":[{\"id\":\"1054\"}]},\"id\":\"1067\",\"type\":\"LegendItem\"},{\"attributes\":{\"source\":{\"id\":\"1141\"}},\"id\":\"1148\",\"type\":\"CDSView\"},{\"attributes\":{\"data_source\":{\"id\":\"1141\"},\"glyph\":{\"id\":\"1144\"},\"hover_glyph\":null,\"muted_glyph\":{\"id\":\"1146\"},\"nonselection_glyph\":{\"id\":\"1145\"},\"selection_glyph\":{\"id\":\"1168\"},\"view\":{\"id\":\"1148\"}},\"id\":\"1147\",\"type\":\"GlyphRenderer\"},{\"attributes\":{\"data\":{\"Variable\":[\"price_change_percentage_14d\",\"price_change_percentage_14d\",\"price_change_percentage_14d\",\"price_change_percentage_14d\",\"price_change_percentage_14d\",\"price_change_percentage_14d\",\"price_change_percentage_14d\",\"price_change_percentage_14d\",\"price_change_percentage_14d\",\"price_change_percentage_14d\",\"price_change_percentage_14d\",\"price_change_percentage_14d\",\"price_change_percentage_14d\",\"price_change_percentage_14d\",\"price_change_percentage_14d\",\"price_change_percentage_14d\",\"price_change_percentage_14d\",\"price_change_percentage_14d\",\"price_change_percentage_14d\",\"price_change_percentage_14d\",\"price_change_percentage_14d\",\"price_change_percentage_14d\",\"price_change_percentage_14d\",\"price_change_percentage_14d\",\"price_change_percentage_14d\",\"price_change_percentage_14d\",\"price_change_percentage_14d\",\"price_change_percentage_14d\",\"price_change_percentage_14d\",\"price_change_percentage_14d\",\"price_change_percentage_14d\",\"price_change_percentage_14d\",\"price_change_percentage_14d\",\"price_change_percentage_14d\",\"price_change_percentage_14d\",\"price_change_percentage_14d\",\"price_change_percentage_14d\",\"price_change_percentage_14d\",\"price_change_percentage_14d\",\"price_change_percentage_14d\",\"price_change_percentage_14d\"],\"coin_id\":[\"bitcoin\",\"ethereum\",\"tether\",\"ripple\",\"bitcoin-cash\",\"binancecoin\",\"chainlink\",\"cardano\",\"litecoin\",\"bitcoin-cash-sv\",\"crypto-com-chain\",\"usd-coin\",\"eos\",\"monero\",\"tron\",\"tezos\",\"okb\",\"stellar\",\"cosmos\",\"cdai\",\"neo\",\"wrapped-bitcoin\",\"leo-token\",\"huobi-token\",\"nem\",\"binance-usd\",\"iota\",\"vechain\",\"zcash\",\"theta-token\",\"dash\",\"ethereum-classic\",\"ethlend\",\"maker\",\"havven\",\"omisego\",\"celsius-degree-token\",\"ontology\",\"ftx-token\",\"true-usd\",\"digibyte\"],\"value\":{\"__ndarray__\":\"zQaZZORMGkB5knTN5DsTQC1DHOviNno/ctwpHaz/AUCLic3HtYEtQJgvL8A+OhtACoDxDBqaIkAOhGQBEzgWQICfceFAKB1AIVnABG7d/b8xsfm4NhQhwGtI3GPpQ3e/pfeNrz0z8j8ao3VUNWkyQBUA4xk0dPY/VIzzN6GQAkCXrfVFQhsUwKpla32RUPG/Qgkzbf8KFkDPg7uzdtvFP8MN+PwwsiPAYFlpUgo6GkB3+GuyRh0cwM2v5gDBHN0/jliLTwEwBUDWrZ6T3jeuP7pOIy2VNw7Am1Wfq60oMsAJM23/yioXQJfK2xFOSxrAQE0tW+uL4D9OucK7XET0v0SLbOf7mSPA/pqsUQ/R978vaYzWUZUqwDtT6LzGbirAvodLjjs9OEByUMJM2x8lwJ30vvG1Z8q/ZCMQr+sXvD+7D0BqE0cdwA==\",\"dtype\":\"float64\",\"order\":\"little\",\"shape\":[41]}},\"selected\":{\"id\":\"1092\"},\"selection_policy\":{\"id\":\"1112\"}},\"id\":\"1091\",\"type\":\"ColumnDataSource\"},{\"attributes\":{},\"id\":\"1088\",\"type\":\"UnionRenderers\"},{\"attributes\":{\"line_alpha\":0.1,\"line_color\":\"#6d904f\",\"line_width\":2,\"x\":{\"field\":\"coin_id\"},\"y\":{\"field\":\"value\"}},\"id\":\"1119\",\"type\":\"Line\"},{\"attributes\":{\"data\":{\"Variable\":[\"price_change_percentage_1y\",\"price_change_percentage_1y\",\"price_change_percentage_1y\",\"price_change_percentage_1y\",\"price_change_percentage_1y\",\"price_change_percentage_1y\",\"price_change_percentage_1y\",\"price_change_percentage_1y\",\"price_change_percentage_1y\",\"price_change_percentage_1y\",\"price_change_percentage_1y\",\"price_change_percentage_1y\",\"price_change_percentage_1y\",\"price_change_percentage_1y\",\"price_change_percentage_1y\",\"price_change_percentage_1y\",\"price_change_percentage_1y\",\"price_change_percentage_1y\",\"price_change_percentage_1y\",\"price_change_percentage_1y\",\"price_change_percentage_1y\",\"price_change_percentage_1y\",\"price_change_percentage_1y\",\"price_change_percentage_1y\",\"price_change_percentage_1y\",\"price_change_percentage_1y\",\"price_change_percentage_1y\",\"price_change_percentage_1y\",\"price_change_percentage_1y\",\"price_change_percentage_1y\",\"price_change_percentage_1y\",\"price_change_percentage_1y\",\"price_change_percentage_1y\",\"price_change_percentage_1y\",\"price_change_percentage_1y\",\"price_change_percentage_1y\",\"price_change_percentage_1y\",\"price_change_percentage_1y\",\"price_change_percentage_1y\",\"price_change_percentage_1y\",\"price_change_percentage_1y\"],\"coin_id\":[\"bitcoin\",\"ethereum\",\"tether\",\"ripple\",\"bitcoin-cash\",\"binancecoin\",\"chainlink\",\"cardano\",\"litecoin\",\"bitcoin-cash-sv\",\"crypto-com-chain\",\"usd-coin\",\"eos\",\"monero\",\"tron\",\"tezos\",\"okb\",\"stellar\",\"cosmos\",\"cdai\",\"neo\",\"wrapped-bitcoin\",\"leo-token\",\"huobi-token\",\"nem\",\"binance-usd\",\"iota\",\"vechain\",\"zcash\",\"theta-token\",\"dash\",\"ethereum-classic\",\"ethlend\",\"maker\",\"havven\",\"omisego\",\"celsius-degree-token\",\"ontology\",\"ftx-token\",\"true-usd\",\"digibyte\"],\"value\":{\"__ndarray__\":\"kQpjC0HCQkDWqIdodH1ZQN/42jNLApQ/NXugFRiaMMDN6bKY2PwsQOcdp+hIbFFAaTo7GRxSdEC6LCY2H4NjQPnaM0sCVCnA0NA/wcVuV0CQvd798RBzQL4wmSoYlci/t39lpUmRMcDovMYuUaFhQEPKT6p9nk1A6PaSxmiAYUBdUN8yp75hQMzuycNCnStAw7ZFmQ2cVEAHsTOFzmvSvx/0bFZ9aWBAhhvw+WHEQkAN/RNcrAA1QN8Vwf9WkjhAS7A4nPkWaUAVUn5S7dPBPzUk7rH04Q/AIsMq3shbaUBf0hito7hUQPyMCwcC64VAzsKedvirA8Dwoq8gzTgmQHRGlPYWrL5Ayk+qfTpOJUDfiVkvRjaFQEfJq3MMC3RAnFCIgONmn0CsVib8Uk8pwNttF5rrC2VAyXGndLD+2T/ZfFwbKgxnQA==\",\"dtype\":\"float64\",\"order\":\"little\",\"shape\":[41]}},\"selected\":{\"id\":\"1200\"},\"selection_policy\":{\"id\":\"1228\"}},\"id\":\"1199\",\"type\":\"ColumnDataSource\"},{\"attributes\":{},\"id\":\"1196\",\"type\":\"UnionRenderers\"},{\"attributes\":{\"axis_label\":\"coin_id\",\"formatter\":{\"id\":\"1043\"},\"major_label_orientation\":1.5707963267948966,\"major_label_policy\":{\"id\":\"1044\"},\"ticker\":{\"id\":\"1023\"}},\"id\":\"1022\",\"type\":\"CategoricalAxis\"},{\"attributes\":{},\"id\":\"1166\",\"type\":\"UnionRenderers\"},{\"attributes\":{\"text_color\":\"black\",\"text_font_size\":\"12pt\"},\"id\":\"1014\",\"type\":\"Title\"},{\"attributes\":{\"line_color\":\"#fc4f30\",\"line_width\":2,\"x\":{\"field\":\"coin_id\"},\"y\":{\"field\":\"value\"}},\"id\":\"1072\",\"type\":\"Line\"},{\"attributes\":{},\"id\":\"1018\",\"type\":\"CategoricalScale\"},{\"attributes\":{},\"id\":\"1200\",\"type\":\"Selection\"},{\"attributes\":{\"below\":[{\"id\":\"1022\"}],\"center\":[{\"id\":\"1024\"},{\"id\":\"1028\"}],\"height\":400,\"left\":[{\"id\":\"1025\"}],\"margin\":[5,5,5,5],\"min_border_bottom\":10,\"min_border_left\":10,\"min_border_right\":10,\"min_border_top\":10,\"renderers\":[{\"id\":\"1054\"},{\"id\":\"1075\"},{\"id\":\"1097\"},{\"id\":\"1121\"},{\"id\":\"1147\"},{\"id\":\"1175\"},{\"id\":\"1205\"}],\"right\":[{\"id\":\"1066\"}],\"sizing_mode\":\"fixed\",\"title\":{\"id\":\"1014\"},\"toolbar\":{\"id\":\"1035\"},\"width\":800,\"x_range\":{\"id\":\"1004\"},\"x_scale\":{\"id\":\"1018\"},\"y_range\":{\"id\":\"1005\"},\"y_scale\":{\"id\":\"1020\"}},\"id\":\"1013\",\"subtype\":\"Figure\",\"type\":\"Plot\"},{\"attributes\":{},\"id\":\"1112\",\"type\":\"UnionRenderers\"},{\"attributes\":{},\"id\":\"1044\",\"type\":\"AllLabels\"},{\"attributes\":{\"axis\":{\"id\":\"1022\"},\"grid_line_color\":null,\"ticker\":null},\"id\":\"1024\",\"type\":\"Grid\"},{\"attributes\":{\"label\":{\"value\":\"price_change_percentage_7d\"},\"renderers\":[{\"id\":\"1075\"}]},\"id\":\"1089\",\"type\":\"LegendItem\"},{\"attributes\":{},\"id\":\"1026\",\"type\":\"BasicTicker\"},{\"attributes\":{},\"id\":\"1020\",\"type\":\"LinearScale\"},{\"attributes\":{\"label\":{\"value\":\"price_change_percentage_1y\"},\"renderers\":[{\"id\":\"1205\"}]},\"id\":\"1229\",\"type\":\"LegendItem\"},{\"attributes\":{},\"id\":\"1023\",\"type\":\"CategoricalTicker\"},{\"attributes\":{\"line_color\":\"#9467bd\",\"line_width\":2,\"x\":{\"field\":\"coin_id\"},\"y\":{\"field\":\"value\"}},\"id\":\"1230\",\"type\":\"Line\"},{\"attributes\":{\"axis_label\":\"\",\"formatter\":{\"id\":\"1046\"},\"major_label_policy\":{\"id\":\"1047\"},\"ticker\":{\"id\":\"1026\"}},\"id\":\"1025\",\"type\":\"LinearAxis\"},{\"attributes\":{\"factors\":[\"bitcoin\",\"ethereum\",\"tether\",\"ripple\",\"bitcoin-cash\",\"binancecoin\",\"chainlink\",\"cardano\",\"litecoin\",\"bitcoin-cash-sv\",\"crypto-com-chain\",\"usd-coin\",\"eos\",\"monero\",\"tron\",\"tezos\",\"okb\",\"stellar\",\"cosmos\",\"cdai\",\"neo\",\"wrapped-bitcoin\",\"leo-token\",\"huobi-token\",\"nem\",\"binance-usd\",\"iota\",\"vechain\",\"zcash\",\"theta-token\",\"dash\",\"ethereum-classic\",\"ethlend\",\"maker\",\"havven\",\"omisego\",\"celsius-degree-token\",\"ontology\",\"ftx-token\",\"true-usd\",\"digibyte\"],\"tags\":[[[\"coin_id\",\"coin_id\",null]]]},\"id\":\"1004\",\"type\":\"FactorRange\"},{\"attributes\":{},\"id\":\"1047\",\"type\":\"AllLabels\"},{\"attributes\":{\"axis\":{\"id\":\"1025\"},\"dimension\":1,\"grid_line_color\":null,\"ticker\":null},\"id\":\"1028\",\"type\":\"Grid\"},{\"attributes\":{\"data\":{\"Variable\":[\"price_change_percentage_30d\",\"price_change_percentage_30d\",\"price_change_percentage_30d\",\"price_change_percentage_30d\",\"price_change_percentage_30d\",\"price_change_percentage_30d\",\"price_change_percentage_30d\",\"price_change_percentage_30d\",\"price_change_percentage_30d\",\"price_change_percentage_30d\",\"price_change_percentage_30d\",\"price_change_percentage_30d\",\"price_change_percentage_30d\",\"price_change_percentage_30d\",\"price_change_percentage_30d\",\"price_change_percentage_30d\",\"price_change_percentage_30d\",\"price_change_percentage_30d\",\"price_change_percentage_30d\",\"price_change_percentage_30d\",\"price_change_percentage_30d\",\"price_change_percentage_30d\",\"price_change_percentage_30d\",\"price_change_percentage_30d\",\"price_change_percentage_30d\",\"price_change_percentage_30d\",\"price_change_percentage_30d\",\"price_change_percentage_30d\",\"price_change_percentage_30d\",\"price_change_percentage_30d\",\"price_change_percentage_30d\",\"price_change_percentage_30d\",\"price_change_percentage_30d\",\"price_change_percentage_30d\",\"price_change_percentage_30d\",\"price_change_percentage_30d\",\"price_change_percentage_30d\",\"price_change_percentage_30d\",\"price_change_percentage_30d\",\"price_change_percentage_30d\",\"price_change_percentage_30d\"],\"coin_id\":[\"bitcoin\",\"ethereum\",\"tether\",\"ripple\",\"bitcoin-cash\",\"binancecoin\",\"chainlink\",\"cardano\",\"litecoin\",\"bitcoin-cash-sv\",\"crypto-com-chain\",\"usd-coin\",\"eos\",\"monero\",\"tron\",\"tezos\",\"okb\",\"stellar\",\"cosmos\",\"cdai\",\"neo\",\"wrapped-bitcoin\",\"leo-token\",\"huobi-token\",\"nem\",\"binance-usd\",\"iota\",\"vechain\",\"zcash\",\"theta-token\",\"dash\",\"ethereum-classic\",\"ethlend\",\"maker\",\"havven\",\"omisego\",\"celsius-degree-token\",\"ontology\",\"ftx-token\",\"true-usd\",\"digibyte\"],\"value\":{\"__ndarray__\":\"VMa/z7iwHkAl6ZrJN9vAP/28qUiFsaW/L26jAbwFzj8dcjPcgH8vQPMf0m9fB64/5bhTOlhvJsBnfjUHCDYkQGWNeohGd/M/sCDNWDQdB0Cmft5UpHIxwJgvL8A+OsW/t0WZDTKJEsDeVKTC2HpDQEzD8BExNSnAjWK5pdVALMDjjcwjf+AkwIrIsIo3QiDAjliLTwFQEkAWpBmLpnMBwE3WqIdo9DXAVG8NbJWAHUAnMQisHJoIQGA8g4b+CQrACcTr+gU7DcCPpQ9dUN+SP80Bgjl6nBDA9S1zuixWLMBC7Eyh83odQEku/yH9bj9AtTf4wmQqH8Am/FI/byoHQNjYJaq3/j3A9GxWfa62MECdRloqb9c0wF4R/G8lOyLArK3YX3aZYUC1/SsrTVpBwP/PYb68ICXAFR3J5T+knz+ndLD+z4EqQA==\",\"dtype\":\"float64\",\"order\":\"little\",\"shape\":[41]}},\"selected\":{\"id\":\"1116\"},\"selection_policy\":{\"id\":\"1138\"}},\"id\":\"1115\",\"type\":\"ColumnDataSource\"},{\"attributes\":{\"line_alpha\":0.1,\"line_color\":\"#17becf\",\"line_width\":2,\"x\":{\"field\":\"coin_id\"},\"y\":{\"field\":\"value\"}},\"id\":\"1173\",\"type\":\"Line\"},{\"attributes\":{\"label\":{\"value\":\"price_change_percentage_14d\"},\"renderers\":[{\"id\":\"1097\"}]},\"id\":\"1113\",\"type\":\"LegendItem\"},{\"attributes\":{\"line_alpha\":0.2,\"line_color\":\"#e5ae38\",\"line_width\":2,\"x\":{\"field\":\"coin_id\"},\"y\":{\"field\":\"value\"}},\"id\":\"1096\",\"type\":\"Line\"},{\"attributes\":{\"line_color\":\"#e5ae38\",\"line_width\":2,\"x\":{\"field\":\"coin_id\"},\"y\":{\"field\":\"value\"}},\"id\":\"1114\",\"type\":\"Line\"},{\"attributes\":{\"line_color\":\"#9467bd\",\"line_width\":2,\"x\":{\"field\":\"coin_id\"},\"y\":{\"field\":\"value\"}},\"id\":\"1202\",\"type\":\"Line\"},{\"attributes\":{\"data\":{\"Variable\":[\"price_change_percentage_24h\",\"price_change_percentage_24h\",\"price_change_percentage_24h\",\"price_change_percentage_24h\",\"price_change_percentage_24h\",\"price_change_percentage_24h\",\"price_change_percentage_24h\",\"price_change_percentage_24h\",\"price_change_percentage_24h\",\"price_change_percentage_24h\",\"price_change_percentage_24h\",\"price_change_percentage_24h\",\"price_change_percentage_24h\",\"price_change_percentage_24h\",\"price_change_percentage_24h\",\"price_change_percentage_24h\",\"price_change_percentage_24h\",\"price_change_percentage_24h\",\"price_change_percentage_24h\",\"price_change_percentage_24h\",\"price_change_percentage_24h\",\"price_change_percentage_24h\",\"price_change_percentage_24h\",\"price_change_percentage_24h\",\"price_change_percentage_24h\",\"price_change_percentage_24h\",\"price_change_percentage_24h\",\"price_change_percentage_24h\",\"price_change_percentage_24h\",\"price_change_percentage_24h\",\"price_change_percentage_24h\",\"price_change_percentage_24h\",\"price_change_percentage_24h\",\"price_change_percentage_24h\",\"price_change_percentage_24h\",\"price_change_percentage_24h\",\"price_change_percentage_24h\",\"price_change_percentage_24h\",\"price_change_percentage_24h\",\"price_change_percentage_24h\",\"price_change_percentage_24h\"],\"coin_id\":[\"bitcoin\",\"ethereum\",\"tether\",\"ripple\",\"bitcoin-cash\",\"binancecoin\",\"chainlink\",\"cardano\",\"litecoin\",\"bitcoin-cash-sv\",\"crypto-com-chain\",\"usd-coin\",\"eos\",\"monero\",\"tron\",\"tezos\",\"okb\",\"stellar\",\"cosmos\",\"cdai\",\"neo\",\"wrapped-bitcoin\",\"leo-token\",\"huobi-token\",\"nem\",\"binance-usd\",\"iota\",\"vechain\",\"zcash\",\"theta-token\",\"dash\",\"ethereum-classic\",\"ethlend\",\"maker\",\"havven\",\"omisego\",\"celsius-degree-token\",\"ontology\",\"ftx-token\",\"true-usd\",\"digibyte\"],\"value\":{\"__ndarray__\":\"nZ0MjpJX8T8MzXUaaanMP5mByvj3Gcu/wCZr1EM02L8ep+hILj8HQL0Yyol21QBAwhcmUwWjzr//CS5W1GBqP7JGPUSjO7C/QKTfvg6c7T8urYbEPZbjPzeJQWDl0Ma/1pC4x9KHwj87NgLxun7bP90HILWJk7M/JjYf14aK5b83iUFg5dAFwG3i5H6HIvC/5nlwd9Zu7r9i83FtqBjLP+iHEcKjjd8/M9yAzw+j8T/fGtgqweLAv+RmuAGfH9q/UdobfGEy678D7KNTVz67v8YzaOif4No/teBFX0Ga9D8G2Eenrnzjvx+duvJZPhLAoMN8eQH28L+cxCCwcmjdv667eapDDivAX5hMFYxK479EUaBP5EkQwAZkr3d/XBNA0JuKVBgbBEDqBDQRNrz1vxo09E9wseo/tI6qJoi6r79qMA3DR8QHQA==\",\"dtype\":\"float64\",\"order\":\"little\",\"shape\":[41]}},\"selected\":{\"id\":\"1049\"},\"selection_policy\":{\"id\":\"1065\"}},\"id\":\"1048\",\"type\":\"ColumnDataSource\"},{\"attributes\":{\"line_color\":\"#e5ae38\",\"line_width\":2,\"x\":{\"field\":\"coin_id\"},\"y\":{\"field\":\"value\"}},\"id\":\"1094\",\"type\":\"Line\"},{\"attributes\":{\"data_source\":{\"id\":\"1199\"},\"glyph\":{\"id\":\"1202\"},\"hover_glyph\":null,\"muted_glyph\":{\"id\":\"1204\"},\"nonselection_glyph\":{\"id\":\"1203\"},\"selection_glyph\":{\"id\":\"1230\"},\"view\":{\"id\":\"1206\"}},\"id\":\"1205\",\"type\":\"GlyphRenderer\"},{\"attributes\":{},\"id\":\"1065\",\"type\":\"UnionRenderers\"},{\"attributes\":{},\"id\":\"1029\",\"type\":\"SaveTool\"}],\"root_ids\":[\"1002\"]},\"title\":\"Bokeh Application\",\"version\":\"2.3.2\"}};\n",
       "    var render_items = [{\"docid\":\"82923641-dff6-4afc-908d-d24c25b1480a\",\"root_ids\":[\"1002\"],\"roots\":{\"1002\":\"0523549f-a3c2-4032-baee-8ae76de35d0e\"}}];\n",
       "    root.Bokeh.embed.embed_items_notebook(docs_json, render_items);\n",
       "  }\n",
       "  if (root.Bokeh !== undefined && root.Bokeh.Panel !== undefined) {\n",
       "    embed_document(root);\n",
       "  } else {\n",
       "    var attempts = 0;\n",
       "    var timer = setInterval(function(root) {\n",
       "      if (root.Bokeh !== undefined && root.Bokeh.Panel !== undefined) {\n",
       "        clearInterval(timer);\n",
       "        embed_document(root);\n",
       "      } else if (document.readyState == \"complete\") {\n",
       "        attempts++;\n",
       "        if (attempts > 200) {\n",
       "          clearInterval(timer);\n",
       "          console.log(\"Bokeh: ERROR: Unable to run BokehJS code because BokehJS library is missing\");\n",
       "        }\n",
       "      }\n",
       "    }, 25, root)\n",
       "  }\n",
       "})(window);</script>"
      ],
      "text/plain": [
       ":NdOverlay   [Variable]\n",
       "   :Curve   [coin_id]   (value)"
      ]
     },
     "execution_count": 5,
     "metadata": {
      "application/vnd.holoviews_exec.v0+json": {
       "id": "1002"
      }
     },
     "output_type": "execute_result"
    }
   ],
   "source": [
    "# Plot your data to see what's in your DataFrame\n",
    "df_market_data.hvplot.line(\n",
    "    width=800,\n",
    "    height=400,\n",
    "    rot=90\n",
    ")"
   ]
  },
  {
   "cell_type": "markdown",
   "metadata": {},
   "source": [
    "---"
   ]
  },
  {
   "cell_type": "markdown",
   "metadata": {},
   "source": [
    "### Prepare the Data\n",
    "\n",
    "This section prepares the data before running the K-Means algorithm. It follows these steps:\n",
    "\n",
    "1. Use the `StandardScaler` module from scikit-learn to normalize the CSV file data. This will require you to utilize the `fit_transform` function.\n",
    "\n",
    "2. Create a DataFrame that contains the scaled data. Be sure to set the `coin_id` index from the original DataFrame as the index for the new DataFrame. Review the resulting DataFrame.\n"
   ]
  },
  {
   "cell_type": "code",
   "execution_count": 6,
   "metadata": {},
   "outputs": [],
   "source": [
    "# Use the `StandardScaler()` module from scikit-learn to normalize the data from the CSV file\n",
    "scaled_data = StandardScaler().fit_transform(df_market_data)"
   ]
  },
  {
   "cell_type": "code",
   "execution_count": 7,
   "metadata": {},
   "outputs": [
    {
     "data": {
      "text/html": [
       "<div>\n",
       "<style scoped>\n",
       "    .dataframe tbody tr th:only-of-type {\n",
       "        vertical-align: middle;\n",
       "    }\n",
       "\n",
       "    .dataframe tbody tr th {\n",
       "        vertical-align: top;\n",
       "    }\n",
       "\n",
       "    .dataframe thead th {\n",
       "        text-align: right;\n",
       "    }\n",
       "</style>\n",
       "<table border=\"1\" class=\"dataframe\">\n",
       "  <thead>\n",
       "    <tr style=\"text-align: right;\">\n",
       "      <th></th>\n",
       "      <th>price_change_percentage_24h</th>\n",
       "      <th>price_change_percentage_7d</th>\n",
       "      <th>price_change_percentage_14d</th>\n",
       "      <th>price_change_percentage_30d</th>\n",
       "      <th>price_change_percentage_60d</th>\n",
       "      <th>price_change_percentage_200d</th>\n",
       "      <th>price_change_percentage_1y</th>\n",
       "    </tr>\n",
       "    <tr>\n",
       "      <th>coin_id</th>\n",
       "      <th></th>\n",
       "      <th></th>\n",
       "      <th></th>\n",
       "      <th></th>\n",
       "      <th></th>\n",
       "      <th></th>\n",
       "      <th></th>\n",
       "    </tr>\n",
       "  </thead>\n",
       "  <tbody>\n",
       "    <tr>\n",
       "      <th>bitcoin</th>\n",
       "      <td>0.508529</td>\n",
       "      <td>0.493193</td>\n",
       "      <td>0.772200</td>\n",
       "      <td>0.235460</td>\n",
       "      <td>-0.067495</td>\n",
       "      <td>-0.355953</td>\n",
       "      <td>-0.251637</td>\n",
       "    </tr>\n",
       "    <tr>\n",
       "      <th>ethereum</th>\n",
       "      <td>0.185446</td>\n",
       "      <td>0.934445</td>\n",
       "      <td>0.558692</td>\n",
       "      <td>-0.054341</td>\n",
       "      <td>-0.273483</td>\n",
       "      <td>-0.115759</td>\n",
       "      <td>-0.199352</td>\n",
       "    </tr>\n",
       "    <tr>\n",
       "      <th>tether</th>\n",
       "      <td>0.021774</td>\n",
       "      <td>-0.706337</td>\n",
       "      <td>-0.021680</td>\n",
       "      <td>-0.061030</td>\n",
       "      <td>0.008005</td>\n",
       "      <td>-0.550247</td>\n",
       "      <td>-0.282061</td>\n",
       "    </tr>\n",
       "    <tr>\n",
       "      <th>ripple</th>\n",
       "      <td>-0.040764</td>\n",
       "      <td>-0.810928</td>\n",
       "      <td>0.249458</td>\n",
       "      <td>-0.050388</td>\n",
       "      <td>-0.373164</td>\n",
       "      <td>-0.458259</td>\n",
       "      <td>-0.295546</td>\n",
       "    </tr>\n",
       "    <tr>\n",
       "      <th>bitcoin-cash</th>\n",
       "      <td>1.193036</td>\n",
       "      <td>2.000959</td>\n",
       "      <td>1.760610</td>\n",
       "      <td>0.545842</td>\n",
       "      <td>-0.291203</td>\n",
       "      <td>-0.499848</td>\n",
       "      <td>-0.270317</td>\n",
       "    </tr>\n",
       "  </tbody>\n",
       "</table>\n",
       "</div>"
      ],
      "text/plain": [
       "              price_change_percentage_24h  price_change_percentage_7d  \\\n",
       "coin_id                                                                 \n",
       "bitcoin                          0.508529                    0.493193   \n",
       "ethereum                         0.185446                    0.934445   \n",
       "tether                           0.021774                   -0.706337   \n",
       "ripple                          -0.040764                   -0.810928   \n",
       "bitcoin-cash                     1.193036                    2.000959   \n",
       "\n",
       "              price_change_percentage_14d  price_change_percentage_30d  \\\n",
       "coin_id                                                                  \n",
       "bitcoin                          0.772200                     0.235460   \n",
       "ethereum                         0.558692                    -0.054341   \n",
       "tether                          -0.021680                    -0.061030   \n",
       "ripple                           0.249458                    -0.050388   \n",
       "bitcoin-cash                     1.760610                     0.545842   \n",
       "\n",
       "              price_change_percentage_60d  price_change_percentage_200d  \\\n",
       "coin_id                                                                   \n",
       "bitcoin                         -0.067495                     -0.355953   \n",
       "ethereum                        -0.273483                     -0.115759   \n",
       "tether                           0.008005                     -0.550247   \n",
       "ripple                          -0.373164                     -0.458259   \n",
       "bitcoin-cash                    -0.291203                     -0.499848   \n",
       "\n",
       "              price_change_percentage_1y  \n",
       "coin_id                                   \n",
       "bitcoin                        -0.251637  \n",
       "ethereum                       -0.199352  \n",
       "tether                         -0.282061  \n",
       "ripple                         -0.295546  \n",
       "bitcoin-cash                   -0.270317  "
      ]
     },
     "execution_count": 7,
     "metadata": {},
     "output_type": "execute_result"
    }
   ],
   "source": [
    "# Create a DataFrame with the scaled data\n",
    "df_market_data_scaled = pd.DataFrame(\n",
    "    scaled_data,\n",
    "    columns=df_market_data.columns\n",
    ")\n",
    "\n",
    "# Copy the crypto names from the original data\n",
    "df_market_data_scaled[\"coin_id\"] = df_market_data.index\n",
    "\n",
    "# Set the coinid column as index\n",
    "df_market_data_scaled = df_market_data_scaled.set_index(\"coin_id\")\n",
    "\n",
    "# Display sample data\n",
    "df_market_data_scaled.head()"
   ]
  },
  {
   "cell_type": "markdown",
   "metadata": {},
   "source": [
    "---"
   ]
  },
  {
   "cell_type": "markdown",
   "metadata": {},
   "source": [
    "### Find the Best Value for k Using the Original Data\n",
    "\n",
    "In this section, you will use the elbow method to find the best value for `k`.\n",
    "\n",
    "1. Code the elbow method algorithm to find the best value for `k`. Use a range from 1 to 11. \n",
    "\n",
    "2. Plot a line chart with all the inertia values computed with the different values of `k` to visually identify the optimal value for `k`.\n",
    "\n",
    "3. Answer the following question: What is the best value for `k`?"
   ]
  },
  {
   "cell_type": "code",
   "execution_count": 8,
   "metadata": {},
   "outputs": [],
   "source": [
    "# Create a list with the number of k-values to try\n",
    "# Use a range from 1 to 11\n",
    "k = list(range(1,11))"
   ]
  },
  {
   "cell_type": "code",
   "execution_count": 9,
   "metadata": {},
   "outputs": [],
   "source": [
    "# Create an empy list to store the inertia values\n",
    "inertia = []"
   ]
  },
  {
   "cell_type": "code",
   "execution_count": 10,
   "metadata": {},
   "outputs": [
    {
     "name": "stderr",
     "output_type": "stream",
     "text": [
      "C:\\Users\\webst\\anaconda3\\envs\\dev\\lib\\site-packages\\sklearn\\cluster\\_kmeans.py:882: UserWarning: KMeans is known to have a memory leak on Windows with MKL, when there are less chunks than available threads. You can avoid it by setting the environment variable OMP_NUM_THREADS=1.\n",
      "  f\"KMeans is known to have a memory leak on Windows \"\n"
     ]
    }
   ],
   "source": [
    "# Create a for loop to compute the inertia with each possible value of k\n",
    "# Inside the loop:\n",
    "# 1. Create a KMeans model using the loop counter for the n_clusters\n",
    "# 2. Fit the model to the data using `df_market_data_scaled`\n",
    "# 3. Append the model.inertia_ to the inertia list\n",
    "for i in k:\n",
    "    model = KMeans(n_clusters=i, random_state=0)\n",
    "    model.fit(df_market_data_scaled)\n",
    "    inertia.append(model.inertia_)"
   ]
  },
  {
   "cell_type": "code",
   "execution_count": 12,
   "metadata": {},
   "outputs": [],
   "source": [
    "# Create a DataFrame with the data to plot the Elbow curve\n",
    "elbow_df = pd.DataFrame({'k':k, 'inertia':inertia})"
   ]
  },
  {
   "cell_type": "code",
   "execution_count": 51,
   "metadata": {},
   "outputs": [
    {
     "data": {},
     "metadata": {},
     "output_type": "display_data"
    },
    {
     "data": {
      "application/vnd.holoviews_exec.v0+json": "",
      "text/html": [
       "<div id='3646'>\n",
       "\n",
       "\n",
       "\n",
       "\n",
       "\n",
       "  <div class=\"bk-root\" id=\"c401c8d7-6e05-4ef8-a9ac-0c3fd01fca81\" data-root-id=\"3646\"></div>\n",
       "</div>\n",
       "<script type=\"application/javascript\">(function(root) {\n",
       "  function embed_document(root) {\n",
       "    var docs_json = {\"d5d9c1b2-fcd0-46dd-b7df-03deca5c6277\":{\"defs\":[{\"extends\":null,\"module\":null,\"name\":\"ReactiveHTML1\",\"overrides\":[],\"properties\":[]},{\"extends\":null,\"module\":null,\"name\":\"FlexBox1\",\"overrides\":[],\"properties\":[{\"default\":\"flex-start\",\"kind\":null,\"name\":\"align_content\"},{\"default\":\"flex-start\",\"kind\":null,\"name\":\"align_items\"},{\"default\":\"row\",\"kind\":null,\"name\":\"flex_direction\"},{\"default\":\"wrap\",\"kind\":null,\"name\":\"flex_wrap\"},{\"default\":\"flex-start\",\"kind\":null,\"name\":\"justify_content\"}]},{\"extends\":null,\"module\":null,\"name\":\"TemplateActions1\",\"overrides\":[],\"properties\":[{\"default\":0,\"kind\":null,\"name\":\"open_modal\"},{\"default\":0,\"kind\":null,\"name\":\"close_modal\"}]},{\"extends\":null,\"module\":null,\"name\":\"MaterialTemplateActions1\",\"overrides\":[],\"properties\":[{\"default\":0,\"kind\":null,\"name\":\"open_modal\"},{\"default\":0,\"kind\":null,\"name\":\"close_modal\"}]}],\"roots\":{\"references\":[{\"attributes\":{\"end\":315.6,\"reset_end\":315.6,\"reset_start\":-27.6,\"start\":-27.6,\"tags\":[[[\"value\",\"value\",null]]]},\"id\":\"3649\",\"type\":\"Range1d\"},{\"attributes\":{\"data_source\":{\"id\":\"3688\"},\"glyph\":{\"id\":\"3691\"},\"hover_glyph\":null,\"muted_glyph\":{\"id\":\"3693\"},\"nonselection_glyph\":{\"id\":\"3692\"},\"selection_glyph\":{\"id\":\"3708\"},\"view\":{\"id\":\"3695\"}},\"id\":\"3694\",\"type\":\"GlyphRenderer\"},{\"attributes\":{\"end\":9.0,\"reset_end\":9.0,\"reset_start\":0.0,\"tags\":[[[\"index\",\"index\",null]]]},\"id\":\"3648\",\"type\":\"Range1d\"},{\"attributes\":{\"overlay\":{\"id\":\"3674\"}},\"id\":\"3672\",\"type\":\"BoxZoomTool\"},{\"attributes\":{\"line_color\":\"#fc4f30\",\"line_width\":2,\"x\":{\"field\":\"index\"},\"y\":{\"field\":\"value\"}},\"id\":\"3712\",\"type\":\"Line\"},{\"attributes\":{},\"id\":\"3666\",\"type\":\"BasicTicker\"},{\"attributes\":{},\"id\":\"3710\",\"type\":\"Selection\"},{\"attributes\":{\"margin\":[5,5,5,5],\"name\":\"HSpacer07038\",\"sizing_mode\":\"stretch_width\"},\"id\":\"3647\",\"type\":\"Spacer\"},{\"attributes\":{\"data_source\":{\"id\":\"3709\"},\"glyph\":{\"id\":\"3712\"},\"hover_glyph\":null,\"muted_glyph\":{\"id\":\"3714\"},\"nonselection_glyph\":{\"id\":\"3713\"},\"selection_glyph\":{\"id\":\"3730\"},\"view\":{\"id\":\"3716\"}},\"id\":\"3715\",\"type\":\"GlyphRenderer\"},{\"attributes\":{},\"id\":\"3705\",\"type\":\"UnionRenderers\"},{\"attributes\":{\"click_policy\":\"mute\",\"items\":[{\"id\":\"3707\"},{\"id\":\"3729\"}],\"location\":[0,0],\"title\":\"Variable\"},\"id\":\"3706\",\"type\":\"Legend\"},{\"attributes\":{},\"id\":\"3671\",\"type\":\"WheelZoomTool\"},{\"attributes\":{\"data\":{\"Variable\":[\"k\",\"k\",\"k\",\"k\",\"k\",\"k\",\"k\",\"k\",\"k\",\"k\"],\"index\":[0,1,2,3,4,5,6,7,8,9],\"value\":[1,2,3,4,5,6,7,8,9,10]},\"selected\":{\"id\":\"3689\"},\"selection_policy\":{\"id\":\"3705\"}},\"id\":\"3688\",\"type\":\"ColumnDataSource\"},{\"attributes\":{\"line_alpha\":0.1,\"line_color\":\"#fc4f30\",\"line_width\":2,\"x\":{\"field\":\"index\"},\"y\":{\"field\":\"value\"}},\"id\":\"3713\",\"type\":\"Line\"},{\"attributes\":{\"source\":{\"id\":\"3709\"}},\"id\":\"3716\",\"type\":\"CDSView\"},{\"attributes\":{},\"id\":\"3683\",\"type\":\"BasicTickFormatter\"},{\"attributes\":{\"axis_label\":\"\",\"formatter\":{\"id\":\"3683\"},\"major_label_policy\":{\"id\":\"3684\"},\"ticker\":{\"id\":\"3662\"}},\"id\":\"3661\",\"type\":\"LinearAxis\"},{\"attributes\":{\"margin\":[5,5,5,5],\"name\":\"HSpacer07039\",\"sizing_mode\":\"stretch_width\"},\"id\":\"3839\",\"type\":\"Spacer\"},{\"attributes\":{},\"id\":\"3657\",\"type\":\"LinearScale\"},{\"attributes\":{\"label\":{\"value\":\"k\"},\"renderers\":[{\"id\":\"3694\"}]},\"id\":\"3707\",\"type\":\"LegendItem\"},{\"attributes\":{\"source\":{\"id\":\"3688\"}},\"id\":\"3695\",\"type\":\"CDSView\"},{\"attributes\":{\"line_color\":\"#30a2da\",\"line_width\":2,\"x\":{\"field\":\"index\"},\"y\":{\"field\":\"value\"}},\"id\":\"3708\",\"type\":\"Line\"},{\"attributes\":{\"line_alpha\":0.2,\"line_color\":\"#fc4f30\",\"line_width\":2,\"x\":{\"field\":\"index\"},\"y\":{\"field\":\"value\"}},\"id\":\"3714\",\"type\":\"Line\"},{\"attributes\":{\"label\":{\"value\":\"inertia\"},\"renderers\":[{\"id\":\"3715\"}]},\"id\":\"3729\",\"type\":\"LegendItem\"},{\"attributes\":{},\"id\":\"3669\",\"type\":\"SaveTool\"},{\"attributes\":{\"line_alpha\":0.2,\"line_color\":\"#30a2da\",\"line_width\":2,\"x\":{\"field\":\"index\"},\"y\":{\"field\":\"value\"}},\"id\":\"3693\",\"type\":\"Line\"},{\"attributes\":{},\"id\":\"3728\",\"type\":\"UnionRenderers\"},{\"attributes\":{\"line_color\":\"#30a2da\",\"line_width\":2,\"x\":{\"field\":\"index\"},\"y\":{\"field\":\"value\"}},\"id\":\"3691\",\"type\":\"Line\"},{\"attributes\":{\"bottom_units\":\"screen\",\"fill_alpha\":0.5,\"fill_color\":\"lightgrey\",\"left_units\":\"screen\",\"level\":\"overlay\",\"line_alpha\":1.0,\"line_color\":\"black\",\"line_dash\":[4,4],\"line_width\":2,\"right_units\":\"screen\",\"syncable\":false,\"top_units\":\"screen\"},\"id\":\"3674\",\"type\":\"BoxAnnotation\"},{\"attributes\":{\"active_multi\":null,\"tools\":[{\"id\":\"3650\"},{\"id\":\"3669\"},{\"id\":\"3670\"},{\"id\":\"3671\"},{\"id\":\"3672\"},{\"id\":\"3673\"}]},\"id\":\"3675\",\"type\":\"Toolbar\"},{\"attributes\":{},\"id\":\"3670\",\"type\":\"PanTool\"},{\"attributes\":{},\"id\":\"3689\",\"type\":\"Selection\"},{\"attributes\":{\"axis\":{\"id\":\"3665\"},\"dimension\":1,\"grid_line_color\":null,\"ticker\":null},\"id\":\"3668\",\"type\":\"Grid\"},{\"attributes\":{\"line_color\":\"#fc4f30\",\"line_width\":2,\"x\":{\"field\":\"index\"},\"y\":{\"field\":\"value\"}},\"id\":\"3730\",\"type\":\"Line\"},{\"attributes\":{\"data\":{\"Variable\":[\"inertia\",\"inertia\",\"inertia\",\"inertia\",\"inertia\",\"inertia\",\"inertia\",\"inertia\",\"inertia\",\"inertia\"],\"index\":[0,1,2,3,4,5,6,7,8,9],\"value\":{\"__ndarray__\":\"AAAAAADwcUByhzI6P3poQOGRvNowzF5AGe6ulG/BU0BoEQsuWlNQQOfqC/e6cUpAiSebkxT1RUBt++EeLsJCQMF0IF8cPkBAi3eL7Q85PEA=\",\"dtype\":\"float64\",\"order\":\"little\",\"shape\":[10]}},\"selected\":{\"id\":\"3710\"},\"selection_policy\":{\"id\":\"3728\"}},\"id\":\"3709\",\"type\":\"ColumnDataSource\"},{\"attributes\":{},\"id\":\"3684\",\"type\":\"AllLabels\"},{\"attributes\":{\"axis_label\":\"\",\"formatter\":{\"id\":\"3686\"},\"major_label_policy\":{\"id\":\"3687\"},\"ticker\":{\"id\":\"3666\"}},\"id\":\"3665\",\"type\":\"LinearAxis\"},{\"attributes\":{},\"id\":\"3687\",\"type\":\"AllLabels\"},{\"attributes\":{\"callback\":null,\"renderers\":[{\"id\":\"3694\"},{\"id\":\"3715\"}],\"tags\":[\"hv_created\"],\"tooltips\":[[\"Variable\",\"@{Variable}\"],[\"index\",\"@{index}\"],[\"value\",\"@{value}\"]]},\"id\":\"3650\",\"type\":\"HoverTool\"},{\"attributes\":{},\"id\":\"3686\",\"type\":\"BasicTickFormatter\"},{\"attributes\":{\"children\":[{\"id\":\"3647\"},{\"id\":\"3652\"},{\"id\":\"3839\"}],\"margin\":[0,0,0,0],\"name\":\"Row07034\",\"tags\":[\"embedded\"]},\"id\":\"3646\",\"type\":\"Row\"},{\"attributes\":{},\"id\":\"3673\",\"type\":\"ResetTool\"},{\"attributes\":{\"axis\":{\"id\":\"3661\"},\"grid_line_color\":null,\"ticker\":null},\"id\":\"3664\",\"type\":\"Grid\"},{\"attributes\":{\"line_alpha\":0.1,\"line_color\":\"#30a2da\",\"line_width\":2,\"x\":{\"field\":\"index\"},\"y\":{\"field\":\"value\"}},\"id\":\"3692\",\"type\":\"Line\"},{\"attributes\":{},\"id\":\"3662\",\"type\":\"BasicTicker\"},{\"attributes\":{\"text_color\":\"black\",\"text_font_size\":\"12pt\"},\"id\":\"3653\",\"type\":\"Title\"},{\"attributes\":{\"below\":[{\"id\":\"3661\"}],\"center\":[{\"id\":\"3664\"},{\"id\":\"3668\"}],\"height\":300,\"left\":[{\"id\":\"3665\"}],\"margin\":[5,5,5,5],\"min_border_bottom\":10,\"min_border_left\":10,\"min_border_right\":10,\"min_border_top\":10,\"renderers\":[{\"id\":\"3694\"},{\"id\":\"3715\"}],\"right\":[{\"id\":\"3706\"}],\"sizing_mode\":\"fixed\",\"title\":{\"id\":\"3653\"},\"toolbar\":{\"id\":\"3675\"},\"width\":700,\"x_range\":{\"id\":\"3648\"},\"x_scale\":{\"id\":\"3657\"},\"y_range\":{\"id\":\"3649\"},\"y_scale\":{\"id\":\"3659\"}},\"id\":\"3652\",\"subtype\":\"Figure\",\"type\":\"Plot\"},{\"attributes\":{},\"id\":\"3659\",\"type\":\"LinearScale\"}],\"root_ids\":[\"3646\"]},\"title\":\"Bokeh Application\",\"version\":\"2.3.2\"}};\n",
       "    var render_items = [{\"docid\":\"d5d9c1b2-fcd0-46dd-b7df-03deca5c6277\",\"root_ids\":[\"3646\"],\"roots\":{\"3646\":\"c401c8d7-6e05-4ef8-a9ac-0c3fd01fca81\"}}];\n",
       "    root.Bokeh.embed.embed_items_notebook(docs_json, render_items);\n",
       "  }\n",
       "  if (root.Bokeh !== undefined && root.Bokeh.Panel !== undefined) {\n",
       "    embed_document(root);\n",
       "  } else {\n",
       "    var attempts = 0;\n",
       "    var timer = setInterval(function(root) {\n",
       "      if (root.Bokeh !== undefined && root.Bokeh.Panel !== undefined) {\n",
       "        clearInterval(timer);\n",
       "        embed_document(root);\n",
       "      } else if (document.readyState == \"complete\") {\n",
       "        attempts++;\n",
       "        if (attempts > 200) {\n",
       "          clearInterval(timer);\n",
       "          console.log(\"Bokeh: ERROR: Unable to run BokehJS code because BokehJS library is missing\");\n",
       "        }\n",
       "      }\n",
       "    }, 25, root)\n",
       "  }\n",
       "})(window);</script>"
      ],
      "text/plain": [
       ":NdOverlay   [Variable]\n",
       "   :Curve   [index]   (value)"
      ]
     },
     "execution_count": 51,
     "metadata": {
      "application/vnd.holoviews_exec.v0+json": {
       "id": "3646"
      }
     },
     "output_type": "execute_result"
    }
   ],
   "source": [
    "# Plot a line chart with all the inertia values computed with \n",
    "# the different values of k to visually identify the optimal value for k.\n",
    "elbow_scaled_plot = elbow_df.hvplot()\n",
    "elbow_scaled_plot"
   ]
  },
  {
   "cell_type": "markdown",
   "metadata": {},
   "source": [
    "#### Answer the following question: What is the best value for k?\n",
    "**Question:** What is the best value for `k`?\n",
    "\n",
    "**Answer:** 3-4"
   ]
  },
  {
   "cell_type": "markdown",
   "metadata": {},
   "source": [
    "---"
   ]
  },
  {
   "cell_type": "markdown",
   "metadata": {},
   "source": [
    "### Cluster Cryptocurrencies with K-means Using the Original Data\n",
    "\n",
    "In this section, you will use the K-Means algorithm with the best value for `k` found in the previous section to cluster the cryptocurrencies according to the price changes of cryptocurrencies provided.\n",
    "\n",
    "1. Initialize the K-Means model with four clusters using the best value for `k`. \n",
    "\n",
    "2. Fit the K-Means model using the original data.\n",
    "\n",
    "3. Predict the clusters to group the cryptocurrencies using the original data. View the resulting array of cluster values.\n",
    "\n",
    "4. Create a copy of the original data and add a new column with the predicted clusters.\n",
    "\n",
    "5. Create a scatter plot using hvPlot by setting `x=\"price_change_percentage_24h\"` and `y=\"price_change_percentage_7d\"`. Color the graph points with the labels found using K-Means and add the crypto name in the `hover_cols` parameter to identify the cryptocurrency represented by each data point."
   ]
  },
  {
   "cell_type": "code",
   "execution_count": 21,
   "metadata": {},
   "outputs": [],
   "source": [
    "# Initialize the K-Means model using the best value for k\n",
    "model = KMeans(n_clusters=4)"
   ]
  },
  {
   "cell_type": "code",
   "execution_count": 22,
   "metadata": {},
   "outputs": [
    {
     "data": {
      "text/plain": [
       "KMeans(n_clusters=4)"
      ]
     },
     "execution_count": 22,
     "metadata": {},
     "output_type": "execute_result"
    }
   ],
   "source": [
    "# Fit the K-Means model using the scaled data\n",
    "model.fit(df_market_data_scaled)"
   ]
  },
  {
   "cell_type": "code",
   "execution_count": 23,
   "metadata": {},
   "outputs": [
    {
     "data": {
      "text/plain": [
       "array([3, 3, 0, 0, 3, 3, 3, 3, 3, 0, 0, 0, 0, 3, 0, 3, 0, 0, 3, 0, 0, 3,\n",
       "       0, 0, 0, 0, 0, 0, 3, 0, 0, 0, 2, 3, 0, 0, 1, 0, 0, 0, 0])"
      ]
     },
     "execution_count": 23,
     "metadata": {},
     "output_type": "execute_result"
    }
   ],
   "source": [
    "# Predict the clusters to group the cryptocurrencies using the scaled data\n",
    "clusters = model.predict(df_market_data_scaled)\n",
    "\n",
    "# View the resulting array of cluster values.\n",
    "clusters"
   ]
  },
  {
   "cell_type": "code",
   "execution_count": 24,
   "metadata": {},
   "outputs": [],
   "source": [
    "# Create a copy of the DataFrame\n",
    "df_market_data_scaled_prediction = df_market_data_scaled.copy()"
   ]
  },
  {
   "cell_type": "code",
   "execution_count": 25,
   "metadata": {},
   "outputs": [
    {
     "data": {
      "text/html": [
       "<div>\n",
       "<style scoped>\n",
       "    .dataframe tbody tr th:only-of-type {\n",
       "        vertical-align: middle;\n",
       "    }\n",
       "\n",
       "    .dataframe tbody tr th {\n",
       "        vertical-align: top;\n",
       "    }\n",
       "\n",
       "    .dataframe thead th {\n",
       "        text-align: right;\n",
       "    }\n",
       "</style>\n",
       "<table border=\"1\" class=\"dataframe\">\n",
       "  <thead>\n",
       "    <tr style=\"text-align: right;\">\n",
       "      <th></th>\n",
       "      <th>price_change_percentage_24h</th>\n",
       "      <th>price_change_percentage_7d</th>\n",
       "      <th>price_change_percentage_14d</th>\n",
       "      <th>price_change_percentage_30d</th>\n",
       "      <th>price_change_percentage_60d</th>\n",
       "      <th>price_change_percentage_200d</th>\n",
       "      <th>price_change_percentage_1y</th>\n",
       "      <th>Clusters</th>\n",
       "    </tr>\n",
       "    <tr>\n",
       "      <th>coin_id</th>\n",
       "      <th></th>\n",
       "      <th></th>\n",
       "      <th></th>\n",
       "      <th></th>\n",
       "      <th></th>\n",
       "      <th></th>\n",
       "      <th></th>\n",
       "      <th></th>\n",
       "    </tr>\n",
       "  </thead>\n",
       "  <tbody>\n",
       "    <tr>\n",
       "      <th>bitcoin</th>\n",
       "      <td>0.508529</td>\n",
       "      <td>0.493193</td>\n",
       "      <td>0.772200</td>\n",
       "      <td>0.235460</td>\n",
       "      <td>-0.067495</td>\n",
       "      <td>-0.355953</td>\n",
       "      <td>-0.251637</td>\n",
       "      <td>3</td>\n",
       "    </tr>\n",
       "    <tr>\n",
       "      <th>ethereum</th>\n",
       "      <td>0.185446</td>\n",
       "      <td>0.934445</td>\n",
       "      <td>0.558692</td>\n",
       "      <td>-0.054341</td>\n",
       "      <td>-0.273483</td>\n",
       "      <td>-0.115759</td>\n",
       "      <td>-0.199352</td>\n",
       "      <td>3</td>\n",
       "    </tr>\n",
       "    <tr>\n",
       "      <th>tether</th>\n",
       "      <td>0.021774</td>\n",
       "      <td>-0.706337</td>\n",
       "      <td>-0.021680</td>\n",
       "      <td>-0.061030</td>\n",
       "      <td>0.008005</td>\n",
       "      <td>-0.550247</td>\n",
       "      <td>-0.282061</td>\n",
       "      <td>0</td>\n",
       "    </tr>\n",
       "    <tr>\n",
       "      <th>ripple</th>\n",
       "      <td>-0.040764</td>\n",
       "      <td>-0.810928</td>\n",
       "      <td>0.249458</td>\n",
       "      <td>-0.050388</td>\n",
       "      <td>-0.373164</td>\n",
       "      <td>-0.458259</td>\n",
       "      <td>-0.295546</td>\n",
       "      <td>0</td>\n",
       "    </tr>\n",
       "    <tr>\n",
       "      <th>bitcoin-cash</th>\n",
       "      <td>1.193036</td>\n",
       "      <td>2.000959</td>\n",
       "      <td>1.760610</td>\n",
       "      <td>0.545842</td>\n",
       "      <td>-0.291203</td>\n",
       "      <td>-0.499848</td>\n",
       "      <td>-0.270317</td>\n",
       "      <td>3</td>\n",
       "    </tr>\n",
       "  </tbody>\n",
       "</table>\n",
       "</div>"
      ],
      "text/plain": [
       "              price_change_percentage_24h  price_change_percentage_7d  \\\n",
       "coin_id                                                                 \n",
       "bitcoin                          0.508529                    0.493193   \n",
       "ethereum                         0.185446                    0.934445   \n",
       "tether                           0.021774                   -0.706337   \n",
       "ripple                          -0.040764                   -0.810928   \n",
       "bitcoin-cash                     1.193036                    2.000959   \n",
       "\n",
       "              price_change_percentage_14d  price_change_percentage_30d  \\\n",
       "coin_id                                                                  \n",
       "bitcoin                          0.772200                     0.235460   \n",
       "ethereum                         0.558692                    -0.054341   \n",
       "tether                          -0.021680                    -0.061030   \n",
       "ripple                           0.249458                    -0.050388   \n",
       "bitcoin-cash                     1.760610                     0.545842   \n",
       "\n",
       "              price_change_percentage_60d  price_change_percentage_200d  \\\n",
       "coin_id                                                                   \n",
       "bitcoin                         -0.067495                     -0.355953   \n",
       "ethereum                        -0.273483                     -0.115759   \n",
       "tether                           0.008005                     -0.550247   \n",
       "ripple                          -0.373164                     -0.458259   \n",
       "bitcoin-cash                    -0.291203                     -0.499848   \n",
       "\n",
       "              price_change_percentage_1y  Clusters  \n",
       "coin_id                                             \n",
       "bitcoin                        -0.251637         3  \n",
       "ethereum                       -0.199352         3  \n",
       "tether                         -0.282061         0  \n",
       "ripple                         -0.295546         0  \n",
       "bitcoin-cash                   -0.270317         3  "
      ]
     },
     "execution_count": 25,
     "metadata": {},
     "output_type": "execute_result"
    }
   ],
   "source": [
    "# Add a new column to the DataFrame with the predicted clusters\n",
    "df_market_data_scaled_prediction['Clusters'] = clusters\n",
    "\n",
    "# Display sample data\n",
    "df_market_data_scaled_prediction.head()"
   ]
  },
  {
   "cell_type": "code",
   "execution_count": 52,
   "metadata": {},
   "outputs": [
    {
     "data": {},
     "metadata": {},
     "output_type": "display_data"
    },
    {
     "data": {
      "application/vnd.holoviews_exec.v0+json": "",
      "text/html": [
       "<div id='3901'>\n",
       "\n",
       "\n",
       "\n",
       "\n",
       "\n",
       "  <div class=\"bk-root\" id=\"14c3fabe-0c23-4f72-8d7d-6ba68c781977\" data-root-id=\"3901\"></div>\n",
       "</div>\n",
       "<script type=\"application/javascript\">(function(root) {\n",
       "  function embed_document(root) {\n",
       "    var docs_json = {\"5d6116fe-e6a3-4e83-a50a-5f858a62451a\":{\"defs\":[{\"extends\":null,\"module\":null,\"name\":\"ReactiveHTML1\",\"overrides\":[],\"properties\":[]},{\"extends\":null,\"module\":null,\"name\":\"FlexBox1\",\"overrides\":[],\"properties\":[{\"default\":\"flex-start\",\"kind\":null,\"name\":\"align_content\"},{\"default\":\"flex-start\",\"kind\":null,\"name\":\"align_items\"},{\"default\":\"row\",\"kind\":null,\"name\":\"flex_direction\"},{\"default\":\"wrap\",\"kind\":null,\"name\":\"flex_wrap\"},{\"default\":\"flex-start\",\"kind\":null,\"name\":\"justify_content\"}]},{\"extends\":null,\"module\":null,\"name\":\"TemplateActions1\",\"overrides\":[],\"properties\":[{\"default\":0,\"kind\":null,\"name\":\"open_modal\"},{\"default\":0,\"kind\":null,\"name\":\"close_modal\"}]},{\"extends\":null,\"module\":null,\"name\":\"MaterialTemplateActions1\",\"overrides\":[],\"properties\":[{\"default\":0,\"kind\":null,\"name\":\"open_modal\"},{\"default\":0,\"kind\":null,\"name\":\"close_modal\"}]}],\"roots\":{\"references\":[{\"attributes\":{},\"id\":\"3919\",\"type\":\"BasicTicker\"},{\"attributes\":{\"axis\":{\"id\":\"3918\"},\"grid_line_color\":null,\"ticker\":null},\"id\":\"3921\",\"type\":\"Grid\"},{\"attributes\":{\"source\":{\"id\":\"3966\"}},\"id\":\"3973\",\"type\":\"CDSView\"},{\"attributes\":{},\"id\":\"3916\",\"type\":\"LinearScale\"},{\"attributes\":{\"axis_label\":\"price_change_percentage_7d\",\"formatter\":{\"id\":\"3943\"},\"major_label_policy\":{\"id\":\"3944\"},\"ticker\":{\"id\":\"3923\"}},\"id\":\"3922\",\"type\":\"LinearAxis\"},{\"attributes\":{\"axis_label\":\"price_change_percentage_24h\",\"formatter\":{\"id\":\"3940\"},\"major_label_policy\":{\"id\":\"3941\"},\"ticker\":{\"id\":\"3919\"}},\"id\":\"3918\",\"type\":\"LinearAxis\"},{\"attributes\":{},\"id\":\"3923\",\"type\":\"BasicTicker\"},{\"attributes\":{\"axis\":{\"id\":\"3922\"},\"dimension\":1,\"grid_line_color\":null,\"ticker\":null},\"id\":\"3925\",\"type\":\"Grid\"},{\"attributes\":{\"margin\":[5,5,5,5],\"name\":\"HSpacer07538\",\"sizing_mode\":\"stretch_width\"},\"id\":\"4182\",\"type\":\"Spacer\"},{\"attributes\":{\"callback\":null,\"renderers\":[{\"id\":\"3951\"},{\"id\":\"3972\"},{\"id\":\"3994\"},{\"id\":\"4018\"}],\"tags\":[\"hv_created\"],\"tooltips\":[[\"Clusters\",\"@{Clusters}\"],[\"price_change_percentage_24h\",\"@{price_change_percentage_24h}\"],[\"price_change_percentage_7d\",\"@{price_change_percentage_7d}\"]]},\"id\":\"3905\",\"type\":\"HoverTool\"},{\"attributes\":{\"active_multi\":null,\"tools\":[{\"id\":\"3905\"},{\"id\":\"3926\"},{\"id\":\"3927\"},{\"id\":\"3928\"},{\"id\":\"3929\"},{\"id\":\"3930\"}]},\"id\":\"3932\",\"type\":\"Toolbar\"},{\"attributes\":{},\"id\":\"3926\",\"type\":\"SaveTool\"},{\"attributes\":{\"data\":{\"Clusters\":[3,3,3,3,3,3,3,3,3,3,3,3,3],\"price_change_percentage_24h\":{\"__ndarray__\":\"DdlqYN9F4D86azDosLzHPzALIwCtFvM/9w6McDSK7D/VDHOpb1eHPzMEvaFkP7o/Sds39trWsz9Epj8/c9DQP4xAeNEVZ8O/qq8st/Fh0L8FWWk3mH7gP6wo083aUMC//ACFOIMFwL8=\",\"dtype\":\"float64\",\"order\":\"little\",\"shape\":[13]},\"price_change_percentage_7d\":{\"__ndarray__\":\"U1k8q3mQ3z9yoPpI+ebtPzAB2dP2AQBAgmkOMZk89T8FNulI+JMEQCZRaSLGIPg/84wjaB1l1T8rMp3jf678P2VmURqKqeY/XK6ZksNx/T9DfMqy1o7dPyTPDB1Xu+0/srW7TleV4j8=\",\"dtype\":\"float64\",\"order\":\"little\",\"shape\":[13]}},\"selected\":{\"id\":\"4013\"},\"selection_policy\":{\"id\":\"4035\"}},\"id\":\"4012\",\"type\":\"ColumnDataSource\"},{\"attributes\":{},\"id\":\"3927\",\"type\":\"PanTool\"},{\"attributes\":{},\"id\":\"3930\",\"type\":\"ResetTool\"},{\"attributes\":{},\"id\":\"3944\",\"type\":\"AllLabels\"},{\"attributes\":{\"label\":{\"value\":\"0\"},\"renderers\":[{\"id\":\"3951\"}]},\"id\":\"3964\",\"type\":\"LegendItem\"},{\"attributes\":{},\"id\":\"3928\",\"type\":\"WheelZoomTool\"},{\"attributes\":{\"overlay\":{\"id\":\"3931\"}},\"id\":\"3929\",\"type\":\"BoxZoomTool\"},{\"attributes\":{},\"id\":\"3941\",\"type\":\"AllLabels\"},{\"attributes\":{\"angle\":{\"value\":0.0},\"fill_alpha\":{\"value\":1.0},\"fill_color\":{\"value\":\"#30a2da\"},\"hatch_alpha\":{\"value\":1.0},\"hatch_color\":{\"value\":\"black\"},\"hatch_scale\":{\"value\":12.0},\"hatch_weight\":{\"value\":1.0},\"line_alpha\":{\"value\":1.0},\"line_cap\":{\"value\":\"butt\"},\"line_color\":{\"value\":\"#30a2da\"},\"line_dash\":{\"value\":[]},\"line_dash_offset\":{\"value\":0},\"line_join\":{\"value\":\"bevel\"},\"line_width\":{\"value\":1},\"marker\":{\"value\":\"circle\"},\"size\":{\"value\":5.477225575051661},\"x\":{\"field\":\"price_change_percentage_24h\"},\"y\":{\"field\":\"price_change_percentage_7d\"}},\"id\":\"3965\",\"type\":\"Scatter\"},{\"attributes\":{\"fill_alpha\":{\"value\":0.1},\"fill_color\":{\"value\":\"#fc4f30\"},\"line_alpha\":{\"value\":0.1},\"line_color\":{\"value\":\"#fc4f30\"},\"size\":{\"value\":5.477225575051661},\"x\":{\"field\":\"price_change_percentage_24h\"},\"y\":{\"field\":\"price_change_percentage_7d\"}},\"id\":\"3970\",\"type\":\"Scatter\"},{\"attributes\":{\"data_source\":{\"id\":\"3945\"},\"glyph\":{\"id\":\"3948\"},\"hover_glyph\":null,\"muted_glyph\":{\"id\":\"3950\"},\"nonselection_glyph\":{\"id\":\"3949\"},\"selection_glyph\":{\"id\":\"3965\"},\"view\":{\"id\":\"3952\"}},\"id\":\"3951\",\"type\":\"GlyphRenderer\"},{\"attributes\":{\"label\":{\"value\":\"3\"},\"renderers\":[{\"id\":\"4018\"}]},\"id\":\"4036\",\"type\":\"LegendItem\"},{\"attributes\":{},\"id\":\"4009\",\"type\":\"UnionRenderers\"},{\"attributes\":{\"label\":{\"value\":\"2\"},\"renderers\":[{\"id\":\"3994\"}]},\"id\":\"4010\",\"type\":\"LegendItem\"},{\"attributes\":{},\"id\":\"3946\",\"type\":\"Selection\"},{\"attributes\":{},\"id\":\"4035\",\"type\":\"UnionRenderers\"},{\"attributes\":{\"data_source\":{\"id\":\"4012\"},\"glyph\":{\"id\":\"4015\"},\"hover_glyph\":null,\"muted_glyph\":{\"id\":\"4017\"},\"nonselection_glyph\":{\"id\":\"4016\"},\"selection_glyph\":{\"id\":\"4037\"},\"view\":{\"id\":\"4019\"}},\"id\":\"4018\",\"type\":\"GlyphRenderer\"},{\"attributes\":{\"fill_color\":{\"value\":\"#30a2da\"},\"line_color\":{\"value\":\"#30a2da\"},\"size\":{\"value\":5.477225575051661},\"x\":{\"field\":\"price_change_percentage_24h\"},\"y\":{\"field\":\"price_change_percentage_7d\"}},\"id\":\"3948\",\"type\":\"Scatter\"},{\"attributes\":{},\"id\":\"3914\",\"type\":\"LinearScale\"},{\"attributes\":{\"end\":2.997678656273595,\"reset_end\":2.997678656273595,\"reset_start\":-2.107454305728652,\"start\":-2.107454305728652,\"tags\":[[[\"price_change_percentage_7d\",\"price_change_percentage_7d\",null]]]},\"id\":\"3904\",\"type\":\"Range1d\"},{\"attributes\":{},\"id\":\"3967\",\"type\":\"Selection\"},{\"attributes\":{\"data_source\":{\"id\":\"3966\"},\"glyph\":{\"id\":\"3969\"},\"hover_glyph\":null,\"muted_glyph\":{\"id\":\"3971\"},\"nonselection_glyph\":{\"id\":\"3970\"},\"selection_glyph\":{\"id\":\"3987\"},\"view\":{\"id\":\"3973\"}},\"id\":\"3972\",\"type\":\"GlyphRenderer\"},{\"attributes\":{\"label\":{\"value\":\"1\"},\"renderers\":[{\"id\":\"3972\"}]},\"id\":\"3986\",\"type\":\"LegendItem\"},{\"attributes\":{\"angle\":{\"value\":0.0},\"fill_alpha\":{\"value\":1.0},\"fill_color\":{\"value\":\"#6d904f\"},\"hatch_alpha\":{\"value\":1.0},\"hatch_color\":{\"value\":\"black\"},\"hatch_scale\":{\"value\":12.0},\"hatch_weight\":{\"value\":1.0},\"line_alpha\":{\"value\":1.0},\"line_cap\":{\"value\":\"butt\"},\"line_color\":{\"value\":\"#6d904f\"},\"line_dash\":{\"value\":[]},\"line_dash_offset\":{\"value\":0},\"line_join\":{\"value\":\"bevel\"},\"line_width\":{\"value\":1},\"marker\":{\"value\":\"circle\"},\"size\":{\"value\":5.477225575051661},\"x\":{\"field\":\"price_change_percentage_24h\"},\"y\":{\"field\":\"price_change_percentage_7d\"}},\"id\":\"4037\",\"type\":\"Scatter\"},{\"attributes\":{\"data_source\":{\"id\":\"3988\"},\"glyph\":{\"id\":\"3991\"},\"hover_glyph\":null,\"muted_glyph\":{\"id\":\"3993\"},\"nonselection_glyph\":{\"id\":\"3992\"},\"selection_glyph\":{\"id\":\"4011\"},\"view\":{\"id\":\"3995\"}},\"id\":\"3994\",\"type\":\"GlyphRenderer\"},{\"attributes\":{},\"id\":\"3962\",\"type\":\"UnionRenderers\"},{\"attributes\":{},\"id\":\"3989\",\"type\":\"Selection\"},{\"attributes\":{\"margin\":[5,5,5,5],\"name\":\"HSpacer07537\",\"sizing_mode\":\"stretch_width\"},\"id\":\"3902\",\"type\":\"Spacer\"},{\"attributes\":{\"angle\":{\"value\":0.0},\"fill_alpha\":{\"value\":1.0},\"fill_color\":{\"value\":\"#e5ae38\"},\"hatch_alpha\":{\"value\":1.0},\"hatch_color\":{\"value\":\"black\"},\"hatch_scale\":{\"value\":12.0},\"hatch_weight\":{\"value\":1.0},\"line_alpha\":{\"value\":1.0},\"line_cap\":{\"value\":\"butt\"},\"line_color\":{\"value\":\"#e5ae38\"},\"line_dash\":{\"value\":[]},\"line_dash_offset\":{\"value\":0},\"line_join\":{\"value\":\"bevel\"},\"line_width\":{\"value\":1},\"marker\":{\"value\":\"circle\"},\"size\":{\"value\":5.477225575051661},\"x\":{\"field\":\"price_change_percentage_24h\"},\"y\":{\"field\":\"price_change_percentage_7d\"}},\"id\":\"4011\",\"type\":\"Scatter\"},{\"attributes\":{},\"id\":\"3985\",\"type\":\"UnionRenderers\"},{\"attributes\":{},\"id\":\"4013\",\"type\":\"Selection\"},{\"attributes\":{\"text_color\":\"black\",\"text_font_size\":\"12pt\"},\"id\":\"3910\",\"type\":\"Title\"},{\"attributes\":{\"data\":{\"Clusters\":[2],\"price_change_percentage_24h\":{\"__ndarray__\":\"3WeHPpbsE8A=\",\"dtype\":\"float64\",\"order\":\"little\",\"shape\":[1]},\"price_change_percentage_7d\":{\"__ndarray__\":\"dIWi2pshp78=\",\"dtype\":\"float64\",\"order\":\"little\",\"shape\":[1]}},\"selected\":{\"id\":\"3989\"},\"selection_policy\":{\"id\":\"4009\"}},\"id\":\"3988\",\"type\":\"ColumnDataSource\"},{\"attributes\":{\"children\":[{\"id\":\"3902\"},{\"id\":\"3909\"},{\"id\":\"4182\"}],\"margin\":[0,0,0,0],\"name\":\"Row07533\",\"tags\":[\"embedded\"]},\"id\":\"3901\",\"type\":\"Row\"},{\"attributes\":{\"data\":{\"Clusters\":[0,0,0,0,0,0,0,0,0,0,0,0,0,0,0,0,0,0,0,0,0,0,0,0,0,0],\"price_change_percentage_24h\":{\"__ndarray__\":\"mCJF1OlLlj/mJRG3Ed+kv1qZGRifu9w//rJXHrAz1T/yMTqenpahPx9kk3dK7sM/GTRehHalwD90fnl54Irtv9XPDahDw9G/+VOWQSEmxz+kpbukw1bSP6eM4M4OgKo/BcMOj9+jqr/Chq6S5ebLv2h3TIfCZ68/weEQ8QyV0D/KmZTmC7niP1YH9WGFy/m/N7JuVBEB07/EU4GAhEGyv8Ocf0hw2/a/lrPBJY23/j/IKcQzxy3av5WrmDyeito/Bf22eE/6sz9Y362Ir3rzPw==\",\"dtype\":\"float64\",\"order\":\"little\",\"shape\":[26]},\"price_change_percentage_7d\":{\"__ndarray__\":\"bZSIvk+a5r9RujxqH/Ppvw2U7adXaMi/d+r7VGbW+b9EGSx/8nTnv4rfBo4Lhe2/BEBwXEEApb8Udj8VbP/2vySelkVDp9i/7SZvVsyO5r8uu+JVH+LUvziN+gRMte2/o2qlez1D3b/CtPLKIS7rvyYjaswHnea/US6joeTvzz/dRmuCvtDvv/9TV66U6fq/ZWX+mWVCuD8GJ0pHuV/Nv8nIE2ZWH5q/TTxj/me11z+Htdvf1gXtv2Avihmzf9o/e31xtwIC5r/STlu6Y3Ljvw==\",\"dtype\":\"float64\",\"order\":\"little\",\"shape\":[26]}},\"selected\":{\"id\":\"3946\"},\"selection_policy\":{\"id\":\"3962\"}},\"id\":\"3945\",\"type\":\"ColumnDataSource\"},{\"attributes\":{\"fill_alpha\":{\"value\":0.2},\"fill_color\":{\"value\":\"#fc4f30\"},\"line_alpha\":{\"value\":0.2},\"line_color\":{\"value\":\"#fc4f30\"},\"size\":{\"value\":5.477225575051661},\"x\":{\"field\":\"price_change_percentage_24h\"},\"y\":{\"field\":\"price_change_percentage_7d\"}},\"id\":\"3971\",\"type\":\"Scatter\"},{\"attributes\":{\"fill_alpha\":{\"value\":0.2},\"fill_color\":{\"value\":\"#30a2da\"},\"line_alpha\":{\"value\":0.2},\"line_color\":{\"value\":\"#30a2da\"},\"size\":{\"value\":5.477225575051661},\"x\":{\"field\":\"price_change_percentage_24h\"},\"y\":{\"field\":\"price_change_percentage_7d\"}},\"id\":\"3950\",\"type\":\"Scatter\"},{\"attributes\":{\"fill_color\":{\"value\":\"#e5ae38\"},\"line_color\":{\"value\":\"#e5ae38\"},\"size\":{\"value\":5.477225575051661},\"x\":{\"field\":\"price_change_percentage_24h\"},\"y\":{\"field\":\"price_change_percentage_7d\"}},\"id\":\"3991\",\"type\":\"Scatter\"},{\"attributes\":{\"bottom_units\":\"screen\",\"fill_alpha\":0.5,\"fill_color\":\"lightgrey\",\"left_units\":\"screen\",\"level\":\"overlay\",\"line_alpha\":1.0,\"line_color\":\"black\",\"line_dash\":[4,4],\"line_width\":2,\"right_units\":\"screen\",\"syncable\":false,\"top_units\":\"screen\"},\"id\":\"3931\",\"type\":\"BoxAnnotation\"},{\"attributes\":{\"end\":2.2155632386560065,\"reset_end\":2.2155632386560065,\"reset_start\":-5.276792781891412,\"start\":-5.276792781891412,\"tags\":[[[\"price_change_percentage_24h\",\"price_change_percentage_24h\",null]]]},\"id\":\"3903\",\"type\":\"Range1d\"},{\"attributes\":{\"fill_alpha\":{\"value\":0.1},\"fill_color\":{\"value\":\"#30a2da\"},\"line_alpha\":{\"value\":0.1},\"line_color\":{\"value\":\"#30a2da\"},\"size\":{\"value\":5.477225575051661},\"x\":{\"field\":\"price_change_percentage_24h\"},\"y\":{\"field\":\"price_change_percentage_7d\"}},\"id\":\"3949\",\"type\":\"Scatter\"},{\"attributes\":{\"fill_color\":{\"value\":\"#fc4f30\"},\"line_color\":{\"value\":\"#fc4f30\"},\"size\":{\"value\":5.477225575051661},\"x\":{\"field\":\"price_change_percentage_24h\"},\"y\":{\"field\":\"price_change_percentage_7d\"}},\"id\":\"3969\",\"type\":\"Scatter\"},{\"attributes\":{\"angle\":{\"value\":0.0},\"fill_alpha\":{\"value\":1.0},\"fill_color\":{\"value\":\"#fc4f30\"},\"hatch_alpha\":{\"value\":1.0},\"hatch_color\":{\"value\":\"black\"},\"hatch_scale\":{\"value\":12.0},\"hatch_weight\":{\"value\":1.0},\"line_alpha\":{\"value\":1.0},\"line_cap\":{\"value\":\"butt\"},\"line_color\":{\"value\":\"#fc4f30\"},\"line_dash\":{\"value\":[]},\"line_dash_offset\":{\"value\":0},\"line_join\":{\"value\":\"bevel\"},\"line_width\":{\"value\":1},\"marker\":{\"value\":\"circle\"},\"size\":{\"value\":5.477225575051661},\"x\":{\"field\":\"price_change_percentage_24h\"},\"y\":{\"field\":\"price_change_percentage_7d\"}},\"id\":\"3987\",\"type\":\"Scatter\"},{\"attributes\":{\"source\":{\"id\":\"3945\"}},\"id\":\"3952\",\"type\":\"CDSView\"},{\"attributes\":{\"click_policy\":\"mute\",\"items\":[{\"id\":\"3964\"},{\"id\":\"3986\"},{\"id\":\"4010\"},{\"id\":\"4036\"}],\"location\":[0,0],\"title\":\"Clusters\"},\"id\":\"3963\",\"type\":\"Legend\"},{\"attributes\":{\"source\":{\"id\":\"4012\"}},\"id\":\"4019\",\"type\":\"CDSView\"},{\"attributes\":{\"data\":{\"Clusters\":[1],\"price_change_percentage_24h\":{\"__ndarray__\":\"VLqXBn668D8=\",\"dtype\":\"float64\",\"order\":\"little\",\"shape\":[1]},\"price_change_percentage_7d\":{\"__ndarray__\":\"Nv03JFjJ478=\",\"dtype\":\"float64\",\"order\":\"little\",\"shape\":[1]}},\"selected\":{\"id\":\"3967\"},\"selection_policy\":{\"id\":\"3985\"}},\"id\":\"3966\",\"type\":\"ColumnDataSource\"},{\"attributes\":{\"fill_alpha\":{\"value\":0.1},\"fill_color\":{\"value\":\"#6d904f\"},\"line_alpha\":{\"value\":0.1},\"line_color\":{\"value\":\"#6d904f\"},\"size\":{\"value\":5.477225575051661},\"x\":{\"field\":\"price_change_percentage_24h\"},\"y\":{\"field\":\"price_change_percentage_7d\"}},\"id\":\"4016\",\"type\":\"Scatter\"},{\"attributes\":{\"fill_alpha\":{\"value\":0.2},\"fill_color\":{\"value\":\"#6d904f\"},\"line_alpha\":{\"value\":0.2},\"line_color\":{\"value\":\"#6d904f\"},\"size\":{\"value\":5.477225575051661},\"x\":{\"field\":\"price_change_percentage_24h\"},\"y\":{\"field\":\"price_change_percentage_7d\"}},\"id\":\"4017\",\"type\":\"Scatter\"},{\"attributes\":{},\"id\":\"3943\",\"type\":\"BasicTickFormatter\"},{\"attributes\":{\"fill_alpha\":{\"value\":0.2},\"fill_color\":{\"value\":\"#e5ae38\"},\"line_alpha\":{\"value\":0.2},\"line_color\":{\"value\":\"#e5ae38\"},\"size\":{\"value\":5.477225575051661},\"x\":{\"field\":\"price_change_percentage_24h\"},\"y\":{\"field\":\"price_change_percentage_7d\"}},\"id\":\"3993\",\"type\":\"Scatter\"},{\"attributes\":{\"fill_color\":{\"value\":\"#6d904f\"},\"line_color\":{\"value\":\"#6d904f\"},\"size\":{\"value\":5.477225575051661},\"x\":{\"field\":\"price_change_percentage_24h\"},\"y\":{\"field\":\"price_change_percentage_7d\"}},\"id\":\"4015\",\"type\":\"Scatter\"},{\"attributes\":{\"source\":{\"id\":\"3988\"}},\"id\":\"3995\",\"type\":\"CDSView\"},{\"attributes\":{\"fill_alpha\":{\"value\":0.1},\"fill_color\":{\"value\":\"#e5ae38\"},\"line_alpha\":{\"value\":0.1},\"line_color\":{\"value\":\"#e5ae38\"},\"size\":{\"value\":5.477225575051661},\"x\":{\"field\":\"price_change_percentage_24h\"},\"y\":{\"field\":\"price_change_percentage_7d\"}},\"id\":\"3992\",\"type\":\"Scatter\"},{\"attributes\":{},\"id\":\"3940\",\"type\":\"BasicTickFormatter\"},{\"attributes\":{\"below\":[{\"id\":\"3918\"}],\"center\":[{\"id\":\"3921\"},{\"id\":\"3925\"}],\"height\":300,\"left\":[{\"id\":\"3922\"}],\"margin\":[5,5,5,5],\"min_border_bottom\":10,\"min_border_left\":10,\"min_border_right\":10,\"min_border_top\":10,\"renderers\":[{\"id\":\"3951\"},{\"id\":\"3972\"},{\"id\":\"3994\"},{\"id\":\"4018\"}],\"right\":[{\"id\":\"3963\"}],\"sizing_mode\":\"fixed\",\"title\":{\"id\":\"3910\"},\"toolbar\":{\"id\":\"3932\"},\"width\":700,\"x_range\":{\"id\":\"3903\"},\"x_scale\":{\"id\":\"3914\"},\"y_range\":{\"id\":\"3904\"},\"y_scale\":{\"id\":\"3916\"}},\"id\":\"3909\",\"subtype\":\"Figure\",\"type\":\"Plot\"}],\"root_ids\":[\"3901\"]},\"title\":\"Bokeh Application\",\"version\":\"2.3.2\"}};\n",
       "    var render_items = [{\"docid\":\"5d6116fe-e6a3-4e83-a50a-5f858a62451a\",\"root_ids\":[\"3901\"],\"roots\":{\"3901\":\"14c3fabe-0c23-4f72-8d7d-6ba68c781977\"}}];\n",
       "    root.Bokeh.embed.embed_items_notebook(docs_json, render_items);\n",
       "  }\n",
       "  if (root.Bokeh !== undefined && root.Bokeh.Panel !== undefined) {\n",
       "    embed_document(root);\n",
       "  } else {\n",
       "    var attempts = 0;\n",
       "    var timer = setInterval(function(root) {\n",
       "      if (root.Bokeh !== undefined && root.Bokeh.Panel !== undefined) {\n",
       "        clearInterval(timer);\n",
       "        embed_document(root);\n",
       "      } else if (document.readyState == \"complete\") {\n",
       "        attempts++;\n",
       "        if (attempts > 200) {\n",
       "          clearInterval(timer);\n",
       "          console.log(\"Bokeh: ERROR: Unable to run BokehJS code because BokehJS library is missing\");\n",
       "        }\n",
       "      }\n",
       "    }, 25, root)\n",
       "  }\n",
       "})(window);</script>"
      ],
      "text/plain": [
       ":NdOverlay   [Clusters]\n",
       "   :Scatter   [price_change_percentage_24h]   (price_change_percentage_7d)"
      ]
     },
     "execution_count": 52,
     "metadata": {
      "application/vnd.holoviews_exec.v0+json": {
       "id": "3901"
      }
     },
     "output_type": "execute_result"
    }
   ],
   "source": [
    "# Create a scatter plot using hvPlot by setting \n",
    "# `x=\"price_change_percentage_24h\"` and `y=\"price_change_percentage_7d\"`. \n",
    "# Color the graph points with the labels found using K-Means and \n",
    "# add the crypto name in the `hover_cols` parameter to identify \n",
    "# the cryptocurrency represented by each data point.\n",
    "scaled_scatter = df_market_data_scaled_prediction.hvplot.scatter(x=\"price_change_percentage_24h\",y=\"price_change_percentage_7d\", by='Clusters')\n",
    "scaled_scatter"
   ]
  },
  {
   "cell_type": "markdown",
   "metadata": {},
   "source": [
    "---"
   ]
  },
  {
   "cell_type": "markdown",
   "metadata": {},
   "source": [
    "### Optimize Clusters with Principal Component Analysis\n",
    "\n",
    "In this section, you will perform a principal component analysis (PCA) and reduce the features to three principal components.\n",
    "\n",
    "1. Create a PCA model instance and set `n_components=3`.\n",
    "\n",
    "2. Use the PCA model to reduce to three principal components. View the first five rows of the DataFrame. \n",
    "\n",
    "3. Retrieve the explained variance to determine how much information can be attributed to each principal component.\n",
    "\n",
    "4. Answer the following question: What is the total explained variance of the three principal components?\n",
    "\n",
    "5. Create a new DataFrame with the PCA data. Be sure to set the `coin_id` index from the original DataFrame as the index for the new DataFrame. Review the resulting DataFrame."
   ]
  },
  {
   "cell_type": "code",
   "execution_count": 27,
   "metadata": {},
   "outputs": [],
   "source": [
    "# Create a PCA model instance and set `n_components=3`.\n",
    "pca = PCA(n_components=3)"
   ]
  },
  {
   "cell_type": "code",
   "execution_count": 28,
   "metadata": {},
   "outputs": [
    {
     "data": {
      "text/plain": [
       "array([[-0.60066733,  0.84276006,  0.46159457],\n",
       "       [-0.45826071,  0.45846566,  0.95287678],\n",
       "       [-0.43306981, -0.16812638, -0.64175193],\n",
       "       [-0.47183495, -0.22266008, -0.47905316],\n",
       "       [-1.15779997,  2.04120919,  1.85971527]])"
      ]
     },
     "execution_count": 28,
     "metadata": {},
     "output_type": "execute_result"
    }
   ],
   "source": [
    "# Use the PCA model with `fit_transform` to reduce to \n",
    "# three principal components.\n",
    "pca_data = pca.fit_transform(df_market_data_scaled)\n",
    "\n",
    "# View the first five rows of the DataFrame. \n",
    "pca_data[0:5]"
   ]
  },
  {
   "cell_type": "code",
   "execution_count": 29,
   "metadata": {},
   "outputs": [
    {
     "data": {
      "text/plain": [
       "array([0.3719856 , 0.34700813, 0.17603793])"
      ]
     },
     "execution_count": 29,
     "metadata": {},
     "output_type": "execute_result"
    }
   ],
   "source": [
    "# Retrieve the explained variance to determine how much information \n",
    "# can be attributed to each principal component.\n",
    "pca.explained_variance_ratio_"
   ]
  },
  {
   "cell_type": "markdown",
   "metadata": {},
   "source": [
    "#### Answer the following question: What is the total explained variance of the three principal components?\n",
    "\n",
    "**Question:** What is the total explained variance of the three principal components?\n",
    "\n",
    "**Answer:** ~89%"
   ]
  },
  {
   "cell_type": "code",
   "execution_count": 32,
   "metadata": {},
   "outputs": [
    {
     "data": {
      "text/html": [
       "<div>\n",
       "<style scoped>\n",
       "    .dataframe tbody tr th:only-of-type {\n",
       "        vertical-align: middle;\n",
       "    }\n",
       "\n",
       "    .dataframe tbody tr th {\n",
       "        vertical-align: top;\n",
       "    }\n",
       "\n",
       "    .dataframe thead th {\n",
       "        text-align: right;\n",
       "    }\n",
       "</style>\n",
       "<table border=\"1\" class=\"dataframe\">\n",
       "  <thead>\n",
       "    <tr style=\"text-align: right;\">\n",
       "      <th></th>\n",
       "      <th>PC1</th>\n",
       "      <th>PC2</th>\n",
       "      <th>PC3</th>\n",
       "    </tr>\n",
       "    <tr>\n",
       "      <th>coin_id</th>\n",
       "      <th></th>\n",
       "      <th></th>\n",
       "      <th></th>\n",
       "    </tr>\n",
       "  </thead>\n",
       "  <tbody>\n",
       "    <tr>\n",
       "      <th>bitcoin</th>\n",
       "      <td>-0.600667</td>\n",
       "      <td>0.842760</td>\n",
       "      <td>0.461595</td>\n",
       "    </tr>\n",
       "    <tr>\n",
       "      <th>ethereum</th>\n",
       "      <td>-0.458261</td>\n",
       "      <td>0.458466</td>\n",
       "      <td>0.952877</td>\n",
       "    </tr>\n",
       "    <tr>\n",
       "      <th>tether</th>\n",
       "      <td>-0.433070</td>\n",
       "      <td>-0.168126</td>\n",
       "      <td>-0.641752</td>\n",
       "    </tr>\n",
       "    <tr>\n",
       "      <th>ripple</th>\n",
       "      <td>-0.471835</td>\n",
       "      <td>-0.222660</td>\n",
       "      <td>-0.479053</td>\n",
       "    </tr>\n",
       "    <tr>\n",
       "      <th>bitcoin-cash</th>\n",
       "      <td>-1.157800</td>\n",
       "      <td>2.041209</td>\n",
       "      <td>1.859715</td>\n",
       "    </tr>\n",
       "  </tbody>\n",
       "</table>\n",
       "</div>"
      ],
      "text/plain": [
       "                   PC1       PC2       PC3\n",
       "coin_id                                   \n",
       "bitcoin      -0.600667  0.842760  0.461595\n",
       "ethereum     -0.458261  0.458466  0.952877\n",
       "tether       -0.433070 -0.168126 -0.641752\n",
       "ripple       -0.471835 -0.222660 -0.479053\n",
       "bitcoin-cash -1.157800  2.041209  1.859715"
      ]
     },
     "execution_count": 32,
     "metadata": {},
     "output_type": "execute_result"
    }
   ],
   "source": [
    "# Create a new DataFrame with the PCA data.\n",
    "pca_df = pd.DataFrame(pca_data, columns=['PC1', 'PC2', 'PC3'])\n",
    "\n",
    "# Copy the crypto names from the original data\n",
    "pca_df['coin_id'] = df_market_data.index\n",
    "\n",
    "# Set the coinid column as index\n",
    "pca_df = pca_df.set_index('coin_id')\n",
    "\n",
    "# Display sample data\n",
    "pca_df.head()"
   ]
  },
  {
   "cell_type": "markdown",
   "metadata": {},
   "source": [
    "---"
   ]
  },
  {
   "cell_type": "markdown",
   "metadata": {},
   "source": [
    "### Find the Best Value for k Using the PCA Data\n",
    "\n",
    "In this section, you will use the elbow method to find the best value for `k` using the PCA data.\n",
    "\n",
    "1. Code the elbow method algorithm and use the PCA data to find the best value for `k`. Use a range from 1 to 11. \n",
    "\n",
    "2. Plot a line chart with all the inertia values computed with the different values of `k` to visually identify the optimal value for `k`.\n",
    "\n",
    "3. Answer the following questions: What is the best value for k when using the PCA data? Does it differ from the best k value found using the original data?"
   ]
  },
  {
   "cell_type": "code",
   "execution_count": 33,
   "metadata": {},
   "outputs": [],
   "source": [
    "# Create a list with the number of k-values to try\n",
    "# Use a range from 1 to 11\n",
    "k= list(range(1,11))"
   ]
  },
  {
   "cell_type": "code",
   "execution_count": 34,
   "metadata": {},
   "outputs": [],
   "source": [
    "# Create an empy list to store the inertia values\n",
    "inertia = []"
   ]
  },
  {
   "cell_type": "code",
   "execution_count": 36,
   "metadata": {},
   "outputs": [
    {
     "name": "stderr",
     "output_type": "stream",
     "text": [
      "C:\\Users\\webst\\anaconda3\\envs\\dev\\lib\\site-packages\\sklearn\\cluster\\_kmeans.py:882: UserWarning: KMeans is known to have a memory leak on Windows with MKL, when there are less chunks than available threads. You can avoid it by setting the environment variable OMP_NUM_THREADS=1.\n",
      "  f\"KMeans is known to have a memory leak on Windows \"\n"
     ]
    }
   ],
   "source": [
    "# Create a for loop to compute the inertia with each possible value of k\n",
    "# Inside the loop:\n",
    "# 1. Create a KMeans model using the loop counter for the n_clusters\n",
    "# 2. Fit the model to the data using `df_market_data_pca`\n",
    "# 3. Append the model.inertia_ to the inertia list\n",
    "for i in k:\n",
    "    model = KMeans(n_clusters=i, random_state=0)\n",
    "    model.fit(pca_df)\n",
    "    inertia.append(model.inertia_)"
   ]
  },
  {
   "cell_type": "code",
   "execution_count": 37,
   "metadata": {},
   "outputs": [],
   "source": [
    "# Create a DataFrame with the data to plot the Elbow curve\n",
    "elbow_pca_df = pd.DataFrame({'k':k, 'inertia':inertia})"
   ]
  },
  {
   "cell_type": "code",
   "execution_count": 60,
   "metadata": {},
   "outputs": [
    {
     "data": {},
     "metadata": {},
     "output_type": "display_data"
    },
    {
     "data": {
      "application/vnd.holoviews_exec.v0+json": "",
      "text/html": [
       "<div id='4990'>\n",
       "\n",
       "\n",
       "\n",
       "\n",
       "\n",
       "  <div class=\"bk-root\" id=\"d2e3ba2b-9325-4ccf-a5e2-20572ba6973c\" data-root-id=\"4990\"></div>\n",
       "</div>\n",
       "<script type=\"application/javascript\">(function(root) {\n",
       "  function embed_document(root) {\n",
       "    var docs_json = {\"f2b6947d-a2ea-46d7-a6c5-7abcc148f2fe\":{\"defs\":[{\"extends\":null,\"module\":null,\"name\":\"ReactiveHTML1\",\"overrides\":[],\"properties\":[]},{\"extends\":null,\"module\":null,\"name\":\"FlexBox1\",\"overrides\":[],\"properties\":[{\"default\":\"flex-start\",\"kind\":null,\"name\":\"align_content\"},{\"default\":\"flex-start\",\"kind\":null,\"name\":\"align_items\"},{\"default\":\"row\",\"kind\":null,\"name\":\"flex_direction\"},{\"default\":\"wrap\",\"kind\":null,\"name\":\"flex_wrap\"},{\"default\":\"flex-start\",\"kind\":null,\"name\":\"justify_content\"}]},{\"extends\":null,\"module\":null,\"name\":\"TemplateActions1\",\"overrides\":[],\"properties\":[{\"default\":0,\"kind\":null,\"name\":\"open_modal\"},{\"default\":0,\"kind\":null,\"name\":\"close_modal\"}]},{\"extends\":null,\"module\":null,\"name\":\"MaterialTemplateActions1\",\"overrides\":[],\"properties\":[{\"default\":0,\"kind\":null,\"name\":\"open_modal\"},{\"default\":0,\"kind\":null,\"name\":\"close_modal\"}]}],\"roots\":{\"references\":[{\"attributes\":{\"bottom_units\":\"screen\",\"fill_alpha\":0.5,\"fill_color\":\"lightgrey\",\"left_units\":\"screen\",\"level\":\"overlay\",\"line_alpha\":1.0,\"line_color\":\"black\",\"line_dash\":[4,4],\"line_width\":2,\"right_units\":\"screen\",\"syncable\":false,\"top_units\":\"screen\"},\"id\":\"5018\",\"type\":\"BoxAnnotation\"},{\"attributes\":{\"end\":282.46149412468185,\"reset_end\":282.46149412468185,\"reset_start\":-24.587408556789256,\"start\":-24.587408556789256,\"tags\":[[[\"value\",\"value\",null]]]},\"id\":\"4993\",\"type\":\"Range1d\"},{\"attributes\":{},\"id\":\"5013\",\"type\":\"SaveTool\"},{\"attributes\":{\"margin\":[5,5,5,5],\"name\":\"HSpacer09929\",\"sizing_mode\":\"stretch_width\"},\"id\":\"5183\",\"type\":\"Spacer\"},{\"attributes\":{},\"id\":\"5072\",\"type\":\"UnionRenderers\"},{\"attributes\":{},\"id\":\"5049\",\"type\":\"UnionRenderers\"},{\"attributes\":{\"callback\":null,\"renderers\":[{\"id\":\"5038\"},{\"id\":\"5059\"}],\"tags\":[\"hv_created\"],\"tooltips\":[[\"Variable\",\"@{Variable}\"],[\"index\",\"@{index}\"],[\"value\",\"@{value}\"]]},\"id\":\"4994\",\"type\":\"HoverTool\"},{\"attributes\":{},\"id\":\"5014\",\"type\":\"PanTool\"},{\"attributes\":{},\"id\":\"5054\",\"type\":\"Selection\"},{\"attributes\":{\"axis\":{\"id\":\"5009\"},\"dimension\":1,\"grid_line_color\":null,\"ticker\":null},\"id\":\"5012\",\"type\":\"Grid\"},{\"attributes\":{},\"id\":\"5031\",\"type\":\"AllLabels\"},{\"attributes\":{\"source\":{\"id\":\"5053\"}},\"id\":\"5060\",\"type\":\"CDSView\"},{\"attributes\":{\"text_color\":\"black\",\"text_font_size\":\"12pt\"},\"id\":\"4997\",\"type\":\"Title\"},{\"attributes\":{},\"id\":\"5010\",\"type\":\"BasicTicker\"},{\"attributes\":{},\"id\":\"5028\",\"type\":\"AllLabels\"},{\"attributes\":{\"data_source\":{\"id\":\"5032\"},\"glyph\":{\"id\":\"5035\"},\"hover_glyph\":null,\"muted_glyph\":{\"id\":\"5037\"},\"nonselection_glyph\":{\"id\":\"5036\"},\"selection_glyph\":{\"id\":\"5052\"},\"view\":{\"id\":\"5039\"}},\"id\":\"5038\",\"type\":\"GlyphRenderer\"},{\"attributes\":{\"click_policy\":\"mute\",\"items\":[{\"id\":\"5051\"},{\"id\":\"5073\"}],\"location\":[0,0],\"title\":\"Variable\"},\"id\":\"5050\",\"type\":\"Legend\"},{\"attributes\":{\"axis_label\":\"\",\"formatter\":{\"id\":\"5027\"},\"major_label_policy\":{\"id\":\"5028\"},\"ticker\":{\"id\":\"5006\"}},\"id\":\"5005\",\"type\":\"LinearAxis\"},{\"attributes\":{\"line_color\":\"#fc4f30\",\"line_width\":2,\"x\":{\"field\":\"index\"},\"y\":{\"field\":\"value\"}},\"id\":\"5056\",\"type\":\"Line\"},{\"attributes\":{\"overlay\":{\"id\":\"5018\"}},\"id\":\"5016\",\"type\":\"BoxZoomTool\"},{\"attributes\":{\"line_color\":\"#fc4f30\",\"line_width\":2,\"x\":{\"field\":\"index\"},\"y\":{\"field\":\"value\"}},\"id\":\"5074\",\"type\":\"Line\"},{\"attributes\":{},\"id\":\"5003\",\"type\":\"LinearScale\"},{\"attributes\":{\"axis\":{\"id\":\"5005\"},\"grid_line_color\":null,\"ticker\":null},\"id\":\"5008\",\"type\":\"Grid\"},{\"attributes\":{\"below\":[{\"id\":\"5005\"}],\"center\":[{\"id\":\"5008\"},{\"id\":\"5012\"}],\"height\":300,\"left\":[{\"id\":\"5009\"}],\"margin\":[5,5,5,5],\"min_border_bottom\":10,\"min_border_left\":10,\"min_border_right\":10,\"min_border_top\":10,\"renderers\":[{\"id\":\"5038\"},{\"id\":\"5059\"}],\"right\":[{\"id\":\"5050\"}],\"sizing_mode\":\"fixed\",\"title\":{\"id\":\"4997\"},\"toolbar\":{\"id\":\"5019\"},\"width\":700,\"x_range\":{\"id\":\"4992\"},\"x_scale\":{\"id\":\"5001\"},\"y_range\":{\"id\":\"4993\"},\"y_scale\":{\"id\":\"5003\"}},\"id\":\"4996\",\"subtype\":\"Figure\",\"type\":\"Plot\"},{\"attributes\":{\"label\":{\"value\":\"k\"},\"renderers\":[{\"id\":\"5038\"}]},\"id\":\"5051\",\"type\":\"LegendItem\"},{\"attributes\":{\"line_alpha\":0.1,\"line_color\":\"#fc4f30\",\"line_width\":2,\"x\":{\"field\":\"index\"},\"y\":{\"field\":\"value\"}},\"id\":\"5057\",\"type\":\"Line\"},{\"attributes\":{\"data_source\":{\"id\":\"5053\"},\"glyph\":{\"id\":\"5056\"},\"hover_glyph\":null,\"muted_glyph\":{\"id\":\"5058\"},\"nonselection_glyph\":{\"id\":\"5057\"},\"selection_glyph\":{\"id\":\"5074\"},\"view\":{\"id\":\"5060\"}},\"id\":\"5059\",\"type\":\"GlyphRenderer\"},{\"attributes\":{\"source\":{\"id\":\"5032\"}},\"id\":\"5039\",\"type\":\"CDSView\"},{\"attributes\":{\"margin\":[5,5,5,5],\"name\":\"HSpacer09928\",\"sizing_mode\":\"stretch_width\"},\"id\":\"4991\",\"type\":\"Spacer\"},{\"attributes\":{\"end\":9.0,\"reset_end\":9.0,\"reset_start\":0.0,\"tags\":[[[\"index\",\"index\",null]]]},\"id\":\"4992\",\"type\":\"Range1d\"},{\"attributes\":{},\"id\":\"5027\",\"type\":\"BasicTickFormatter\"},{\"attributes\":{},\"id\":\"5015\",\"type\":\"WheelZoomTool\"},{\"attributes\":{\"data\":{\"Variable\":[\"k\",\"k\",\"k\",\"k\",\"k\",\"k\",\"k\",\"k\",\"k\",\"k\"],\"index\":[0,1,2,3,4,5,6,7,8,9],\"value\":[1,2,3,4,5,6,7,8,9,10]},\"selected\":{\"id\":\"5033\"},\"selection_policy\":{\"id\":\"5049\"}},\"id\":\"5032\",\"type\":\"ColumnDataSource\"},{\"attributes\":{},\"id\":\"5006\",\"type\":\"BasicTicker\"},{\"attributes\":{\"axis_label\":\"\",\"formatter\":{\"id\":\"5030\"},\"major_label_policy\":{\"id\":\"5031\"},\"ticker\":{\"id\":\"5010\"}},\"id\":\"5009\",\"type\":\"LinearAxis\"},{\"attributes\":{\"line_alpha\":0.1,\"line_color\":\"#30a2da\",\"line_width\":2,\"x\":{\"field\":\"index\"},\"y\":{\"field\":\"value\"}},\"id\":\"5036\",\"type\":\"Line\"},{\"attributes\":{\"line_color\":\"#30a2da\",\"line_width\":2,\"x\":{\"field\":\"index\"},\"y\":{\"field\":\"value\"}},\"id\":\"5052\",\"type\":\"Line\"},{\"attributes\":{\"data\":{\"Variable\":[\"inertia\",\"inertia\",\"inertia\",\"inertia\",\"inertia\",\"inertia\",\"inertia\",\"inertia\",\"inertia\",\"inertia\"],\"index\":[0,1,2,3,4,5,6,7,8,9],\"value\":{\"__ndarray__\":\"EQAmQfwNcEBPVJAi3bxkQP0sl3eTcVdAnIiJ/i7VSEDZFmXIevBCQIRsYu90njtAYuYhZsouNUBTtBt0y2MxQDyoTfHyLytAqO9NHWQeJUA=\",\"dtype\":\"float64\",\"order\":\"little\",\"shape\":[10]}},\"selected\":{\"id\":\"5054\"},\"selection_policy\":{\"id\":\"5072\"}},\"id\":\"5053\",\"type\":\"ColumnDataSource\"},{\"attributes\":{\"label\":{\"value\":\"inertia\"},\"renderers\":[{\"id\":\"5059\"}]},\"id\":\"5073\",\"type\":\"LegendItem\"},{\"attributes\":{\"line_color\":\"#30a2da\",\"line_width\":2,\"x\":{\"field\":\"index\"},\"y\":{\"field\":\"value\"}},\"id\":\"5035\",\"type\":\"Line\"},{\"attributes\":{\"line_alpha\":0.2,\"line_color\":\"#fc4f30\",\"line_width\":2,\"x\":{\"field\":\"index\"},\"y\":{\"field\":\"value\"}},\"id\":\"5058\",\"type\":\"Line\"},{\"attributes\":{},\"id\":\"5001\",\"type\":\"LinearScale\"},{\"attributes\":{},\"id\":\"5030\",\"type\":\"BasicTickFormatter\"},{\"attributes\":{},\"id\":\"5033\",\"type\":\"Selection\"},{\"attributes\":{\"active_multi\":null,\"tools\":[{\"id\":\"4994\"},{\"id\":\"5013\"},{\"id\":\"5014\"},{\"id\":\"5015\"},{\"id\":\"5016\"},{\"id\":\"5017\"}]},\"id\":\"5019\",\"type\":\"Toolbar\"},{\"attributes\":{\"children\":[{\"id\":\"4991\"},{\"id\":\"4996\"},{\"id\":\"5183\"}],\"margin\":[0,0,0,0],\"name\":\"Row09924\",\"tags\":[\"embedded\"]},\"id\":\"4990\",\"type\":\"Row\"},{\"attributes\":{},\"id\":\"5017\",\"type\":\"ResetTool\"},{\"attributes\":{\"line_alpha\":0.2,\"line_color\":\"#30a2da\",\"line_width\":2,\"x\":{\"field\":\"index\"},\"y\":{\"field\":\"value\"}},\"id\":\"5037\",\"type\":\"Line\"}],\"root_ids\":[\"4990\"]},\"title\":\"Bokeh Application\",\"version\":\"2.3.2\"}};\n",
       "    var render_items = [{\"docid\":\"f2b6947d-a2ea-46d7-a6c5-7abcc148f2fe\",\"root_ids\":[\"4990\"],\"roots\":{\"4990\":\"d2e3ba2b-9325-4ccf-a5e2-20572ba6973c\"}}];\n",
       "    root.Bokeh.embed.embed_items_notebook(docs_json, render_items);\n",
       "  }\n",
       "  if (root.Bokeh !== undefined && root.Bokeh.Panel !== undefined) {\n",
       "    embed_document(root);\n",
       "  } else {\n",
       "    var attempts = 0;\n",
       "    var timer = setInterval(function(root) {\n",
       "      if (root.Bokeh !== undefined && root.Bokeh.Panel !== undefined) {\n",
       "        clearInterval(timer);\n",
       "        embed_document(root);\n",
       "      } else if (document.readyState == \"complete\") {\n",
       "        attempts++;\n",
       "        if (attempts > 200) {\n",
       "          clearInterval(timer);\n",
       "          console.log(\"Bokeh: ERROR: Unable to run BokehJS code because BokehJS library is missing\");\n",
       "        }\n",
       "      }\n",
       "    }, 25, root)\n",
       "  }\n",
       "})(window);</script>"
      ],
      "text/plain": [
       ":NdOverlay   [Variable]\n",
       "   :Curve   [index]   (value)"
      ]
     },
     "execution_count": 60,
     "metadata": {
      "application/vnd.holoviews_exec.v0+json": {
       "id": "4990"
      }
     },
     "output_type": "execute_result"
    }
   ],
   "source": [
    "# Plot a line chart with all the inertia values computed with \n",
    "# the different values of k to visually identify the optimal value for k.\n",
    "elbow_pca_plot = elbow_pca_df.hvplot()\n",
    "elbow_pca_plot"
   ]
  },
  {
   "cell_type": "markdown",
   "metadata": {},
   "source": [
    "#### Answer the following questions: What is the best value for k when using the PCA data? Does it differ from the best k value found using the original data?\n",
    "* **Question:** What is the best value for `k` when using the PCA data?\n",
    "\n",
    "  * **Answer:** 3-4\n",
    "\n",
    "\n",
    "* **Question:** Does it differ from the best k value found using the original data?\n",
    "\n",
    "  * **Answer:** # No"
   ]
  },
  {
   "cell_type": "markdown",
   "metadata": {},
   "source": [
    "---"
   ]
  },
  {
   "cell_type": "markdown",
   "metadata": {},
   "source": [
    "### Cluster Cryptocurrencies with K-means Using the PCA Data\n",
    "\n",
    "In this section, you will use the PCA data and the K-Means algorithm with the best value for `k` found in the previous section to cluster the cryptocurrencies according to the principal components.\n",
    "\n",
    "1. Initialize the K-Means model with four clusters using the best value for `k`. \n",
    "\n",
    "2. Fit the K-Means model using the PCA data.\n",
    "\n",
    "3. Predict the clusters to group the cryptocurrencies using the PCA data. View the resulting array of cluster values.\n",
    "\n",
    "4. Add a new column to the DataFrame with the PCA data to store the predicted clusters.\n",
    "\n",
    "5. Create a scatter plot using hvPlot by setting `x=\"price_change_percentage_24h\"` and `y=\"price_change_percentage_7d\"`. Color the graph points with the labels found using K-Means and add the crypto name in the `hover_cols` parameter to identify the cryptocurrency represented by each data point."
   ]
  },
  {
   "cell_type": "code",
   "execution_count": 53,
   "metadata": {},
   "outputs": [],
   "source": [
    "# Initialize the K-Means model using the best value for k\n",
    "model = KMeans(n_clusters=4)"
   ]
  },
  {
   "cell_type": "code",
   "execution_count": 54,
   "metadata": {},
   "outputs": [
    {
     "data": {
      "text/plain": [
       "KMeans(n_clusters=4)"
      ]
     },
     "execution_count": 54,
     "metadata": {},
     "output_type": "execute_result"
    }
   ],
   "source": [
    "# Fit the K-Means model using the PCA data\n",
    "model.fit(pca_df)"
   ]
  },
  {
   "cell_type": "code",
   "execution_count": 55,
   "metadata": {},
   "outputs": [
    {
     "data": {
      "text/plain": [
       "array([2, 2, 0, 0, 2, 2, 2, 2, 2, 0, 0, 0, 0, 2, 0, 2, 0, 0, 2, 0, 0, 2,\n",
       "       0, 0, 0, 0, 0, 0, 2, 0, 0, 0, 3, 2, 0, 0, 1, 0, 0, 0, 0])"
      ]
     },
     "execution_count": 55,
     "metadata": {},
     "output_type": "execute_result"
    }
   ],
   "source": [
    "# Predict the clusters to group the cryptocurrencies using the PCA data\n",
    "clusters_pca = model.predict(pca_df)\n",
    "\n",
    "# View the resulting array of cluster values.\n",
    "clusters_pca"
   ]
  },
  {
   "cell_type": "code",
   "execution_count": 56,
   "metadata": {},
   "outputs": [
    {
     "data": {
      "text/html": [
       "<div>\n",
       "<style scoped>\n",
       "    .dataframe tbody tr th:only-of-type {\n",
       "        vertical-align: middle;\n",
       "    }\n",
       "\n",
       "    .dataframe tbody tr th {\n",
       "        vertical-align: top;\n",
       "    }\n",
       "\n",
       "    .dataframe thead th {\n",
       "        text-align: right;\n",
       "    }\n",
       "</style>\n",
       "<table border=\"1\" class=\"dataframe\">\n",
       "  <thead>\n",
       "    <tr style=\"text-align: right;\">\n",
       "      <th></th>\n",
       "      <th>price_change_percentage_24h</th>\n",
       "      <th>price_change_percentage_7d</th>\n",
       "      <th>price_change_percentage_14d</th>\n",
       "      <th>price_change_percentage_30d</th>\n",
       "      <th>price_change_percentage_60d</th>\n",
       "      <th>price_change_percentage_200d</th>\n",
       "      <th>price_change_percentage_1y</th>\n",
       "      <th>Clusters</th>\n",
       "    </tr>\n",
       "    <tr>\n",
       "      <th>coin_id</th>\n",
       "      <th></th>\n",
       "      <th></th>\n",
       "      <th></th>\n",
       "      <th></th>\n",
       "      <th></th>\n",
       "      <th></th>\n",
       "      <th></th>\n",
       "      <th></th>\n",
       "    </tr>\n",
       "  </thead>\n",
       "  <tbody>\n",
       "    <tr>\n",
       "      <th>bitcoin</th>\n",
       "      <td>0.508529</td>\n",
       "      <td>0.493193</td>\n",
       "      <td>0.772200</td>\n",
       "      <td>0.235460</td>\n",
       "      <td>-0.067495</td>\n",
       "      <td>-0.355953</td>\n",
       "      <td>-0.251637</td>\n",
       "      <td>2</td>\n",
       "    </tr>\n",
       "    <tr>\n",
       "      <th>ethereum</th>\n",
       "      <td>0.185446</td>\n",
       "      <td>0.934445</td>\n",
       "      <td>0.558692</td>\n",
       "      <td>-0.054341</td>\n",
       "      <td>-0.273483</td>\n",
       "      <td>-0.115759</td>\n",
       "      <td>-0.199352</td>\n",
       "      <td>2</td>\n",
       "    </tr>\n",
       "    <tr>\n",
       "      <th>tether</th>\n",
       "      <td>0.021774</td>\n",
       "      <td>-0.706337</td>\n",
       "      <td>-0.021680</td>\n",
       "      <td>-0.061030</td>\n",
       "      <td>0.008005</td>\n",
       "      <td>-0.550247</td>\n",
       "      <td>-0.282061</td>\n",
       "      <td>0</td>\n",
       "    </tr>\n",
       "    <tr>\n",
       "      <th>ripple</th>\n",
       "      <td>-0.040764</td>\n",
       "      <td>-0.810928</td>\n",
       "      <td>0.249458</td>\n",
       "      <td>-0.050388</td>\n",
       "      <td>-0.373164</td>\n",
       "      <td>-0.458259</td>\n",
       "      <td>-0.295546</td>\n",
       "      <td>0</td>\n",
       "    </tr>\n",
       "    <tr>\n",
       "      <th>bitcoin-cash</th>\n",
       "      <td>1.193036</td>\n",
       "      <td>2.000959</td>\n",
       "      <td>1.760610</td>\n",
       "      <td>0.545842</td>\n",
       "      <td>-0.291203</td>\n",
       "      <td>-0.499848</td>\n",
       "      <td>-0.270317</td>\n",
       "      <td>2</td>\n",
       "    </tr>\n",
       "  </tbody>\n",
       "</table>\n",
       "</div>"
      ],
      "text/plain": [
       "              price_change_percentage_24h  price_change_percentage_7d  \\\n",
       "coin_id                                                                 \n",
       "bitcoin                          0.508529                    0.493193   \n",
       "ethereum                         0.185446                    0.934445   \n",
       "tether                           0.021774                   -0.706337   \n",
       "ripple                          -0.040764                   -0.810928   \n",
       "bitcoin-cash                     1.193036                    2.000959   \n",
       "\n",
       "              price_change_percentage_14d  price_change_percentage_30d  \\\n",
       "coin_id                                                                  \n",
       "bitcoin                          0.772200                     0.235460   \n",
       "ethereum                         0.558692                    -0.054341   \n",
       "tether                          -0.021680                    -0.061030   \n",
       "ripple                           0.249458                    -0.050388   \n",
       "bitcoin-cash                     1.760610                     0.545842   \n",
       "\n",
       "              price_change_percentage_60d  price_change_percentage_200d  \\\n",
       "coin_id                                                                   \n",
       "bitcoin                         -0.067495                     -0.355953   \n",
       "ethereum                        -0.273483                     -0.115759   \n",
       "tether                           0.008005                     -0.550247   \n",
       "ripple                          -0.373164                     -0.458259   \n",
       "bitcoin-cash                    -0.291203                     -0.499848   \n",
       "\n",
       "              price_change_percentage_1y  Clusters  \n",
       "coin_id                                             \n",
       "bitcoin                        -0.251637         2  \n",
       "ethereum                       -0.199352         2  \n",
       "tether                         -0.282061         0  \n",
       "ripple                         -0.295546         0  \n",
       "bitcoin-cash                   -0.270317         2  "
      ]
     },
     "execution_count": 56,
     "metadata": {},
     "output_type": "execute_result"
    }
   ],
   "source": [
    "# Create a copy of the DataFrame with the PCA data\n",
    "pca_prediction_df = df_market_data_scaled.copy()\n",
    "\n",
    "# Add a new column to the DataFrame with the predicted clusters\n",
    "pca_prediction_df['Clusters'] = clusters_pca\n",
    "\n",
    "# Display sample data\n",
    "pca_prediction_df.head()"
   ]
  },
  {
   "cell_type": "code",
   "execution_count": 59,
   "metadata": {},
   "outputs": [
    {
     "data": {},
     "metadata": {},
     "output_type": "display_data"
    },
    {
     "data": {
      "application/vnd.holoviews_exec.v0+json": "",
      "text/html": [
       "<div id='4627'>\n",
       "\n",
       "\n",
       "\n",
       "\n",
       "\n",
       "  <div class=\"bk-root\" id=\"04556d84-7d0e-4ca3-844d-6e227d1ea0ca\" data-root-id=\"4627\"></div>\n",
       "</div>\n",
       "<script type=\"application/javascript\">(function(root) {\n",
       "  function embed_document(root) {\n",
       "    var docs_json = {\"4289864b-c7fd-4d67-97dc-6c9d42bc946d\":{\"defs\":[{\"extends\":null,\"module\":null,\"name\":\"ReactiveHTML1\",\"overrides\":[],\"properties\":[]},{\"extends\":null,\"module\":null,\"name\":\"FlexBox1\",\"overrides\":[],\"properties\":[{\"default\":\"flex-start\",\"kind\":null,\"name\":\"align_content\"},{\"default\":\"flex-start\",\"kind\":null,\"name\":\"align_items\"},{\"default\":\"row\",\"kind\":null,\"name\":\"flex_direction\"},{\"default\":\"wrap\",\"kind\":null,\"name\":\"flex_wrap\"},{\"default\":\"flex-start\",\"kind\":null,\"name\":\"justify_content\"}]},{\"extends\":null,\"module\":null,\"name\":\"TemplateActions1\",\"overrides\":[],\"properties\":[{\"default\":0,\"kind\":null,\"name\":\"open_modal\"},{\"default\":0,\"kind\":null,\"name\":\"close_modal\"}]},{\"extends\":null,\"module\":null,\"name\":\"MaterialTemplateActions1\",\"overrides\":[],\"properties\":[{\"default\":0,\"kind\":null,\"name\":\"open_modal\"},{\"default\":0,\"kind\":null,\"name\":\"close_modal\"}]}],\"roots\":{\"references\":[{\"attributes\":{},\"id\":\"4654\",\"type\":\"WheelZoomTool\"},{\"attributes\":{},\"id\":\"4656\",\"type\":\"ResetTool\"},{\"attributes\":{\"fill_alpha\":{\"value\":0.1},\"fill_color\":{\"value\":\"#30a2da\"},\"line_alpha\":{\"value\":0.1},\"line_color\":{\"value\":\"#30a2da\"},\"size\":{\"value\":5.477225575051661},\"x\":{\"field\":\"price_change_percentage_24h\"},\"y\":{\"field\":\"price_change_percentage_7d\"}},\"id\":\"4675\",\"type\":\"Scatter\"},{\"attributes\":{\"end\":2.997678656273595,\"reset_end\":2.997678656273595,\"reset_start\":-2.107454305728652,\"start\":-2.107454305728652,\"tags\":[[[\"price_change_percentage_7d\",\"price_change_percentage_7d\",null]]]},\"id\":\"4630\",\"type\":\"Range1d\"},{\"attributes\":{\"overlay\":{\"id\":\"4657\"}},\"id\":\"4655\",\"type\":\"BoxZoomTool\"},{\"attributes\":{\"click_policy\":\"mute\",\"items\":[{\"id\":\"4690\"},{\"id\":\"4712\"},{\"id\":\"4736\"},{\"id\":\"4762\"}],\"location\":[0,0],\"title\":\"Clusters\"},\"id\":\"4689\",\"type\":\"Legend\"},{\"attributes\":{\"data\":{\"Clusters\":[0,0,0,0,0,0,0,0,0,0,0,0,0,0,0,0,0,0,0,0,0,0,0,0,0,0],\"price_change_percentage_24h\":{\"__ndarray__\":\"mCJF1OlLlj/mJRG3Ed+kv1qZGRifu9w//rJXHrAz1T/yMTqenpahPx9kk3dK7sM/GTRehHalwD90fnl54Irtv9XPDahDw9G/+VOWQSEmxz+kpbukw1bSP6eM4M4OgKo/BcMOj9+jqr/Chq6S5ebLv2h3TIfCZ68/weEQ8QyV0D/KmZTmC7niP1YH9WGFy/m/N7JuVBEB07/EU4GAhEGyv8Ocf0hw2/a/lrPBJY23/j/IKcQzxy3av5WrmDyeito/Bf22eE/6sz9Y362Ir3rzPw==\",\"dtype\":\"float64\",\"order\":\"little\",\"shape\":[26]},\"price_change_percentage_7d\":{\"__ndarray__\":\"bZSIvk+a5r9RujxqH/Ppvw2U7adXaMi/d+r7VGbW+b9EGSx/8nTnv4rfBo4Lhe2/BEBwXEEApb8Udj8VbP/2vySelkVDp9i/7SZvVsyO5r8uu+JVH+LUvziN+gRMte2/o2qlez1D3b/CtPLKIS7rvyYjaswHnea/US6joeTvzz/dRmuCvtDvv/9TV66U6fq/ZWX+mWVCuD8GJ0pHuV/Nv8nIE2ZWH5q/TTxj/me11z+Htdvf1gXtv2Avihmzf9o/e31xtwIC5r/STlu6Y3Ljvw==\",\"dtype\":\"float64\",\"order\":\"little\",\"shape\":[26]}},\"selected\":{\"id\":\"4672\"},\"selection_policy\":{\"id\":\"4688\"}},\"id\":\"4671\",\"type\":\"ColumnDataSource\"},{\"attributes\":{\"fill_alpha\":{\"value\":0.2},\"fill_color\":{\"value\":\"#fc4f30\"},\"line_alpha\":{\"value\":0.2},\"line_color\":{\"value\":\"#fc4f30\"},\"size\":{\"value\":5.477225575051661},\"x\":{\"field\":\"price_change_percentage_24h\"},\"y\":{\"field\":\"price_change_percentage_7d\"}},\"id\":\"4697\",\"type\":\"Scatter\"},{\"attributes\":{\"fill_alpha\":{\"value\":0.1},\"fill_color\":{\"value\":\"#fc4f30\"},\"line_alpha\":{\"value\":0.1},\"line_color\":{\"value\":\"#fc4f30\"},\"size\":{\"value\":5.477225575051661},\"x\":{\"field\":\"price_change_percentage_24h\"},\"y\":{\"field\":\"price_change_percentage_7d\"}},\"id\":\"4696\",\"type\":\"Scatter\"},{\"attributes\":{\"children\":[{\"id\":\"4628\"},{\"id\":\"4635\"},{\"id\":\"4908\"}],\"margin\":[0,0,0,0],\"name\":\"Row09213\",\"tags\":[\"embedded\"]},\"id\":\"4627\",\"type\":\"Row\"},{\"attributes\":{\"label\":{\"value\":\"0\"},\"renderers\":[{\"id\":\"4677\"}]},\"id\":\"4690\",\"type\":\"LegendItem\"},{\"attributes\":{\"label\":{\"value\":\"3\"},\"renderers\":[{\"id\":\"4744\"}]},\"id\":\"4762\",\"type\":\"LegendItem\"},{\"attributes\":{},\"id\":\"4735\",\"type\":\"UnionRenderers\"},{\"attributes\":{\"label\":{\"value\":\"2\"},\"renderers\":[{\"id\":\"4720\"}]},\"id\":\"4736\",\"type\":\"LegendItem\"},{\"attributes\":{},\"id\":\"4761\",\"type\":\"UnionRenderers\"},{\"attributes\":{\"label\":{\"value\":\"1\"},\"renderers\":[{\"id\":\"4698\"}]},\"id\":\"4712\",\"type\":\"LegendItem\"},{\"attributes\":{},\"id\":\"4693\",\"type\":\"Selection\"},{\"attributes\":{},\"id\":\"4711\",\"type\":\"UnionRenderers\"},{\"attributes\":{},\"id\":\"4688\",\"type\":\"UnionRenderers\"},{\"attributes\":{\"angle\":{\"value\":0.0},\"fill_alpha\":{\"value\":1.0},\"fill_color\":{\"value\":\"#e5ae38\"},\"hatch_alpha\":{\"value\":1.0},\"hatch_color\":{\"value\":\"black\"},\"hatch_scale\":{\"value\":12.0},\"hatch_weight\":{\"value\":1.0},\"line_alpha\":{\"value\":1.0},\"line_cap\":{\"value\":\"butt\"},\"line_color\":{\"value\":\"#e5ae38\"},\"line_dash\":{\"value\":[]},\"line_dash_offset\":{\"value\":0},\"line_join\":{\"value\":\"bevel\"},\"line_width\":{\"value\":1},\"marker\":{\"value\":\"circle\"},\"size\":{\"value\":5.477225575051661},\"x\":{\"field\":\"price_change_percentage_24h\"},\"y\":{\"field\":\"price_change_percentage_7d\"}},\"id\":\"4737\",\"type\":\"Scatter\"},{\"attributes\":{\"angle\":{\"value\":0.0},\"fill_alpha\":{\"value\":1.0},\"fill_color\":{\"value\":\"#6d904f\"},\"hatch_alpha\":{\"value\":1.0},\"hatch_color\":{\"value\":\"black\"},\"hatch_scale\":{\"value\":12.0},\"hatch_weight\":{\"value\":1.0},\"line_alpha\":{\"value\":1.0},\"line_cap\":{\"value\":\"butt\"},\"line_color\":{\"value\":\"#6d904f\"},\"line_dash\":{\"value\":[]},\"line_dash_offset\":{\"value\":0},\"line_join\":{\"value\":\"bevel\"},\"line_width\":{\"value\":1},\"marker\":{\"value\":\"circle\"},\"size\":{\"value\":5.477225575051661},\"x\":{\"field\":\"price_change_percentage_24h\"},\"y\":{\"field\":\"price_change_percentage_7d\"}},\"id\":\"4763\",\"type\":\"Scatter\"},{\"attributes\":{},\"id\":\"4715\",\"type\":\"Selection\"},{\"attributes\":{\"angle\":{\"value\":0.0},\"fill_alpha\":{\"value\":1.0},\"fill_color\":{\"value\":\"#fc4f30\"},\"hatch_alpha\":{\"value\":1.0},\"hatch_color\":{\"value\":\"black\"},\"hatch_scale\":{\"value\":12.0},\"hatch_weight\":{\"value\":1.0},\"line_alpha\":{\"value\":1.0},\"line_cap\":{\"value\":\"butt\"},\"line_color\":{\"value\":\"#fc4f30\"},\"line_dash\":{\"value\":[]},\"line_dash_offset\":{\"value\":0},\"line_join\":{\"value\":\"bevel\"},\"line_width\":{\"value\":1},\"marker\":{\"value\":\"circle\"},\"size\":{\"value\":5.477225575051661},\"x\":{\"field\":\"price_change_percentage_24h\"},\"y\":{\"field\":\"price_change_percentage_7d\"}},\"id\":\"4713\",\"type\":\"Scatter\"},{\"attributes\":{\"bottom_units\":\"screen\",\"fill_alpha\":0.5,\"fill_color\":\"lightgrey\",\"left_units\":\"screen\",\"level\":\"overlay\",\"line_alpha\":1.0,\"line_color\":\"black\",\"line_dash\":[4,4],\"line_width\":2,\"right_units\":\"screen\",\"syncable\":false,\"top_units\":\"screen\"},\"id\":\"4657\",\"type\":\"BoxAnnotation\"},{\"attributes\":{\"active_multi\":null,\"tools\":[{\"id\":\"4631\"},{\"id\":\"4652\"},{\"id\":\"4653\"},{\"id\":\"4654\"},{\"id\":\"4655\"},{\"id\":\"4656\"}]},\"id\":\"4658\",\"type\":\"Toolbar\"},{\"attributes\":{},\"id\":\"4672\",\"type\":\"Selection\"},{\"attributes\":{\"data\":{\"Clusters\":[1],\"price_change_percentage_24h\":{\"__ndarray__\":\"VLqXBn668D8=\",\"dtype\":\"float64\",\"order\":\"little\",\"shape\":[1]},\"price_change_percentage_7d\":{\"__ndarray__\":\"Nv03JFjJ478=\",\"dtype\":\"float64\",\"order\":\"little\",\"shape\":[1]}},\"selected\":{\"id\":\"4693\"},\"selection_policy\":{\"id\":\"4711\"}},\"id\":\"4692\",\"type\":\"ColumnDataSource\"},{\"attributes\":{},\"id\":\"4739\",\"type\":\"Selection\"},{\"attributes\":{\"fill_color\":{\"value\":\"#6d904f\"},\"line_color\":{\"value\":\"#6d904f\"},\"size\":{\"value\":5.477225575051661},\"x\":{\"field\":\"price_change_percentage_24h\"},\"y\":{\"field\":\"price_change_percentage_7d\"}},\"id\":\"4741\",\"type\":\"Scatter\"},{\"attributes\":{\"data\":{\"Clusters\":[3],\"price_change_percentage_24h\":{\"__ndarray__\":\"3WeHPpbsE8A=\",\"dtype\":\"float64\",\"order\":\"little\",\"shape\":[1]},\"price_change_percentage_7d\":{\"__ndarray__\":\"dIWi2pshp78=\",\"dtype\":\"float64\",\"order\":\"little\",\"shape\":[1]}},\"selected\":{\"id\":\"4739\"},\"selection_policy\":{\"id\":\"4761\"}},\"id\":\"4738\",\"type\":\"ColumnDataSource\"},{\"attributes\":{},\"id\":\"4670\",\"type\":\"AllLabels\"},{\"attributes\":{\"source\":{\"id\":\"4671\"}},\"id\":\"4678\",\"type\":\"CDSView\"},{\"attributes\":{\"angle\":{\"value\":0.0},\"fill_alpha\":{\"value\":1.0},\"fill_color\":{\"value\":\"#30a2da\"},\"hatch_alpha\":{\"value\":1.0},\"hatch_color\":{\"value\":\"black\"},\"hatch_scale\":{\"value\":12.0},\"hatch_weight\":{\"value\":1.0},\"line_alpha\":{\"value\":1.0},\"line_cap\":{\"value\":\"butt\"},\"line_color\":{\"value\":\"#30a2da\"},\"line_dash\":{\"value\":[]},\"line_dash_offset\":{\"value\":0},\"line_join\":{\"value\":\"bevel\"},\"line_width\":{\"value\":1},\"marker\":{\"value\":\"circle\"},\"size\":{\"value\":5.477225575051661},\"x\":{\"field\":\"price_change_percentage_24h\"},\"y\":{\"field\":\"price_change_percentage_7d\"}},\"id\":\"4691\",\"type\":\"Scatter\"},{\"attributes\":{\"data_source\":{\"id\":\"4738\"},\"glyph\":{\"id\":\"4741\"},\"hover_glyph\":null,\"muted_glyph\":{\"id\":\"4743\"},\"nonselection_glyph\":{\"id\":\"4742\"},\"selection_glyph\":{\"id\":\"4763\"},\"view\":{\"id\":\"4745\"}},\"id\":\"4744\",\"type\":\"GlyphRenderer\"},{\"attributes\":{\"fill_color\":{\"value\":\"#e5ae38\"},\"line_color\":{\"value\":\"#e5ae38\"},\"size\":{\"value\":5.477225575051661},\"x\":{\"field\":\"price_change_percentage_24h\"},\"y\":{\"field\":\"price_change_percentage_7d\"}},\"id\":\"4717\",\"type\":\"Scatter\"},{\"attributes\":{},\"id\":\"4667\",\"type\":\"AllLabels\"},{\"attributes\":{},\"id\":\"4640\",\"type\":\"LinearScale\"},{\"attributes\":{\"data_source\":{\"id\":\"4671\"},\"glyph\":{\"id\":\"4674\"},\"hover_glyph\":null,\"muted_glyph\":{\"id\":\"4676\"},\"nonselection_glyph\":{\"id\":\"4675\"},\"selection_glyph\":{\"id\":\"4691\"},\"view\":{\"id\":\"4678\"}},\"id\":\"4677\",\"type\":\"GlyphRenderer\"},{\"attributes\":{\"fill_color\":{\"value\":\"#fc4f30\"},\"line_color\":{\"value\":\"#fc4f30\"},\"size\":{\"value\":5.477225575051661},\"x\":{\"field\":\"price_change_percentage_24h\"},\"y\":{\"field\":\"price_change_percentage_7d\"}},\"id\":\"4695\",\"type\":\"Scatter\"},{\"attributes\":{\"data_source\":{\"id\":\"4714\"},\"glyph\":{\"id\":\"4717\"},\"hover_glyph\":null,\"muted_glyph\":{\"id\":\"4719\"},\"nonselection_glyph\":{\"id\":\"4718\"},\"selection_glyph\":{\"id\":\"4737\"},\"view\":{\"id\":\"4721\"}},\"id\":\"4720\",\"type\":\"GlyphRenderer\"},{\"attributes\":{},\"id\":\"4645\",\"type\":\"BasicTicker\"},{\"attributes\":{\"fill_alpha\":{\"value\":0.1},\"fill_color\":{\"value\":\"#6d904f\"},\"line_alpha\":{\"value\":0.1},\"line_color\":{\"value\":\"#6d904f\"},\"size\":{\"value\":5.477225575051661},\"x\":{\"field\":\"price_change_percentage_24h\"},\"y\":{\"field\":\"price_change_percentage_7d\"}},\"id\":\"4742\",\"type\":\"Scatter\"},{\"attributes\":{\"fill_alpha\":{\"value\":0.2},\"fill_color\":{\"value\":\"#30a2da\"},\"line_alpha\":{\"value\":0.2},\"line_color\":{\"value\":\"#30a2da\"},\"size\":{\"value\":5.477225575051661},\"x\":{\"field\":\"price_change_percentage_24h\"},\"y\":{\"field\":\"price_change_percentage_7d\"}},\"id\":\"4676\",\"type\":\"Scatter\"},{\"attributes\":{\"fill_alpha\":{\"value\":0.1},\"fill_color\":{\"value\":\"#e5ae38\"},\"line_alpha\":{\"value\":0.1},\"line_color\":{\"value\":\"#e5ae38\"},\"size\":{\"value\":5.477225575051661},\"x\":{\"field\":\"price_change_percentage_24h\"},\"y\":{\"field\":\"price_change_percentage_7d\"}},\"id\":\"4718\",\"type\":\"Scatter\"},{\"attributes\":{\"source\":{\"id\":\"4738\"}},\"id\":\"4745\",\"type\":\"CDSView\"},{\"attributes\":{\"source\":{\"id\":\"4714\"}},\"id\":\"4721\",\"type\":\"CDSView\"},{\"attributes\":{\"text_color\":\"black\",\"text_font_size\":\"12pt\"},\"id\":\"4636\",\"type\":\"Title\"},{\"attributes\":{\"below\":[{\"id\":\"4644\"}],\"center\":[{\"id\":\"4647\"},{\"id\":\"4651\"}],\"height\":300,\"left\":[{\"id\":\"4648\"}],\"margin\":[5,5,5,5],\"min_border_bottom\":10,\"min_border_left\":10,\"min_border_right\":10,\"min_border_top\":10,\"renderers\":[{\"id\":\"4677\"},{\"id\":\"4698\"},{\"id\":\"4720\"},{\"id\":\"4744\"}],\"right\":[{\"id\":\"4689\"}],\"sizing_mode\":\"fixed\",\"title\":{\"id\":\"4636\"},\"toolbar\":{\"id\":\"4658\"},\"width\":700,\"x_range\":{\"id\":\"4629\"},\"x_scale\":{\"id\":\"4640\"},\"y_range\":{\"id\":\"4630\"},\"y_scale\":{\"id\":\"4642\"}},\"id\":\"4635\",\"subtype\":\"Figure\",\"type\":\"Plot\"},{\"attributes\":{\"fill_color\":{\"value\":\"#30a2da\"},\"line_color\":{\"value\":\"#30a2da\"},\"size\":{\"value\":5.477225575051661},\"x\":{\"field\":\"price_change_percentage_24h\"},\"y\":{\"field\":\"price_change_percentage_7d\"}},\"id\":\"4674\",\"type\":\"Scatter\"},{\"attributes\":{\"axis\":{\"id\":\"4644\"},\"grid_line_color\":null,\"ticker\":null},\"id\":\"4647\",\"type\":\"Grid\"},{\"attributes\":{\"data\":{\"Clusters\":[2,2,2,2,2,2,2,2,2,2,2,2,2],\"price_change_percentage_24h\":{\"__ndarray__\":\"DdlqYN9F4D86azDosLzHPzALIwCtFvM/9w6McDSK7D/VDHOpb1eHPzMEvaFkP7o/Sds39trWsz9Epj8/c9DQP4xAeNEVZ8O/qq8st/Fh0L8FWWk3mH7gP6wo083aUMC//ACFOIMFwL8=\",\"dtype\":\"float64\",\"order\":\"little\",\"shape\":[13]},\"price_change_percentage_7d\":{\"__ndarray__\":\"U1k8q3mQ3z9yoPpI+ebtPzAB2dP2AQBAgmkOMZk89T8FNulI+JMEQCZRaSLGIPg/84wjaB1l1T8rMp3jf678P2VmURqKqeY/XK6ZksNx/T9DfMqy1o7dPyTPDB1Xu+0/srW7TleV4j8=\",\"dtype\":\"float64\",\"order\":\"little\",\"shape\":[13]}},\"selected\":{\"id\":\"4715\"},\"selection_policy\":{\"id\":\"4735\"}},\"id\":\"4714\",\"type\":\"ColumnDataSource\"},{\"attributes\":{},\"id\":\"4642\",\"type\":\"LinearScale\"},{\"attributes\":{\"axis_label\":\"price_change_percentage_7d\",\"formatter\":{\"id\":\"4669\"},\"major_label_policy\":{\"id\":\"4670\"},\"ticker\":{\"id\":\"4649\"}},\"id\":\"4648\",\"type\":\"LinearAxis\"},{\"attributes\":{\"axis_label\":\"price_change_percentage_24h\",\"formatter\":{\"id\":\"4666\"},\"major_label_policy\":{\"id\":\"4667\"},\"ticker\":{\"id\":\"4645\"}},\"id\":\"4644\",\"type\":\"LinearAxis\"},{\"attributes\":{\"end\":2.2155632386560065,\"reset_end\":2.2155632386560065,\"reset_start\":-5.276792781891412,\"start\":-5.276792781891412,\"tags\":[[[\"price_change_percentage_24h\",\"price_change_percentage_24h\",null]]]},\"id\":\"4629\",\"type\":\"Range1d\"},{\"attributes\":{},\"id\":\"4649\",\"type\":\"BasicTicker\"},{\"attributes\":{\"axis\":{\"id\":\"4648\"},\"dimension\":1,\"grid_line_color\":null,\"ticker\":null},\"id\":\"4651\",\"type\":\"Grid\"},{\"attributes\":{\"fill_alpha\":{\"value\":0.2},\"fill_color\":{\"value\":\"#6d904f\"},\"line_alpha\":{\"value\":0.2},\"line_color\":{\"value\":\"#6d904f\"},\"size\":{\"value\":5.477225575051661},\"x\":{\"field\":\"price_change_percentage_24h\"},\"y\":{\"field\":\"price_change_percentage_7d\"}},\"id\":\"4743\",\"type\":\"Scatter\"},{\"attributes\":{\"fill_alpha\":{\"value\":0.2},\"fill_color\":{\"value\":\"#e5ae38\"},\"line_alpha\":{\"value\":0.2},\"line_color\":{\"value\":\"#e5ae38\"},\"size\":{\"value\":5.477225575051661},\"x\":{\"field\":\"price_change_percentage_24h\"},\"y\":{\"field\":\"price_change_percentage_7d\"}},\"id\":\"4719\",\"type\":\"Scatter\"},{\"attributes\":{},\"id\":\"4669\",\"type\":\"BasicTickFormatter\"},{\"attributes\":{\"margin\":[5,5,5,5],\"name\":\"HSpacer09218\",\"sizing_mode\":\"stretch_width\"},\"id\":\"4908\",\"type\":\"Spacer\"},{\"attributes\":{\"data_source\":{\"id\":\"4692\"},\"glyph\":{\"id\":\"4695\"},\"hover_glyph\":null,\"muted_glyph\":{\"id\":\"4697\"},\"nonselection_glyph\":{\"id\":\"4696\"},\"selection_glyph\":{\"id\":\"4713\"},\"view\":{\"id\":\"4699\"}},\"id\":\"4698\",\"type\":\"GlyphRenderer\"},{\"attributes\":{},\"id\":\"4666\",\"type\":\"BasicTickFormatter\"},{\"attributes\":{\"margin\":[5,5,5,5],\"name\":\"HSpacer09217\",\"sizing_mode\":\"stretch_width\"},\"id\":\"4628\",\"type\":\"Spacer\"},{\"attributes\":{\"callback\":null,\"renderers\":[{\"id\":\"4677\"},{\"id\":\"4698\"},{\"id\":\"4720\"},{\"id\":\"4744\"}],\"tags\":[\"hv_created\"],\"tooltips\":[[\"Clusters\",\"@{Clusters}\"],[\"price_change_percentage_24h\",\"@{price_change_percentage_24h}\"],[\"price_change_percentage_7d\",\"@{price_change_percentage_7d}\"]]},\"id\":\"4631\",\"type\":\"HoverTool\"},{\"attributes\":{\"source\":{\"id\":\"4692\"}},\"id\":\"4699\",\"type\":\"CDSView\"},{\"attributes\":{},\"id\":\"4652\",\"type\":\"SaveTool\"},{\"attributes\":{},\"id\":\"4653\",\"type\":\"PanTool\"}],\"root_ids\":[\"4627\"]},\"title\":\"Bokeh Application\",\"version\":\"2.3.2\"}};\n",
       "    var render_items = [{\"docid\":\"4289864b-c7fd-4d67-97dc-6c9d42bc946d\",\"root_ids\":[\"4627\"],\"roots\":{\"4627\":\"04556d84-7d0e-4ca3-844d-6e227d1ea0ca\"}}];\n",
       "    root.Bokeh.embed.embed_items_notebook(docs_json, render_items);\n",
       "  }\n",
       "  if (root.Bokeh !== undefined && root.Bokeh.Panel !== undefined) {\n",
       "    embed_document(root);\n",
       "  } else {\n",
       "    var attempts = 0;\n",
       "    var timer = setInterval(function(root) {\n",
       "      if (root.Bokeh !== undefined && root.Bokeh.Panel !== undefined) {\n",
       "        clearInterval(timer);\n",
       "        embed_document(root);\n",
       "      } else if (document.readyState == \"complete\") {\n",
       "        attempts++;\n",
       "        if (attempts > 200) {\n",
       "          clearInterval(timer);\n",
       "          console.log(\"Bokeh: ERROR: Unable to run BokehJS code because BokehJS library is missing\");\n",
       "        }\n",
       "      }\n",
       "    }, 25, root)\n",
       "  }\n",
       "})(window);</script>"
      ],
      "text/plain": [
       ":NdOverlay   [Clusters]\n",
       "   :Scatter   [price_change_percentage_24h]   (price_change_percentage_7d)"
      ]
     },
     "execution_count": 59,
     "metadata": {
      "application/vnd.holoviews_exec.v0+json": {
       "id": "4627"
      }
     },
     "output_type": "execute_result"
    }
   ],
   "source": [
    "# Create a scatter plot using hvPlot by setting \n",
    "# `x=\"price_change_percentage_24h\"` and `y=\"price_change_percentage_7d\"`. \n",
    "# Color the graph points with the labels found using K-Means and \n",
    "# add the crypto name in the `hover_cols` parameter to identify \n",
    "# the cryptocurrency represented by each data point.\n",
    "pca_scatter = pca_prediction_df.hvplot.scatter(x=\"price_change_percentage_24h\", y=\"price_change_percentage_7d\", by='Clusters')\n",
    "pca_scatter"
   ]
  },
  {
   "cell_type": "markdown",
   "metadata": {},
   "source": [
    "---"
   ]
  },
  {
   "cell_type": "markdown",
   "metadata": {},
   "source": [
    "### Visualize and Compare the Results\n",
    "\n",
    "In this section, you will visually analyze the cluster analysis results by contrasting the outcome with and without using the optimization techniques.\n",
    "\n",
    "1. Create a composite plot using hvPlot and the plus (`+`) operator to contrast the Elbow Curve that you created to find the best value for `k` with the original and the PCA data.\n",
    "\n",
    "2. Create a composite plot using hvPlot and the plus (`+`) operator to contrast the cryptocurrencies clusters using the original and the PCA data.\n",
    "\n",
    "3. Answer the following question: After visually analyzing the cluster analysis results, what is the impact of using fewer features to cluster the data using K-Means?\n",
    "\n",
    "> **Rewind:** Back in Lesson 3 of Module 6, you learned how to create composite plots. You can look at that lesson to review how to make these plots; also, you can check [the hvPlot documentation](https://holoviz.org/tutorial/Composing_Plots.html)."
   ]
  },
  {
   "cell_type": "code",
   "execution_count": 61,
   "metadata": {},
   "outputs": [
    {
     "data": {},
     "metadata": {},
     "output_type": "display_data"
    },
    {
     "data": {
      "application/vnd.holoviews_exec.v0+json": "",
      "text/html": [
       "<div id='5245'>\n",
       "\n",
       "\n",
       "\n",
       "\n",
       "\n",
       "  <div class=\"bk-root\" id=\"c758392e-bfc0-4daa-bcce-b8cba70a4816\" data-root-id=\"5245\"></div>\n",
       "</div>\n",
       "<script type=\"application/javascript\">(function(root) {\n",
       "  function embed_document(root) {\n",
       "    var docs_json = {\"742bcbec-9624-4641-a720-410495531922\":{\"defs\":[{\"extends\":null,\"module\":null,\"name\":\"ReactiveHTML1\",\"overrides\":[],\"properties\":[]},{\"extends\":null,\"module\":null,\"name\":\"FlexBox1\",\"overrides\":[],\"properties\":[{\"default\":\"flex-start\",\"kind\":null,\"name\":\"align_content\"},{\"default\":\"flex-start\",\"kind\":null,\"name\":\"align_items\"},{\"default\":\"row\",\"kind\":null,\"name\":\"flex_direction\"},{\"default\":\"wrap\",\"kind\":null,\"name\":\"flex_wrap\"},{\"default\":\"flex-start\",\"kind\":null,\"name\":\"justify_content\"}]},{\"extends\":null,\"module\":null,\"name\":\"TemplateActions1\",\"overrides\":[],\"properties\":[{\"default\":0,\"kind\":null,\"name\":\"open_modal\"},{\"default\":0,\"kind\":null,\"name\":\"close_modal\"}]},{\"extends\":null,\"module\":null,\"name\":\"MaterialTemplateActions1\",\"overrides\":[],\"properties\":[{\"default\":0,\"kind\":null,\"name\":\"open_modal\"},{\"default\":0,\"kind\":null,\"name\":\"close_modal\"}]}],\"roots\":{\"references\":[{\"attributes\":{\"line_color\":\"#e5ae38\",\"line_width\":2,\"x\":{\"field\":\"index\"},\"y\":{\"field\":\"value\"}},\"id\":\"5438\",\"type\":\"Line\"},{\"attributes\":{\"data\":{\"Variable\":[\"inertia\",\"inertia\",\"inertia\",\"inertia\",\"inertia\",\"inertia\",\"inertia\",\"inertia\",\"inertia\",\"inertia\"],\"index\":[0,1,2,3,4,5,6,7,8,9],\"value\":{\"__ndarray__\":\"EQAmQfwNcEBPVJAi3bxkQP0sl3eTcVdAnIiJ/i7VSEDZFmXIevBCQIRsYu90njtAYuYhZsouNUBTtBt0y2MxQDyoTfHyLytAqO9NHWQeJUA=\",\"dtype\":\"float64\",\"order\":\"little\",\"shape\":[10]}},\"selected\":{\"id\":\"5311\"},\"selection_policy\":{\"id\":\"5329\"}},\"id\":\"5310\",\"type\":\"ColumnDataSource\"},{\"attributes\":{\"margin\":[5,5,5,5],\"name\":\"HSpacer10279\",\"sizing_mode\":\"stretch_width\"},\"id\":\"5246\",\"type\":\"Spacer\"},{\"attributes\":{\"data\":{\"Variable\":[\"k\",\"k\",\"k\",\"k\",\"k\",\"k\",\"k\",\"k\",\"k\",\"k\"],\"index\":[0,1,2,3,4,5,6,7,8,9],\"value\":[1,2,3,4,5,6,7,8,9,10]},\"selected\":{\"id\":\"5290\"},\"selection_policy\":{\"id\":\"5306\"}},\"id\":\"5289\",\"type\":\"ColumnDataSource\"},{\"attributes\":{\"line_alpha\":0.1,\"line_color\":\"#e5ae38\",\"line_width\":2,\"x\":{\"field\":\"index\"},\"y\":{\"field\":\"value\"}},\"id\":\"5420\",\"type\":\"Line\"},{\"attributes\":{\"data_source\":{\"id\":\"5310\"},\"glyph\":{\"id\":\"5313\"},\"hover_glyph\":null,\"muted_glyph\":{\"id\":\"5315\"},\"nonselection_glyph\":{\"id\":\"5314\"},\"selection_glyph\":{\"id\":\"5331\"},\"view\":{\"id\":\"5317\"}},\"id\":\"5316\",\"type\":\"GlyphRenderer\"},{\"attributes\":{\"line_alpha\":0.2,\"line_color\":\"#fc4f30\",\"line_width\":2,\"x\":{\"field\":\"index\"},\"y\":{\"field\":\"value\"}},\"id\":\"5315\",\"type\":\"Line\"},{\"attributes\":{},\"id\":\"5284\",\"type\":\"BasicTickFormatter\"},{\"attributes\":{\"source\":{\"id\":\"5439\"}},\"id\":\"5446\",\"type\":\"CDSView\"},{\"attributes\":{\"bottom_units\":\"screen\",\"fill_alpha\":0.5,\"fill_color\":\"lightgrey\",\"left_units\":\"screen\",\"level\":\"overlay\",\"line_alpha\":1.0,\"line_color\":\"black\",\"line_dash\":[4,4],\"line_width\":2,\"right_units\":\"screen\",\"syncable\":false,\"top_units\":\"screen\"},\"id\":\"5275\",\"type\":\"BoxAnnotation\"},{\"attributes\":{\"active_multi\":null,\"tools\":[{\"id\":\"5249\"},{\"id\":\"5270\"},{\"id\":\"5271\"},{\"id\":\"5272\"},{\"id\":\"5273\"},{\"id\":\"5274\"}]},\"id\":\"5276\",\"type\":\"Toolbar\"},{\"attributes\":{\"callback\":null,\"renderers\":[{\"id\":\"5295\"},{\"id\":\"5316\"},{\"id\":\"5422\"},{\"id\":\"5445\"}],\"tags\":[\"hv_created\"],\"tooltips\":[[\"Variable\",\"@{Variable}\"],[\"index\",\"@{index}\"],[\"value\",\"@{value}\"]]},\"id\":\"5249\",\"type\":\"HoverTool\"},{\"attributes\":{},\"id\":\"5287\",\"type\":\"BasicTickFormatter\"},{\"attributes\":{\"line_alpha\":0.2,\"line_color\":\"#e5ae38\",\"line_width\":2,\"x\":{\"field\":\"index\"},\"y\":{\"field\":\"value\"}},\"id\":\"5421\",\"type\":\"Line\"},{\"attributes\":{\"click_policy\":\"mute\",\"items\":[{\"id\":\"5308\"},{\"id\":\"5330\"}],\"location\":[0,0]},\"id\":\"5307\",\"type\":\"Legend\"},{\"attributes\":{\"end\":9.0,\"reset_end\":9.0,\"reset_start\":0.0,\"tags\":[[[\"index\",\"index\",null]]]},\"id\":\"5247\",\"type\":\"Range1d\"},{\"attributes\":{},\"id\":\"5288\",\"type\":\"AllLabels\"},{\"attributes\":{\"line_alpha\":0.1,\"line_color\":\"#6d904f\",\"line_width\":2,\"x\":{\"field\":\"index\"},\"y\":{\"field\":\"value\"}},\"id\":\"5443\",\"type\":\"Line\"},{\"attributes\":{\"line_alpha\":0.2,\"line_color\":\"#6d904f\",\"line_width\":2,\"x\":{\"field\":\"index\"},\"y\":{\"field\":\"value\"}},\"id\":\"5444\",\"type\":\"Line\"},{\"attributes\":{\"line_color\":\"#30a2da\",\"line_width\":2,\"x\":{\"field\":\"index\"},\"y\":{\"field\":\"value\"}},\"id\":\"5292\",\"type\":\"Line\"},{\"attributes\":{\"line_color\":\"#6d904f\",\"line_width\":2,\"x\":{\"field\":\"index\"},\"y\":{\"field\":\"value\"}},\"id\":\"5442\",\"type\":\"Line\"},{\"attributes\":{\"data_source\":{\"id\":\"5439\"},\"glyph\":{\"id\":\"5442\"},\"hover_glyph\":null,\"muted_glyph\":{\"id\":\"5444\"},\"nonselection_glyph\":{\"id\":\"5443\"},\"selection_glyph\":{\"id\":\"5463\"},\"view\":{\"id\":\"5446\"}},\"id\":\"5445\",\"type\":\"GlyphRenderer\"},{\"attributes\":{},\"id\":\"5285\",\"type\":\"AllLabels\"},{\"attributes\":{},\"id\":\"5417\",\"type\":\"Selection\"},{\"attributes\":{\"source\":{\"id\":\"5289\"}},\"id\":\"5296\",\"type\":\"CDSView\"},{\"attributes\":{},\"id\":\"5258\",\"type\":\"LinearScale\"},{\"attributes\":{\"data\":{\"Variable\":[\"k\",\"k\",\"k\",\"k\",\"k\",\"k\",\"k\",\"k\",\"k\",\"k\"],\"index\":[0,1,2,3,4,5,6,7,8,9],\"value\":[1,2,3,4,5,6,7,8,9,10]},\"selected\":{\"id\":\"5417\"},\"selection_policy\":{\"id\":\"5437\"}},\"id\":\"5416\",\"type\":\"ColumnDataSource\"},{\"attributes\":{},\"id\":\"5263\",\"type\":\"BasicTicker\"},{\"attributes\":{\"data_source\":{\"id\":\"5289\"},\"glyph\":{\"id\":\"5292\"},\"hover_glyph\":null,\"muted_glyph\":{\"id\":\"5294\"},\"nonselection_glyph\":{\"id\":\"5293\"},\"selection_glyph\":{\"id\":\"5309\"},\"view\":{\"id\":\"5296\"}},\"id\":\"5295\",\"type\":\"GlyphRenderer\"},{\"attributes\":{\"axis\":{\"id\":\"5262\"},\"grid_line_color\":null,\"ticker\":null},\"id\":\"5265\",\"type\":\"Grid\"},{\"attributes\":{\"label\":{\"value\":\"inertia\"},\"renderers\":[{\"id\":\"5316\"},{\"id\":\"5445\"}]},\"id\":\"5330\",\"type\":\"LegendItem\"},{\"attributes\":{\"data\":{\"Variable\":[\"inertia\",\"inertia\",\"inertia\",\"inertia\",\"inertia\",\"inertia\",\"inertia\",\"inertia\",\"inertia\",\"inertia\"],\"index\":[0,1,2,3,4,5,6,7,8,9],\"value\":{\"__ndarray__\":\"AAAAAADwcUByhzI6P3poQOGRvNowzF5AGe6ulG/BU0BoEQsuWlNQQOfqC/e6cUpAiSebkxT1RUBt++EeLsJCQMF0IF8cPkBAi3eL7Q85PEA=\",\"dtype\":\"float64\",\"order\":\"little\",\"shape\":[10]}},\"selected\":{\"id\":\"5440\"},\"selection_policy\":{\"id\":\"5462\"}},\"id\":\"5439\",\"type\":\"ColumnDataSource\"},{\"attributes\":{\"data_source\":{\"id\":\"5416\"},\"glyph\":{\"id\":\"5419\"},\"hover_glyph\":null,\"muted_glyph\":{\"id\":\"5421\"},\"nonselection_glyph\":{\"id\":\"5420\"},\"selection_glyph\":{\"id\":\"5438\"},\"view\":{\"id\":\"5423\"}},\"id\":\"5422\",\"type\":\"GlyphRenderer\"},{\"attributes\":{},\"id\":\"5440\",\"type\":\"Selection\"},{\"attributes\":{},\"id\":\"5329\",\"type\":\"UnionRenderers\"},{\"attributes\":{},\"id\":\"5306\",\"type\":\"UnionRenderers\"},{\"attributes\":{},\"id\":\"5260\",\"type\":\"LinearScale\"},{\"attributes\":{\"axis_label\":\"\",\"formatter\":{\"id\":\"5287\"},\"major_label_policy\":{\"id\":\"5288\"},\"ticker\":{\"id\":\"5267\"}},\"id\":\"5266\",\"type\":\"LinearAxis\"},{\"attributes\":{\"line_color\":\"#fc4f30\",\"line_width\":2,\"x\":{\"field\":\"index\"},\"y\":{\"field\":\"value\"}},\"id\":\"5331\",\"type\":\"Line\"},{\"attributes\":{\"axis_label\":\"\",\"formatter\":{\"id\":\"5284\"},\"major_label_policy\":{\"id\":\"5285\"},\"ticker\":{\"id\":\"5263\"}},\"id\":\"5262\",\"type\":\"LinearAxis\"},{\"attributes\":{\"line_alpha\":0.2,\"line_color\":\"#30a2da\",\"line_width\":2,\"x\":{\"field\":\"index\"},\"y\":{\"field\":\"value\"}},\"id\":\"5294\",\"type\":\"Line\"},{\"attributes\":{},\"id\":\"5267\",\"type\":\"BasicTicker\"},{\"attributes\":{\"line_color\":\"#30a2da\",\"line_width\":2,\"x\":{\"field\":\"index\"},\"y\":{\"field\":\"value\"}},\"id\":\"5309\",\"type\":\"Line\"},{\"attributes\":{\"axis\":{\"id\":\"5266\"},\"dimension\":1,\"grid_line_color\":null,\"ticker\":null},\"id\":\"5269\",\"type\":\"Grid\"},{\"attributes\":{},\"id\":\"5290\",\"type\":\"Selection\"},{\"attributes\":{},\"id\":\"5437\",\"type\":\"UnionRenderers\"},{\"attributes\":{\"source\":{\"id\":\"5416\"}},\"id\":\"5423\",\"type\":\"CDSView\"},{\"attributes\":{\"line_color\":\"#e5ae38\",\"line_width\":2,\"x\":{\"field\":\"index\"},\"y\":{\"field\":\"value\"}},\"id\":\"5419\",\"type\":\"Line\"},{\"attributes\":{},\"id\":\"5270\",\"type\":\"SaveTool\"},{\"attributes\":{},\"id\":\"5271\",\"type\":\"PanTool\"},{\"attributes\":{\"end\":315.6,\"reset_end\":315.6,\"reset_start\":-27.6,\"start\":-27.6,\"tags\":[[[\"value\",\"value\",null]]]},\"id\":\"5248\",\"type\":\"Range1d\"},{\"attributes\":{},\"id\":\"5274\",\"type\":\"ResetTool\"},{\"attributes\":{\"label\":{\"value\":\"k\"},\"renderers\":[{\"id\":\"5295\"},{\"id\":\"5422\"}]},\"id\":\"5308\",\"type\":\"LegendItem\"},{\"attributes\":{},\"id\":\"5272\",\"type\":\"WheelZoomTool\"},{\"attributes\":{\"overlay\":{\"id\":\"5275\"}},\"id\":\"5273\",\"type\":\"BoxZoomTool\"},{\"attributes\":{\"line_alpha\":0.1,\"line_color\":\"#30a2da\",\"line_width\":2,\"x\":{\"field\":\"index\"},\"y\":{\"field\":\"value\"}},\"id\":\"5293\",\"type\":\"Line\"},{\"attributes\":{\"children\":[{\"id\":\"5246\"},{\"id\":\"5253\"},{\"id\":\"5720\"}],\"margin\":[0,0,0,0],\"name\":\"Row10275\",\"tags\":[\"embedded\"]},\"id\":\"5245\",\"type\":\"Row\"},{\"attributes\":{\"margin\":[5,5,5,5],\"name\":\"HSpacer10280\",\"sizing_mode\":\"stretch_width\"},\"id\":\"5720\",\"type\":\"Spacer\"},{\"attributes\":{\"source\":{\"id\":\"5310\"}},\"id\":\"5317\",\"type\":\"CDSView\"},{\"attributes\":{\"line_color\":\"#fc4f30\",\"line_width\":2,\"x\":{\"field\":\"index\"},\"y\":{\"field\":\"value\"}},\"id\":\"5313\",\"type\":\"Line\"},{\"attributes\":{\"line_alpha\":0.1,\"line_color\":\"#fc4f30\",\"line_width\":2,\"x\":{\"field\":\"index\"},\"y\":{\"field\":\"value\"}},\"id\":\"5314\",\"type\":\"Line\"},{\"attributes\":{\"below\":[{\"id\":\"5262\"}],\"center\":[{\"id\":\"5265\"},{\"id\":\"5269\"}],\"height\":300,\"left\":[{\"id\":\"5266\"}],\"margin\":[5,5,5,5],\"min_border_bottom\":10,\"min_border_left\":10,\"min_border_right\":10,\"min_border_top\":10,\"renderers\":[{\"id\":\"5295\"},{\"id\":\"5316\"},{\"id\":\"5422\"},{\"id\":\"5445\"}],\"right\":[{\"id\":\"5307\"}],\"sizing_mode\":\"fixed\",\"title\":{\"id\":\"5254\"},\"toolbar\":{\"id\":\"5276\"},\"width\":700,\"x_range\":{\"id\":\"5247\"},\"x_scale\":{\"id\":\"5258\"},\"y_range\":{\"id\":\"5248\"},\"y_scale\":{\"id\":\"5260\"}},\"id\":\"5253\",\"subtype\":\"Figure\",\"type\":\"Plot\"},{\"attributes\":{\"line_color\":\"#6d904f\",\"line_width\":2,\"x\":{\"field\":\"index\"},\"y\":{\"field\":\"value\"}},\"id\":\"5463\",\"type\":\"Line\"},{\"attributes\":{},\"id\":\"5462\",\"type\":\"UnionRenderers\"},{\"attributes\":{\"text_color\":\"black\",\"text_font_size\":\"12pt\"},\"id\":\"5254\",\"type\":\"Title\"},{\"attributes\":{},\"id\":\"5311\",\"type\":\"Selection\"}],\"root_ids\":[\"5245\"]},\"title\":\"Bokeh Application\",\"version\":\"2.3.2\"}};\n",
       "    var render_items = [{\"docid\":\"742bcbec-9624-4641-a720-410495531922\",\"root_ids\":[\"5245\"],\"roots\":{\"5245\":\"c758392e-bfc0-4daa-bcce-b8cba70a4816\"}}];\n",
       "    root.Bokeh.embed.embed_items_notebook(docs_json, render_items);\n",
       "  }\n",
       "  if (root.Bokeh !== undefined && root.Bokeh.Panel !== undefined) {\n",
       "    embed_document(root);\n",
       "  } else {\n",
       "    var attempts = 0;\n",
       "    var timer = setInterval(function(root) {\n",
       "      if (root.Bokeh !== undefined && root.Bokeh.Panel !== undefined) {\n",
       "        clearInterval(timer);\n",
       "        embed_document(root);\n",
       "      } else if (document.readyState == \"complete\") {\n",
       "        attempts++;\n",
       "        if (attempts > 200) {\n",
       "          clearInterval(timer);\n",
       "          console.log(\"Bokeh: ERROR: Unable to run BokehJS code because BokehJS library is missing\");\n",
       "        }\n",
       "      }\n",
       "    }, 25, root)\n",
       "  }\n",
       "})(window);</script>"
      ],
      "text/plain": [
       ":Overlay\n",
       "   .NdOverlay.I  :NdOverlay   [Variable]\n",
       "      :Curve   [index]   (value)\n",
       "   .NdOverlay.II :NdOverlay   [Variable]\n",
       "      :Curve   [index]   (value)"
      ]
     },
     "execution_count": 61,
     "metadata": {
      "application/vnd.holoviews_exec.v0+json": {
       "id": "5245"
      }
     },
     "output_type": "execute_result"
    }
   ],
   "source": [
    "# Composite plot to contrast the Elbow curves\n",
    "elbow_pca_plot * elbow_scaled_plot"
   ]
  },
  {
   "cell_type": "code",
   "execution_count": 63,
   "metadata": {},
   "outputs": [
    {
     "data": {},
     "metadata": {},
     "output_type": "display_data"
    },
    {
     "data": {
      "application/vnd.holoviews_exec.v0+json": "",
      "text/html": [
       "<div id='6681'>\n",
       "\n",
       "\n",
       "\n",
       "\n",
       "\n",
       "  <div class=\"bk-root\" id=\"d1178299-a2d0-42c8-999d-953a26c09002\" data-root-id=\"6681\"></div>\n",
       "</div>\n",
       "<script type=\"application/javascript\">(function(root) {\n",
       "  function embed_document(root) {\n",
       "    var docs_json = {\"25a2755a-3dfc-4dd4-8553-9c26c2a9a7ec\":{\"defs\":[{\"extends\":null,\"module\":null,\"name\":\"ReactiveHTML1\",\"overrides\":[],\"properties\":[]},{\"extends\":null,\"module\":null,\"name\":\"FlexBox1\",\"overrides\":[],\"properties\":[{\"default\":\"flex-start\",\"kind\":null,\"name\":\"align_content\"},{\"default\":\"flex-start\",\"kind\":null,\"name\":\"align_items\"},{\"default\":\"row\",\"kind\":null,\"name\":\"flex_direction\"},{\"default\":\"wrap\",\"kind\":null,\"name\":\"flex_wrap\"},{\"default\":\"flex-start\",\"kind\":null,\"name\":\"justify_content\"}]},{\"extends\":null,\"module\":null,\"name\":\"TemplateActions1\",\"overrides\":[],\"properties\":[{\"default\":0,\"kind\":null,\"name\":\"open_modal\"},{\"default\":0,\"kind\":null,\"name\":\"close_modal\"}]},{\"extends\":null,\"module\":null,\"name\":\"MaterialTemplateActions1\",\"overrides\":[],\"properties\":[{\"default\":0,\"kind\":null,\"name\":\"open_modal\"},{\"default\":0,\"kind\":null,\"name\":\"close_modal\"}]}],\"roots\":{\"references\":[{\"attributes\":{},\"id\":\"7019\",\"type\":\"UnionRenderers\"},{\"attributes\":{\"data\":{\"Clusters\":[2],\"price_change_percentage_24h\":{\"__ndarray__\":\"3WeHPpbsE8A=\",\"dtype\":\"float64\",\"order\":\"little\",\"shape\":[1]},\"price_change_percentage_7d\":{\"__ndarray__\":\"dIWi2pshp78=\",\"dtype\":\"float64\",\"order\":\"little\",\"shape\":[1]}},\"selected\":{\"id\":\"6991\"},\"selection_policy\":{\"id\":\"7019\"}},\"id\":\"6990\",\"type\":\"ColumnDataSource\"},{\"attributes\":{\"text_color\":\"black\",\"text_font_size\":\"12pt\"},\"id\":\"6694\",\"type\":\"Title\"},{\"attributes\":{\"fill_alpha\":{\"value\":0.1},\"fill_color\":{\"value\":\"#e5ae38\"},\"line_alpha\":{\"value\":0.1},\"line_color\":{\"value\":\"#e5ae38\"},\"size\":{\"value\":5.477225575051661},\"x\":{\"field\":\"price_change_percentage_24h\"},\"y\":{\"field\":\"price_change_percentage_7d\"}},\"id\":\"6776\",\"type\":\"Scatter\"},{\"attributes\":{},\"id\":\"6727\",\"type\":\"BasicTickFormatter\"},{\"attributes\":{\"below\":[{\"id\":\"6702\"}],\"center\":[{\"id\":\"6705\"},{\"id\":\"6709\"}],\"height\":300,\"left\":[{\"id\":\"6706\"}],\"margin\":[5,5,5,5],\"min_border_bottom\":10,\"min_border_left\":10,\"min_border_right\":10,\"min_border_top\":10,\"renderers\":[{\"id\":\"6735\"},{\"id\":\"6756\"},{\"id\":\"6778\"},{\"id\":\"6802\"},{\"id\":\"6940\"},{\"id\":\"6967\"},{\"id\":\"6996\"},{\"id\":\"7027\"}],\"right\":[{\"id\":\"6747\"}],\"sizing_mode\":\"fixed\",\"title\":{\"id\":\"6694\"},\"toolbar\":{\"id\":\"6716\"},\"width\":700,\"x_range\":{\"id\":\"6683\"},\"x_scale\":{\"id\":\"6698\"},\"y_range\":{\"id\":\"6684\"},\"y_scale\":{\"id\":\"6700\"}},\"id\":\"6693\",\"subtype\":\"Figure\",\"type\":\"Plot\"},{\"attributes\":{\"data\":{\"Clusters\":[3],\"price_change_percentage_24h\":{\"__ndarray__\":\"3WeHPpbsE8A=\",\"dtype\":\"float64\",\"order\":\"little\",\"shape\":[1]},\"price_change_percentage_7d\":{\"__ndarray__\":\"dIWi2pshp78=\",\"dtype\":\"float64\",\"order\":\"little\",\"shape\":[1]}},\"selected\":{\"id\":\"6797\"},\"selection_policy\":{\"id\":\"6819\"}},\"id\":\"6796\",\"type\":\"ColumnDataSource\"},{\"attributes\":{\"margin\":[5,5,5,5],\"name\":\"HSpacer12551\",\"sizing_mode\":\"stretch_width\"},\"id\":\"6682\",\"type\":\"Spacer\"},{\"attributes\":{\"fill_alpha\":{\"value\":0.1},\"fill_color\":{\"value\":\"#d62728\"},\"line_alpha\":{\"value\":0.1},\"line_color\":{\"value\":\"#d62728\"},\"size\":{\"value\":5.477225575051661},\"x\":{\"field\":\"price_change_percentage_24h\"},\"y\":{\"field\":\"price_change_percentage_7d\"}},\"id\":\"7025\",\"type\":\"Scatter\"},{\"attributes\":{\"data_source\":{\"id\":\"6796\"},\"glyph\":{\"id\":\"6799\"},\"hover_glyph\":null,\"muted_glyph\":{\"id\":\"6801\"},\"nonselection_glyph\":{\"id\":\"6800\"},\"selection_glyph\":{\"id\":\"6821\"},\"view\":{\"id\":\"6803\"}},\"id\":\"6802\",\"type\":\"GlyphRenderer\"},{\"attributes\":{\"callback\":null,\"renderers\":[{\"id\":\"6735\"},{\"id\":\"6756\"},{\"id\":\"6778\"},{\"id\":\"6802\"},{\"id\":\"6940\"},{\"id\":\"6967\"},{\"id\":\"6996\"},{\"id\":\"7027\"}],\"tags\":[\"hv_created\"],\"tooltips\":[[\"Clusters\",\"@{Clusters}\"],[\"price_change_percentage_24h\",\"@{price_change_percentage_24h}\"],[\"price_change_percentage_7d\",\"@{price_change_percentage_7d}\"]]},\"id\":\"6685\",\"type\":\"HoverTool\"},{\"attributes\":{},\"id\":\"6746\",\"type\":\"UnionRenderers\"},{\"attributes\":{\"fill_alpha\":{\"value\":0.1},\"fill_color\":{\"value\":\"#8b8b8b\"},\"line_alpha\":{\"value\":0.1},\"line_color\":{\"value\":\"#8b8b8b\"},\"size\":{\"value\":5.477225575051661},\"x\":{\"field\":\"price_change_percentage_24h\"},\"y\":{\"field\":\"price_change_percentage_7d\"}},\"id\":\"6938\",\"type\":\"Scatter\"},{\"attributes\":{\"angle\":{\"value\":0.0},\"fill_alpha\":{\"value\":1.0},\"fill_color\":{\"value\":\"#9467bd\"},\"hatch_alpha\":{\"value\":1.0},\"hatch_color\":{\"value\":\"black\"},\"hatch_scale\":{\"value\":12.0},\"hatch_weight\":{\"value\":1.0},\"line_alpha\":{\"value\":1.0},\"line_cap\":{\"value\":\"butt\"},\"line_color\":{\"value\":\"#9467bd\"},\"line_dash\":{\"value\":[]},\"line_dash_offset\":{\"value\":0},\"line_join\":{\"value\":\"bevel\"},\"line_width\":{\"value\":1},\"marker\":{\"value\":\"circle\"},\"size\":{\"value\":5.477225575051661},\"x\":{\"field\":\"price_change_percentage_24h\"},\"y\":{\"field\":\"price_change_percentage_7d\"}},\"id\":\"7020\",\"type\":\"Scatter\"},{\"attributes\":{\"source\":{\"id\":\"6796\"}},\"id\":\"6803\",\"type\":\"CDSView\"},{\"attributes\":{\"axis\":{\"id\":\"6702\"},\"grid_line_color\":null,\"ticker\":null},\"id\":\"6705\",\"type\":\"Grid\"},{\"attributes\":{},\"id\":\"6935\",\"type\":\"Selection\"},{\"attributes\":{},\"id\":\"6988\",\"type\":\"UnionRenderers\"},{\"attributes\":{},\"id\":\"6730\",\"type\":\"Selection\"},{\"attributes\":{\"fill_alpha\":{\"value\":0.1},\"fill_color\":{\"value\":\"#9467bd\"},\"line_alpha\":{\"value\":0.1},\"line_color\":{\"value\":\"#9467bd\"},\"size\":{\"value\":5.477225575051661},\"x\":{\"field\":\"price_change_percentage_24h\"},\"y\":{\"field\":\"price_change_percentage_7d\"}},\"id\":\"6994\",\"type\":\"Scatter\"},{\"attributes\":{\"source\":{\"id\":\"7021\"}},\"id\":\"7028\",\"type\":\"CDSView\"},{\"attributes\":{},\"id\":\"6773\",\"type\":\"Selection\"},{\"attributes\":{\"fill_alpha\":{\"value\":0.2},\"fill_color\":{\"value\":\"#6d904f\"},\"line_alpha\":{\"value\":0.2},\"line_color\":{\"value\":\"#6d904f\"},\"size\":{\"value\":5.477225575051661},\"x\":{\"field\":\"price_change_percentage_24h\"},\"y\":{\"field\":\"price_change_percentage_7d\"}},\"id\":\"6801\",\"type\":\"Scatter\"},{\"attributes\":{},\"id\":\"6712\",\"type\":\"WheelZoomTool\"},{\"attributes\":{\"axis_label\":\"price_change_percentage_7d\",\"formatter\":{\"id\":\"6727\"},\"major_label_policy\":{\"id\":\"6728\"},\"ticker\":{\"id\":\"6707\"}},\"id\":\"6706\",\"type\":\"LinearAxis\"},{\"attributes\":{\"data_source\":{\"id\":\"6772\"},\"glyph\":{\"id\":\"6775\"},\"hover_glyph\":null,\"muted_glyph\":{\"id\":\"6777\"},\"nonselection_glyph\":{\"id\":\"6776\"},\"selection_glyph\":{\"id\":\"6795\"},\"view\":{\"id\":\"6779\"}},\"id\":\"6778\",\"type\":\"GlyphRenderer\"},{\"attributes\":{\"label\":{\"value\":\"1\"},\"renderers\":[{\"id\":\"6756\"},{\"id\":\"6967\"}]},\"id\":\"6770\",\"type\":\"LegendItem\"},{\"attributes\":{\"source\":{\"id\":\"6772\"}},\"id\":\"6779\",\"type\":\"CDSView\"},{\"attributes\":{\"data\":{\"Clusters\":[2,2,2,2,2,2,2,2,2,2,2,2,2],\"price_change_percentage_24h\":{\"__ndarray__\":\"DdlqYN9F4D86azDosLzHPzALIwCtFvM/9w6McDSK7D/VDHOpb1eHPzMEvaFkP7o/Sds39trWsz9Epj8/c9DQP4xAeNEVZ8O/qq8st/Fh0L8FWWk3mH7gP6wo083aUMC//ACFOIMFwL8=\",\"dtype\":\"float64\",\"order\":\"little\",\"shape\":[13]},\"price_change_percentage_7d\":{\"__ndarray__\":\"U1k8q3mQ3z9yoPpI+ebtPzAB2dP2AQBAgmkOMZk89T8FNulI+JMEQCZRaSLGIPg/84wjaB1l1T8rMp3jf678P2VmURqKqeY/XK6ZksNx/T9DfMqy1o7dPyTPDB1Xu+0/srW7TleV4j8=\",\"dtype\":\"float64\",\"order\":\"little\",\"shape\":[13]}},\"selected\":{\"id\":\"6773\"},\"selection_policy\":{\"id\":\"6793\"}},\"id\":\"6772\",\"type\":\"ColumnDataSource\"},{\"attributes\":{\"angle\":{\"value\":0.0},\"fill_alpha\":{\"value\":1.0},\"fill_color\":{\"value\":\"#17becf\"},\"hatch_alpha\":{\"value\":1.0},\"hatch_color\":{\"value\":\"black\"},\"hatch_scale\":{\"value\":12.0},\"hatch_weight\":{\"value\":1.0},\"line_alpha\":{\"value\":1.0},\"line_cap\":{\"value\":\"butt\"},\"line_color\":{\"value\":\"#17becf\"},\"line_dash\":{\"value\":[]},\"line_dash_offset\":{\"value\":0},\"line_join\":{\"value\":\"bevel\"},\"line_width\":{\"value\":1},\"marker\":{\"value\":\"circle\"},\"size\":{\"value\":5.477225575051661},\"x\":{\"field\":\"price_change_percentage_24h\"},\"y\":{\"field\":\"price_change_percentage_7d\"}},\"id\":\"6989\",\"type\":\"Scatter\"},{\"attributes\":{\"fill_color\":{\"value\":\"#d62728\"},\"line_color\":{\"value\":\"#d62728\"},\"size\":{\"value\":5.477225575051661},\"x\":{\"field\":\"price_change_percentage_24h\"},\"y\":{\"field\":\"price_change_percentage_7d\"}},\"id\":\"7024\",\"type\":\"Scatter\"},{\"attributes\":{},\"id\":\"6707\",\"type\":\"BasicTicker\"},{\"attributes\":{\"fill_alpha\":{\"value\":0.2},\"fill_color\":{\"value\":\"#e5ae38\"},\"line_alpha\":{\"value\":0.2},\"line_color\":{\"value\":\"#e5ae38\"},\"size\":{\"value\":5.477225575051661},\"x\":{\"field\":\"price_change_percentage_24h\"},\"y\":{\"field\":\"price_change_percentage_7d\"}},\"id\":\"6777\",\"type\":\"Scatter\"},{\"attributes\":{\"fill_alpha\":{\"value\":0.2},\"fill_color\":{\"value\":\"#fc4f30\"},\"line_alpha\":{\"value\":0.2},\"line_color\":{\"value\":\"#fc4f30\"},\"size\":{\"value\":5.477225575051661},\"x\":{\"field\":\"price_change_percentage_24h\"},\"y\":{\"field\":\"price_change_percentage_7d\"}},\"id\":\"6755\",\"type\":\"Scatter\"},{\"attributes\":{\"source\":{\"id\":\"6990\"}},\"id\":\"6997\",\"type\":\"CDSView\"},{\"attributes\":{\"fill_alpha\":{\"value\":0.1},\"fill_color\":{\"value\":\"#30a2da\"},\"line_alpha\":{\"value\":0.1},\"line_color\":{\"value\":\"#30a2da\"},\"size\":{\"value\":5.477225575051661},\"x\":{\"field\":\"price_change_percentage_24h\"},\"y\":{\"field\":\"price_change_percentage_7d\"}},\"id\":\"6733\",\"type\":\"Scatter\"},{\"attributes\":{},\"id\":\"6714\",\"type\":\"ResetTool\"},{\"attributes\":{\"angle\":{\"value\":0.0},\"fill_alpha\":{\"value\":1.0},\"fill_color\":{\"value\":\"#fc4f30\"},\"hatch_alpha\":{\"value\":1.0},\"hatch_color\":{\"value\":\"black\"},\"hatch_scale\":{\"value\":12.0},\"hatch_weight\":{\"value\":1.0},\"line_alpha\":{\"value\":1.0},\"line_cap\":{\"value\":\"butt\"},\"line_color\":{\"value\":\"#fc4f30\"},\"line_dash\":{\"value\":[]},\"line_dash_offset\":{\"value\":0},\"line_join\":{\"value\":\"bevel\"},\"line_width\":{\"value\":1},\"marker\":{\"value\":\"circle\"},\"size\":{\"value\":5.477225575051661},\"x\":{\"field\":\"price_change_percentage_24h\"},\"y\":{\"field\":\"price_change_percentage_7d\"}},\"id\":\"6771\",\"type\":\"Scatter\"},{\"attributes\":{\"data_source\":{\"id\":\"7021\"},\"glyph\":{\"id\":\"7024\"},\"hover_glyph\":null,\"muted_glyph\":{\"id\":\"7026\"},\"nonselection_glyph\":{\"id\":\"7025\"},\"selection_glyph\":{\"id\":\"7053\"},\"view\":{\"id\":\"7028\"}},\"id\":\"7027\",\"type\":\"GlyphRenderer\"},{\"attributes\":{},\"id\":\"6703\",\"type\":\"BasicTicker\"},{\"attributes\":{},\"id\":\"6751\",\"type\":\"Selection\"},{\"attributes\":{\"fill_color\":{\"value\":\"#9467bd\"},\"line_color\":{\"value\":\"#9467bd\"},\"size\":{\"value\":5.477225575051661},\"x\":{\"field\":\"price_change_percentage_24h\"},\"y\":{\"field\":\"price_change_percentage_7d\"}},\"id\":\"6993\",\"type\":\"Scatter\"},{\"attributes\":{},\"id\":\"6698\",\"type\":\"LinearScale\"},{\"attributes\":{\"axis_label\":\"price_change_percentage_24h\",\"formatter\":{\"id\":\"6724\"},\"major_label_policy\":{\"id\":\"6725\"},\"ticker\":{\"id\":\"6703\"}},\"id\":\"6702\",\"type\":\"LinearAxis\"},{\"attributes\":{},\"id\":\"6959\",\"type\":\"UnionRenderers\"},{\"attributes\":{\"fill_color\":{\"value\":\"#30a2da\"},\"line_color\":{\"value\":\"#30a2da\"},\"size\":{\"value\":5.477225575051661},\"x\":{\"field\":\"price_change_percentage_24h\"},\"y\":{\"field\":\"price_change_percentage_7d\"}},\"id\":\"6732\",\"type\":\"Scatter\"},{\"attributes\":{\"fill_alpha\":{\"value\":0.1},\"fill_color\":{\"value\":\"#17becf\"},\"line_alpha\":{\"value\":0.1},\"line_color\":{\"value\":\"#17becf\"},\"size\":{\"value\":5.477225575051661},\"x\":{\"field\":\"price_change_percentage_24h\"},\"y\":{\"field\":\"price_change_percentage_7d\"}},\"id\":\"6965\",\"type\":\"Scatter\"},{\"attributes\":{\"fill_alpha\":{\"value\":0.2},\"fill_color\":{\"value\":\"#d62728\"},\"line_alpha\":{\"value\":0.2},\"line_color\":{\"value\":\"#d62728\"},\"size\":{\"value\":5.477225575051661},\"x\":{\"field\":\"price_change_percentage_24h\"},\"y\":{\"field\":\"price_change_percentage_7d\"}},\"id\":\"7026\",\"type\":\"Scatter\"},{\"attributes\":{\"angle\":{\"value\":0.0},\"fill_alpha\":{\"value\":1.0},\"fill_color\":{\"value\":\"#30a2da\"},\"hatch_alpha\":{\"value\":1.0},\"hatch_color\":{\"value\":\"black\"},\"hatch_scale\":{\"value\":12.0},\"hatch_weight\":{\"value\":1.0},\"line_alpha\":{\"value\":1.0},\"line_cap\":{\"value\":\"butt\"},\"line_color\":{\"value\":\"#30a2da\"},\"line_dash\":{\"value\":[]},\"line_dash_offset\":{\"value\":0},\"line_join\":{\"value\":\"bevel\"},\"line_width\":{\"value\":1},\"marker\":{\"value\":\"circle\"},\"size\":{\"value\":5.477225575051661},\"x\":{\"field\":\"price_change_percentage_24h\"},\"y\":{\"field\":\"price_change_percentage_7d\"}},\"id\":\"6749\",\"type\":\"Scatter\"},{\"attributes\":{\"data_source\":{\"id\":\"6990\"},\"glyph\":{\"id\":\"6993\"},\"hover_glyph\":null,\"muted_glyph\":{\"id\":\"6995\"},\"nonselection_glyph\":{\"id\":\"6994\"},\"selection_glyph\":{\"id\":\"7020\"},\"view\":{\"id\":\"6997\"}},\"id\":\"6996\",\"type\":\"GlyphRenderer\"},{\"attributes\":{\"fill_color\":{\"value\":\"#17becf\"},\"line_color\":{\"value\":\"#17becf\"},\"size\":{\"value\":5.477225575051661},\"x\":{\"field\":\"price_change_percentage_24h\"},\"y\":{\"field\":\"price_change_percentage_7d\"}},\"id\":\"6964\",\"type\":\"Scatter\"},{\"attributes\":{\"fill_alpha\":{\"value\":0.2},\"fill_color\":{\"value\":\"#9467bd\"},\"line_alpha\":{\"value\":0.2},\"line_color\":{\"value\":\"#9467bd\"},\"size\":{\"value\":5.477225575051661},\"x\":{\"field\":\"price_change_percentage_24h\"},\"y\":{\"field\":\"price_change_percentage_7d\"}},\"id\":\"6995\",\"type\":\"Scatter\"},{\"attributes\":{\"data_source\":{\"id\":\"6750\"},\"glyph\":{\"id\":\"6753\"},\"hover_glyph\":null,\"muted_glyph\":{\"id\":\"6755\"},\"nonselection_glyph\":{\"id\":\"6754\"},\"selection_glyph\":{\"id\":\"6771\"},\"view\":{\"id\":\"6757\"}},\"id\":\"6756\",\"type\":\"GlyphRenderer\"},{\"attributes\":{\"angle\":{\"value\":0.0},\"fill_alpha\":{\"value\":1.0},\"fill_color\":{\"value\":\"#d62728\"},\"hatch_alpha\":{\"value\":1.0},\"hatch_color\":{\"value\":\"black\"},\"hatch_scale\":{\"value\":12.0},\"hatch_weight\":{\"value\":1.0},\"line_alpha\":{\"value\":1.0},\"line_cap\":{\"value\":\"butt\"},\"line_color\":{\"value\":\"#d62728\"},\"line_dash\":{\"value\":[]},\"line_dash_offset\":{\"value\":0},\"line_join\":{\"value\":\"bevel\"},\"line_width\":{\"value\":1},\"marker\":{\"value\":\"circle\"},\"size\":{\"value\":5.477225575051661},\"x\":{\"field\":\"price_change_percentage_24h\"},\"y\":{\"field\":\"price_change_percentage_7d\"}},\"id\":\"7053\",\"type\":\"Scatter\"},{\"attributes\":{\"source\":{\"id\":\"6961\"}},\"id\":\"6968\",\"type\":\"CDSView\"},{\"attributes\":{\"data\":{\"Clusters\":[0,0,0,0,0,0,0,0,0,0,0,0,0,0,0,0,0,0,0,0,0,0,0,0,0,0],\"price_change_percentage_24h\":{\"__ndarray__\":\"mCJF1OlLlj/mJRG3Ed+kv1qZGRifu9w//rJXHrAz1T/yMTqenpahPx9kk3dK7sM/GTRehHalwD90fnl54Irtv9XPDahDw9G/+VOWQSEmxz+kpbukw1bSP6eM4M4OgKo/BcMOj9+jqr/Chq6S5ebLv2h3TIfCZ68/weEQ8QyV0D/KmZTmC7niP1YH9WGFy/m/N7JuVBEB07/EU4GAhEGyv8Ocf0hw2/a/lrPBJY23/j/IKcQzxy3av5WrmDyeito/Bf22eE/6sz9Y362Ir3rzPw==\",\"dtype\":\"float64\",\"order\":\"little\",\"shape\":[26]},\"price_change_percentage_7d\":{\"__ndarray__\":\"bZSIvk+a5r9RujxqH/Ppvw2U7adXaMi/d+r7VGbW+b9EGSx/8nTnv4rfBo4Lhe2/BEBwXEEApb8Udj8VbP/2vySelkVDp9i/7SZvVsyO5r8uu+JVH+LUvziN+gRMte2/o2qlez1D3b/CtPLKIS7rvyYjaswHnea/US6joeTvzz/dRmuCvtDvv/9TV66U6fq/ZWX+mWVCuD8GJ0pHuV/Nv8nIE2ZWH5q/TTxj/me11z+Htdvf1gXtv2Avihmzf9o/e31xtwIC5r/STlu6Y3Ljvw==\",\"dtype\":\"float64\",\"order\":\"little\",\"shape\":[26]}},\"selected\":{\"id\":\"6935\"},\"selection_policy\":{\"id\":\"6959\"}},\"id\":\"6934\",\"type\":\"ColumnDataSource\"},{\"attributes\":{\"bottom_units\":\"screen\",\"fill_alpha\":0.5,\"fill_color\":\"lightgrey\",\"left_units\":\"screen\",\"level\":\"overlay\",\"line_alpha\":1.0,\"line_color\":\"black\",\"line_dash\":[4,4],\"line_width\":2,\"right_units\":\"screen\",\"syncable\":false,\"top_units\":\"screen\"},\"id\":\"6715\",\"type\":\"BoxAnnotation\"},{\"attributes\":{\"data_source\":{\"id\":\"6961\"},\"glyph\":{\"id\":\"6964\"},\"hover_glyph\":null,\"muted_glyph\":{\"id\":\"6966\"},\"nonselection_glyph\":{\"id\":\"6965\"},\"selection_glyph\":{\"id\":\"6989\"},\"view\":{\"id\":\"6968\"}},\"id\":\"6967\",\"type\":\"GlyphRenderer\"},{\"attributes\":{\"axis\":{\"id\":\"6706\"},\"dimension\":1,\"grid_line_color\":null,\"ticker\":null},\"id\":\"6709\",\"type\":\"Grid\"},{\"attributes\":{\"data_source\":{\"id\":\"6729\"},\"glyph\":{\"id\":\"6732\"},\"hover_glyph\":null,\"muted_glyph\":{\"id\":\"6734\"},\"nonselection_glyph\":{\"id\":\"6733\"},\"selection_glyph\":{\"id\":\"6749\"},\"view\":{\"id\":\"6736\"}},\"id\":\"6735\",\"type\":\"GlyphRenderer\"},{\"attributes\":{\"active_multi\":null,\"tools\":[{\"id\":\"6685\"},{\"id\":\"6710\"},{\"id\":\"6711\"},{\"id\":\"6712\"},{\"id\":\"6713\"},{\"id\":\"6714\"}]},\"id\":\"6716\",\"type\":\"Toolbar\"},{\"attributes\":{\"end\":2.2155632386560065,\"reset_end\":2.2155632386560065,\"reset_start\":-5.276792781891412,\"start\":-5.276792781891412,\"tags\":[[[\"price_change_percentage_24h\",\"price_change_percentage_24h\",null]]]},\"id\":\"6683\",\"type\":\"Range1d\"},{\"attributes\":{\"fill_alpha\":{\"value\":0.2},\"fill_color\":{\"value\":\"#17becf\"},\"line_alpha\":{\"value\":0.2},\"line_color\":{\"value\":\"#17becf\"},\"size\":{\"value\":5.477225575051661},\"x\":{\"field\":\"price_change_percentage_24h\"},\"y\":{\"field\":\"price_change_percentage_7d\"}},\"id\":\"6966\",\"type\":\"Scatter\"},{\"attributes\":{},\"id\":\"6725\",\"type\":\"AllLabels\"},{\"attributes\":{},\"id\":\"6769\",\"type\":\"UnionRenderers\"},{\"attributes\":{},\"id\":\"6797\",\"type\":\"Selection\"},{\"attributes\":{},\"id\":\"7022\",\"type\":\"Selection\"},{\"attributes\":{\"fill_alpha\":{\"value\":0.2},\"fill_color\":{\"value\":\"#30a2da\"},\"line_alpha\":{\"value\":0.2},\"line_color\":{\"value\":\"#30a2da\"},\"size\":{\"value\":5.477225575051661},\"x\":{\"field\":\"price_change_percentage_24h\"},\"y\":{\"field\":\"price_change_percentage_7d\"}},\"id\":\"6734\",\"type\":\"Scatter\"},{\"attributes\":{},\"id\":\"6728\",\"type\":\"AllLabels\"},{\"attributes\":{\"source\":{\"id\":\"6934\"}},\"id\":\"6941\",\"type\":\"CDSView\"},{\"attributes\":{\"fill_alpha\":{\"value\":0.1},\"fill_color\":{\"value\":\"#fc4f30\"},\"line_alpha\":{\"value\":0.1},\"line_color\":{\"value\":\"#fc4f30\"},\"size\":{\"value\":5.477225575051661},\"x\":{\"field\":\"price_change_percentage_24h\"},\"y\":{\"field\":\"price_change_percentage_7d\"}},\"id\":\"6754\",\"type\":\"Scatter\"},{\"attributes\":{\"data\":{\"Clusters\":[0,0,0,0,0,0,0,0,0,0,0,0,0,0,0,0,0,0,0,0,0,0,0,0,0,0],\"price_change_percentage_24h\":{\"__ndarray__\":\"mCJF1OlLlj/mJRG3Ed+kv1qZGRifu9w//rJXHrAz1T/yMTqenpahPx9kk3dK7sM/GTRehHalwD90fnl54Irtv9XPDahDw9G/+VOWQSEmxz+kpbukw1bSP6eM4M4OgKo/BcMOj9+jqr/Chq6S5ebLv2h3TIfCZ68/weEQ8QyV0D/KmZTmC7niP1YH9WGFy/m/N7JuVBEB07/EU4GAhEGyv8Ocf0hw2/a/lrPBJY23/j/IKcQzxy3av5WrmDyeito/Bf22eE/6sz9Y362Ir3rzPw==\",\"dtype\":\"float64\",\"order\":\"little\",\"shape\":[26]},\"price_change_percentage_7d\":{\"__ndarray__\":\"bZSIvk+a5r9RujxqH/Ppvw2U7adXaMi/d+r7VGbW+b9EGSx/8nTnv4rfBo4Lhe2/BEBwXEEApb8Udj8VbP/2vySelkVDp9i/7SZvVsyO5r8uu+JVH+LUvziN+gRMte2/o2qlez1D3b/CtPLKIS7rvyYjaswHnea/US6joeTvzz/dRmuCvtDvv/9TV66U6fq/ZWX+mWVCuD8GJ0pHuV/Nv8nIE2ZWH5q/TTxj/me11z+Htdvf1gXtv2Avihmzf9o/e31xtwIC5r/STlu6Y3Ljvw==\",\"dtype\":\"float64\",\"order\":\"little\",\"shape\":[26]}},\"selected\":{\"id\":\"6730\"},\"selection_policy\":{\"id\":\"6746\"}},\"id\":\"6729\",\"type\":\"ColumnDataSource\"},{\"attributes\":{\"data_source\":{\"id\":\"6934\"},\"glyph\":{\"id\":\"6937\"},\"hover_glyph\":null,\"muted_glyph\":{\"id\":\"6939\"},\"nonselection_glyph\":{\"id\":\"6938\"},\"selection_glyph\":{\"id\":\"6960\"},\"view\":{\"id\":\"6941\"}},\"id\":\"6940\",\"type\":\"GlyphRenderer\"},{\"attributes\":{\"children\":[{\"id\":\"6682\"},{\"id\":\"6693\"},{\"id\":\"7438\"}],\"margin\":[0,0,0,0],\"name\":\"Row12547\",\"tags\":[\"embedded\"]},\"id\":\"6681\",\"type\":\"Row\"},{\"attributes\":{\"fill_color\":{\"value\":\"#e5ae38\"},\"line_color\":{\"value\":\"#e5ae38\"},\"size\":{\"value\":5.477225575051661},\"x\":{\"field\":\"price_change_percentage_24h\"},\"y\":{\"field\":\"price_change_percentage_7d\"}},\"id\":\"6775\",\"type\":\"Scatter\"},{\"attributes\":{\"end\":2.997678656273595,\"reset_end\":2.997678656273595,\"reset_start\":-2.107454305728652,\"start\":-2.107454305728652,\"tags\":[[[\"price_change_percentage_7d\",\"price_change_percentage_7d\",null]]]},\"id\":\"6684\",\"type\":\"Range1d\"},{\"attributes\":{\"data\":{\"Clusters\":[1],\"price_change_percentage_24h\":{\"__ndarray__\":\"VLqXBn668D8=\",\"dtype\":\"float64\",\"order\":\"little\",\"shape\":[1]},\"price_change_percentage_7d\":{\"__ndarray__\":\"Nv03JFjJ478=\",\"dtype\":\"float64\",\"order\":\"little\",\"shape\":[1]}},\"selected\":{\"id\":\"6962\"},\"selection_policy\":{\"id\":\"6988\"}},\"id\":\"6961\",\"type\":\"ColumnDataSource\"},{\"attributes\":{},\"id\":\"6962\",\"type\":\"Selection\"},{\"attributes\":{},\"id\":\"6710\",\"type\":\"SaveTool\"},{\"attributes\":{\"fill_color\":{\"value\":\"#fc4f30\"},\"line_color\":{\"value\":\"#fc4f30\"},\"size\":{\"value\":5.477225575051661},\"x\":{\"field\":\"price_change_percentage_24h\"},\"y\":{\"field\":\"price_change_percentage_7d\"}},\"id\":\"6753\",\"type\":\"Scatter\"},{\"attributes\":{},\"id\":\"6700\",\"type\":\"LinearScale\"},{\"attributes\":{\"label\":{\"value\":\"3\"},\"renderers\":[{\"id\":\"6802\"},{\"id\":\"7027\"}]},\"id\":\"6820\",\"type\":\"LegendItem\"},{\"attributes\":{\"label\":{\"value\":\"0\"},\"renderers\":[{\"id\":\"6735\"},{\"id\":\"6940\"}]},\"id\":\"6748\",\"type\":\"LegendItem\"},{\"attributes\":{},\"id\":\"6819\",\"type\":\"UnionRenderers\"},{\"attributes\":{},\"id\":\"6793\",\"type\":\"UnionRenderers\"},{\"attributes\":{\"label\":{\"value\":\"2\"},\"renderers\":[{\"id\":\"6778\"},{\"id\":\"6996\"}]},\"id\":\"6794\",\"type\":\"LegendItem\"},{\"attributes\":{},\"id\":\"6724\",\"type\":\"BasicTickFormatter\"},{\"attributes\":{\"fill_color\":{\"value\":\"#6d904f\"},\"line_color\":{\"value\":\"#6d904f\"},\"size\":{\"value\":5.477225575051661},\"x\":{\"field\":\"price_change_percentage_24h\"},\"y\":{\"field\":\"price_change_percentage_7d\"}},\"id\":\"6799\",\"type\":\"Scatter\"},{\"attributes\":{\"overlay\":{\"id\":\"6715\"}},\"id\":\"6713\",\"type\":\"BoxZoomTool\"},{\"attributes\":{},\"id\":\"6991\",\"type\":\"Selection\"},{\"attributes\":{\"data\":{\"Clusters\":[1],\"price_change_percentage_24h\":{\"__ndarray__\":\"VLqXBn668D8=\",\"dtype\":\"float64\",\"order\":\"little\",\"shape\":[1]},\"price_change_percentage_7d\":{\"__ndarray__\":\"Nv03JFjJ478=\",\"dtype\":\"float64\",\"order\":\"little\",\"shape\":[1]}},\"selected\":{\"id\":\"6751\"},\"selection_policy\":{\"id\":\"6769\"}},\"id\":\"6750\",\"type\":\"ColumnDataSource\"},{\"attributes\":{\"fill_alpha\":{\"value\":0.1},\"fill_color\":{\"value\":\"#6d904f\"},\"line_alpha\":{\"value\":0.1},\"line_color\":{\"value\":\"#6d904f\"},\"size\":{\"value\":5.477225575051661},\"x\":{\"field\":\"price_change_percentage_24h\"},\"y\":{\"field\":\"price_change_percentage_7d\"}},\"id\":\"6800\",\"type\":\"Scatter\"},{\"attributes\":{\"angle\":{\"value\":0.0},\"fill_alpha\":{\"value\":1.0},\"fill_color\":{\"value\":\"#6d904f\"},\"hatch_alpha\":{\"value\":1.0},\"hatch_color\":{\"value\":\"black\"},\"hatch_scale\":{\"value\":12.0},\"hatch_weight\":{\"value\":1.0},\"line_alpha\":{\"value\":1.0},\"line_cap\":{\"value\":\"butt\"},\"line_color\":{\"value\":\"#6d904f\"},\"line_dash\":{\"value\":[]},\"line_dash_offset\":{\"value\":0},\"line_join\":{\"value\":\"bevel\"},\"line_width\":{\"value\":1},\"marker\":{\"value\":\"circle\"},\"size\":{\"value\":5.477225575051661},\"x\":{\"field\":\"price_change_percentage_24h\"},\"y\":{\"field\":\"price_change_percentage_7d\"}},\"id\":\"6821\",\"type\":\"Scatter\"},{\"attributes\":{\"margin\":[5,5,5,5],\"name\":\"HSpacer12552\",\"sizing_mode\":\"stretch_width\"},\"id\":\"7438\",\"type\":\"Spacer\"},{\"attributes\":{},\"id\":\"6711\",\"type\":\"PanTool\"},{\"attributes\":{\"angle\":{\"value\":0.0},\"fill_alpha\":{\"value\":1.0},\"fill_color\":{\"value\":\"#e5ae38\"},\"hatch_alpha\":{\"value\":1.0},\"hatch_color\":{\"value\":\"black\"},\"hatch_scale\":{\"value\":12.0},\"hatch_weight\":{\"value\":1.0},\"line_alpha\":{\"value\":1.0},\"line_cap\":{\"value\":\"butt\"},\"line_color\":{\"value\":\"#e5ae38\"},\"line_dash\":{\"value\":[]},\"line_dash_offset\":{\"value\":0},\"line_join\":{\"value\":\"bevel\"},\"line_width\":{\"value\":1},\"marker\":{\"value\":\"circle\"},\"size\":{\"value\":5.477225575051661},\"x\":{\"field\":\"price_change_percentage_24h\"},\"y\":{\"field\":\"price_change_percentage_7d\"}},\"id\":\"6795\",\"type\":\"Scatter\"},{\"attributes\":{\"fill_alpha\":{\"value\":0.2},\"fill_color\":{\"value\":\"#8b8b8b\"},\"line_alpha\":{\"value\":0.2},\"line_color\":{\"value\":\"#8b8b8b\"},\"size\":{\"value\":5.477225575051661},\"x\":{\"field\":\"price_change_percentage_24h\"},\"y\":{\"field\":\"price_change_percentage_7d\"}},\"id\":\"6939\",\"type\":\"Scatter\"},{\"attributes\":{\"click_policy\":\"mute\",\"items\":[{\"id\":\"6748\"},{\"id\":\"6770\"},{\"id\":\"6794\"},{\"id\":\"6820\"}],\"location\":[0,0]},\"id\":\"6747\",\"type\":\"Legend\"},{\"attributes\":{\"data\":{\"Clusters\":[3,3,3,3,3,3,3,3,3,3,3,3,3],\"price_change_percentage_24h\":{\"__ndarray__\":\"DdlqYN9F4D86azDosLzHPzALIwCtFvM/9w6McDSK7D/VDHOpb1eHPzMEvaFkP7o/Sds39trWsz9Epj8/c9DQP4xAeNEVZ8O/qq8st/Fh0L8FWWk3mH7gP6wo083aUMC//ACFOIMFwL8=\",\"dtype\":\"float64\",\"order\":\"little\",\"shape\":[13]},\"price_change_percentage_7d\":{\"__ndarray__\":\"U1k8q3mQ3z9yoPpI+ebtPzAB2dP2AQBAgmkOMZk89T8FNulI+JMEQCZRaSLGIPg/84wjaB1l1T8rMp3jf678P2VmURqKqeY/XK6ZksNx/T9DfMqy1o7dPyTPDB1Xu+0/srW7TleV4j8=\",\"dtype\":\"float64\",\"order\":\"little\",\"shape\":[13]}},\"selected\":{\"id\":\"7022\"},\"selection_policy\":{\"id\":\"7052\"}},\"id\":\"7021\",\"type\":\"ColumnDataSource\"},{\"attributes\":{\"source\":{\"id\":\"6750\"}},\"id\":\"6757\",\"type\":\"CDSView\"},{\"attributes\":{},\"id\":\"7052\",\"type\":\"UnionRenderers\"},{\"attributes\":{\"source\":{\"id\":\"6729\"}},\"id\":\"6736\",\"type\":\"CDSView\"},{\"attributes\":{\"fill_color\":{\"value\":\"#8b8b8b\"},\"line_color\":{\"value\":\"#8b8b8b\"},\"size\":{\"value\":5.477225575051661},\"x\":{\"field\":\"price_change_percentage_24h\"},\"y\":{\"field\":\"price_change_percentage_7d\"}},\"id\":\"6937\",\"type\":\"Scatter\"},{\"attributes\":{\"angle\":{\"value\":0.0},\"fill_alpha\":{\"value\":1.0},\"fill_color\":{\"value\":\"#8b8b8b\"},\"hatch_alpha\":{\"value\":1.0},\"hatch_color\":{\"value\":\"black\"},\"hatch_scale\":{\"value\":12.0},\"hatch_weight\":{\"value\":1.0},\"line_alpha\":{\"value\":1.0},\"line_cap\":{\"value\":\"butt\"},\"line_color\":{\"value\":\"#8b8b8b\"},\"line_dash\":{\"value\":[]},\"line_dash_offset\":{\"value\":0},\"line_join\":{\"value\":\"bevel\"},\"line_width\":{\"value\":1},\"marker\":{\"value\":\"circle\"},\"size\":{\"value\":5.477225575051661},\"x\":{\"field\":\"price_change_percentage_24h\"},\"y\":{\"field\":\"price_change_percentage_7d\"}},\"id\":\"6960\",\"type\":\"Scatter\"}],\"root_ids\":[\"6681\"]},\"title\":\"Bokeh Application\",\"version\":\"2.3.2\"}};\n",
       "    var render_items = [{\"docid\":\"25a2755a-3dfc-4dd4-8553-9c26c2a9a7ec\",\"root_ids\":[\"6681\"],\"roots\":{\"6681\":\"d1178299-a2d0-42c8-999d-953a26c09002\"}}];\n",
       "    root.Bokeh.embed.embed_items_notebook(docs_json, render_items);\n",
       "  }\n",
       "  if (root.Bokeh !== undefined && root.Bokeh.Panel !== undefined) {\n",
       "    embed_document(root);\n",
       "  } else {\n",
       "    var attempts = 0;\n",
       "    var timer = setInterval(function(root) {\n",
       "      if (root.Bokeh !== undefined && root.Bokeh.Panel !== undefined) {\n",
       "        clearInterval(timer);\n",
       "        embed_document(root);\n",
       "      } else if (document.readyState == \"complete\") {\n",
       "        attempts++;\n",
       "        if (attempts > 200) {\n",
       "          clearInterval(timer);\n",
       "          console.log(\"Bokeh: ERROR: Unable to run BokehJS code because BokehJS library is missing\");\n",
       "        }\n",
       "      }\n",
       "    }, 25, root)\n",
       "  }\n",
       "})(window);</script>"
      ],
      "text/plain": [
       ":Overlay\n",
       "   .NdOverlay.I  :NdOverlay   [Clusters]\n",
       "      :Scatter   [price_change_percentage_24h]   (price_change_percentage_7d)\n",
       "   .NdOverlay.II :NdOverlay   [Clusters]\n",
       "      :Scatter   [price_change_percentage_24h]   (price_change_percentage_7d)"
      ]
     },
     "execution_count": 63,
     "metadata": {
      "application/vnd.holoviews_exec.v0+json": {
       "id": "6681"
      }
     },
     "output_type": "execute_result"
    }
   ],
   "source": [
    "# Compoosite plot to contrast the clusters\n",
    "pca_scatter * scaled_scatter"
   ]
  },
  {
   "cell_type": "markdown",
   "metadata": {},
   "source": [
    "  * **Question:** After visually analyzing the cluster analysis results, what is the impact of using fewer features to cluster the data using K-Means?\n",
    "\n",
    "  * **Answer:** # "
   ]
  },
  {
   "cell_type": "code",
   "execution_count": null,
   "metadata": {},
   "outputs": [],
   "source": []
  }
 ],
 "metadata": {
  "kernelspec": {
   "display_name": "Python 3",
   "language": "python",
   "name": "python3"
  },
  "language_info": {
   "codemirror_mode": {
    "name": "ipython",
    "version": 3
   },
   "file_extension": ".py",
   "mimetype": "text/x-python",
   "name": "python",
   "nbconvert_exporter": "python",
   "pygments_lexer": "ipython3",
   "version": "3.7.10"
  }
 },
 "nbformat": 4,
 "nbformat_minor": 4
}
